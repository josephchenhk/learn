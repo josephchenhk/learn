{
 "cells": [
  {
   "cell_type": "markdown",
   "source": [
    "<h1 style=\"color:orange\">\n",
    "    <a name=\"top\"></a> BQFactor Tutorial\n",
    "</h1>\n",
    "\n",
    "<h2 style=\"color:orange\">\n",
    "    <a name=\"create context\"></a>Create context\n",
    "</h2>\n",
    "\n",
    "```python\n",
    "import bql\n",
    "\n",
    "bq = bql.Service(preferences={'currencyCheck': 'when_available'})\n",
    "context = bqfactor.create_analysis_context(universe, backtest_dates, bq, currency='HKD')\n",
    "```"
   ],
   "metadata": {
    "collapsed": false
   }
  },
  {
   "cell_type": "markdown",
   "source": [
    "<h2 style=\"color:orange\">\n",
    "    <a name=\"construct factors\"></a>Construct factors\n",
    "</h2>\n",
    "\n",
    "```python\n",
    "earnings_0Y = bq.data.net_income(fpt='A',fpo='0',currency='HKD')\n",
    "earnings_est = bq.data.net_income(fpt='A',fpo='1',currency='HKD')\n",
    "equity = bq.data.TOT_COMMON_EQY(currency='HKD')   # latest total equity\n",
    "roe = (earnings_0Y+earnings_est)/equity           # new roe ratio\n",
    "pb = bq.data.PX_TO_BOOK_RATIO(fill=\"prev\")        # latest pb ratio\n",
    "\n",
    "factors = {\n",
    "    'roe':my_transforms.ZScore(bq, roe),\n",
    "    'pb' :my_transforms.ZScore(bq, pb),\n",
    "}\n",
    "```"
   ],
   "metadata": {
    "collapsed": false
   }
  },
  {
   "cell_type": "markdown",
   "source": [
    "<h2 style=\"color:orange\">\n",
    "    <a name=\"explore factors\"></a>Calculate factors\n",
    "</h2>\n",
    "\n",
    "```python\n",
    "explored_data = context.explore(factors, tab_title='Factors explorer')\n",
    "```\n",
    "\n",
    "Here the returned variable `explored_data` is of type `dataexplorer.data_explorer_widget.DataExplorer`."
   ],
   "metadata": {
    "collapsed": false
   }
  },
  {
   "cell_type": "markdown",
   "source": [
    "<h2 style=\"color:orange\">Portfolio Construction</h2>\n",
    "\n",
    "<h3 style=\"color:orange\">a. Create long-only model portfolio</h3>\n",
    "\n",
    "We construct <code>long_short_returns</code>, which has a weighting function with the strategy of going long the top quantile, going short the bottom quantile. This weighting function is provided by bqfactor: <code>bqw.top_bottom_quantile</code>.\n",
    "\n",
    "```python\n",
    "import bqfactor.reports as bqr\n",
    "import bqfactor.weighting_functions as bqw\n",
    "\n",
    "ls_weights = bqr.LongShortPortfolioWeights(weight_function=bqw.top_bottom_quantile)\n",
    "long_short_returns = bqr.PortfolioReturns(ls_weights, cumulative=False)\n",
    "```\n",
    "\n",
    "<h3 style=\"color:orange\">b. Customize weight transformation function</h3>\n",
    "\n",
    "Below shows how to create a new weighting function which sets weights to 0 if 20D return is negative, and equally weighted the rest of the securities.\n",
    "\n",
    "```python\n",
    "from bqfactor import create_rebalancing_config\n",
    "\n",
    "# declare a default portfolio\n",
    "default_portfolio = bqr.LongOnlyPortfolioWeights(weight_function=bqw.top_bottom_quantile)\n",
    "\n",
    "# build a custom  rebalancing config\n",
    "rebal_config = create_rebalancing_config(bq)\n",
    "\n",
    "# give config access to market cap data\n",
    "mkt_cap_data_dict = {'market_cap': bq.data.cur_mkt_cap()}\n",
    "rebal_config = rebal_config.with_bql_data(mkt_cap_data_dict)\n",
    "\n",
    "# function to weight the StrategyPortfolio by market cap\n",
    "def weight_by_mkt_cap(date, target_weights, backtest):\n",
    "    mkt_cap = backtest.data.get('market_cap')['value']\n",
    "    prev_weights = target_weights.get_weights(include_cash=False)['weight']\n",
    "    new_weights = mkt_cap / mkt_cap.sum()\n",
    "    return target_weights.with_noncash_positions(new_weights)\n",
    "\n",
    "# assign function to config\n",
    "rebal_config = rebal_config.with_weight_transformations({'market_cap': weight_by_mkt_cap})\n",
    "\n",
    "# declare a new StrategyPortfolio\n",
    "mkt_cap_weighted_port = bqr.StrategyPortfolio(default_portfolio, rebal_config)\n",
    "```"
   ],
   "metadata": {
    "collapsed": false
   }
  },
  {
   "cell_type": "markdown",
   "source": [
    "<h2 style=\"color: orange;\">Construct portfolio using a risk model and optimizer</h2>"
   ],
   "metadata": {
    "collapsed": false
   }
  },
  {
   "cell_type": "code",
   "execution_count": null,
   "outputs": [],
   "source": [],
   "metadata": {
    "collapsed": false
   }
  }
 ],
 "metadata": {
  "kernelspec": {
   "display_name": "Python 3",
   "language": "python",
   "name": "python3"
  },
  "language_info": {
   "codemirror_mode": {
    "name": "ipython",
    "version": 2
   },
   "file_extension": ".py",
   "mimetype": "text/x-python",
   "name": "python",
   "nbconvert_exporter": "python",
   "pygments_lexer": "ipython2",
   "version": "2.7.6"
  }
 },
 "nbformat": 4,
 "nbformat_minor": 0
}
