{
 "cells": [
  {
   "cell_type": "markdown",
   "metadata": {
    "collapsed": true,
    "pycharm": {
     "name": "#%% md\n"
    }
   },
   "source": [
    "<h1 style=\"color:orange\"> Jupyter Notebook </h1>"
   ]
  },
  {
   "cell_type": "markdown",
   "source": [
    "---\n",
    "<h2 style=\"color:orange\"> Jupyter Notebook Kernels: How to Add, Change, Remove <h2>\n",
    "\n",
    "Ref: [Jupyter Notebook Kernels: How to Add, Change, Remove](https://queirozf.com/entries/jupyter-kernels-how-to-add-change-remove)\n",
    "\n",
    "<h3 style=\"color:orange\">1. Add Virtualenv as Python Kernel <h3>\n",
    "\n",
    "```shell\n",
    "# Activate the virtualenv\n",
    "$ source your-venv/bin/activate\n",
    "\n",
    "# Install jupyter in the virtualenv\n",
    "(your-venv)$ pip install jupyter\n",
    "\n",
    "# Install ipykernel in the virtualenv\n",
    "(your-venv)$ conda install ipykernel / pip install ipykernel\n",
    "\n",
    "# Add the virtualenv as a jupyter kernel\n",
    "(your-venv)$ ipython kernel install --name \"local-venv\" --user\n",
    "```"
   ],
   "metadata": {
    "collapsed": false,
    "pycharm": {
     "name": "#%% md\n"
    }
   }
  }
 ],
 "metadata": {
  "kernelspec": {
   "display_name": "Python 3",
   "language": "python",
   "name": "python3"
  },
  "language_info": {
   "codemirror_mode": {
    "name": "ipython",
    "version": 2
   },
   "file_extension": ".py",
   "mimetype": "text/x-python",
   "name": "python",
   "nbconvert_exporter": "python",
   "pygments_lexer": "ipython2",
   "version": "2.7.6"
  }
 },
 "nbformat": 4,
 "nbformat_minor": 0
}
