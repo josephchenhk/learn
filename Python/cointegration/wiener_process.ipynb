{
 "cells": [
  {
   "cell_type": "markdown",
   "id": "98afbebd",
   "metadata": {},
   "source": [
    "[从布朗运动到维纳过程](https://zhuanlan.zhihu.com/p/157543046)\n",
    "\n",
    "布朗运动 = 随机过程\n",
    "\n",
    "随机过程 + 未来与历史无关 = 马尔科夫过程\n",
    "\n",
    "马尔科夫过程 + 单位时间变化的期望服从标准正态分布 = 维纳过程\n",
    "\n",
    "维纳过程 + 趋势项 = 广义维纳过程"
   ]
  },
  {
   "cell_type": "markdown",
   "id": "7f56c229",
   "metadata": {},
   "source": [
    "# From Brownian Motion to Wiener Process"
   ]
  },
  {
   "cell_type": "markdown",
   "id": "3ad03f83",
   "metadata": {},
   "source": [
    "# Brownian Motion"
   ]
  },
  {
   "cell_type": "markdown",
   "id": "75f52bca",
   "metadata": {},
   "source": [
    "**Random Walk** is a stochastic process in a *discrete* space; and **Brownian Motion**, is a stochastic process in a *continuous* space. Suppose our space is integer space, we can use the following code to generate a Brownian motion:"
   ]
  },
  {
   "cell_type": "code",
   "execution_count": 6,
   "id": "a03765fc",
   "metadata": {},
   "outputs": [],
   "source": [
    "import numpy as np\n",
    "\n",
    "def Brownian_motion_generator(initial_condition:int, step:int, boundary:int):  \n",
    "    assert step>0, \"step should be positive\"\n",
    "    assert boundary>0, \"boundary should be positive\"\n",
    "    assert isinstance(initial_condition, int), \"initial_condition should be an integer\"\n",
    "    random_int_list = [initial_condition]\n",
    "    for _ in range(step-1):\n",
    "        random_int_list.append(random_int_list[-1] + np.random.randint((-1)*boundary, boundary+1))\n",
    "    return random_int_list"
   ]
  },
  {
   "cell_type": "markdown",
   "id": "7af4536d",
   "metadata": {},
   "source": [
    "we can have a direct impression of Brownian motion by ploting the 2D scatters:"
   ]
  },
  {
   "cell_type": "code",
   "execution_count": 24,
   "id": "385846dc",
   "metadata": {},
   "outputs": [
    {
     "data": {
      "image/png": "[encoded data removed]",
      "text/plain": [
       "<Figure size 432x288 with 1 Axes>"
      ]
     },
     "metadata": {
      "needs_background": "light"
     },
     "output_type": "display_data"
    }
   ],
   "source": [
    "import matplotlib.pyplot as plt\n",
    "\n",
    "np.random.seed(2021)\n",
    "X = Brownian_motion_generator(0, 100, 3)\n",
    "Y = Brownian_motion_generator(0, 100, 3)\n",
    "plt.plot(X,Y)\n",
    "plt.title('Simulations of Brownian Motion')\n",
    "plt.xlabel('X scale')\n",
    "plt.ylabel('Y scale')\n",
    "plt.show()"
   ]
  },
  {
   "cell_type": "markdown",
   "id": "c3a7da60",
   "metadata": {},
   "source": [
    "# Arithmetic Brownian and Geometric Brownian"
   ]
  },
  {
   "cell_type": "markdown",
   "id": "2017d477",
   "metadata": {},
   "source": [
    "The <span style=\"color:blue\">**arithmetic Brownian motion**</span> (with drift) is the solution of\n",
    "\n",
    "$$\n",
    "dX_t = \\alpha dt + \\sigma dW_t\n",
    "$$\n",
    "\n",
    "with initial condition $X_0 = x_0$. It can be obtained from direct integration of the stochastic differential equation\n",
    "\n",
    "$$\n",
    "X_t =x_0 +\\alpha t+\\sigma W_t\n",
    "$$"
   ]
  },
  {
   "cell_type": "markdown",
   "id": "8858a6b5",
   "metadata": {},
   "source": [
    "The <span style=\"color:blue\">**geometric Brownian motion**</span> (GBM) can be derived from the arithmetic Brownian motion by defining $Y_t = e^{X_t}$ and using $\\text{It}\\hat{\\text{o}}$’s lemma\n",
    "\n",
    "$$\n",
    "dY_t = \\left(\\alpha Y_t + \\frac{\\sigma^2}{2} Y_t \\right)dt + \\sigma Y_t dW_t\n",
    "$$\n",
    "\n",
    "with initial condition $Y_0 = y_0$. The solution can then be found by using the solution of the arithmetic Brownian motion\n",
    "\n",
    "$$\n",
    "Y_t =y_0 e^{\\left(\\mu - \\frac{\\sigma^2}{2}\\right) t+\\sigma W_t}\n",
    "$$\n",
    "\n",
    "One of the main feature of the geometric Brownian motion is proportionality of the drift term to $Y_t$ itself."
   ]
  },
  {
   "cell_type": "code",
   "execution_count": null,
   "id": "7a825310",
   "metadata": {},
   "outputs": [],
   "source": []
  },
  {
   "cell_type": "code",
   "execution_count": null,
   "id": "eed39148",
   "metadata": {},
   "outputs": [],
   "source": []
  },
  {
   "cell_type": "code",
   "execution_count": null,
   "id": "74e1f0c6",
   "metadata": {},
   "outputs": [],
   "source": []
  },
  {
   "cell_type": "markdown",
   "id": "85557382",
   "metadata": {},
   "source": [
    "# Markov Process"
   ]
  },
  {
   "cell_type": "markdown",
   "id": "2acbe61b",
   "metadata": {},
   "source": [
    "A **Markov process** is a random process in which the future is independent of the past, given the present. Thus, Markov processes are the natural stochastic analogs of the deterministic processes described by differential and difference equations. \n",
    "\n",
    "Markov process is a special form of Brownian motion (random processes). It states that the future observation only depends on the current observation, but has nothing to do with the historical observations, i.e., in mathematical form:\n",
    "\n",
    "$$\n",
    "dX_t = X_t - X_{t-1} = f(X_{t-1}) \\space\\space [\\textbf{has nothing to do with} X_{t-2}, X_{t-3}, ...]\n",
    "$$"
   ]
  },
  {
   "cell_type": "markdown",
   "id": "75850b20",
   "metadata": {},
   "source": [
    "# Wiener Process"
   ]
  },
  {
   "cell_type": "markdown",
   "id": "4b96a410",
   "metadata": {},
   "source": [
    "**Wiener process** is a real valued continuous-time stochastic process named in honor of American mathematician Norbert Wiener for his investigations on the mathematical properties of the one-dimensional Brownian motion. It is often also called Brownian motion due to its historical connection with the physical process of the same name originally observed by Scottish botanist Robert Brown.\n",
    "\n",
    "But strictly speaking, \n",
    "\n",
    "* Brownian motion = random process (in continuous space)\n",
    "\n",
    "* Brownian motion + history independent = Markov Process\n",
    "\n",
    "* Markov process + $\\Delta X_t$ ~ $N(0, \\Delta t)$ = Wiener Process\n",
    "\n",
    "$$\n",
    "\\Delta z = \\epsilon \\sqrt{\\Delta t}, \\text{ with } \\epsilon \\sim N(0, 1)\n",
    "$$\n",
    "\n",
    "* Wiener process + drift term = (Generalized) Wiener Process\n",
    "\n",
    "$$\n",
    "\\Delta z = \\mu \\Delta t + \\sigma\\epsilon \\sqrt{\\Delta t}, \\text{ with } \\epsilon \\sim N(0, 1)\n",
    "$$"
   ]
  },
  {
   "cell_type": "markdown",
   "id": "6a61c02d",
   "metadata": {},
   "source": [
    "There are two properties a Wiener process must meet:\n",
    "    \n",
    "1. <span style=\"color:blue\">**normal distribution of increments**</span>: for all $\\Delta t$, the increment $\\Delta z$ follows a normal distribution with mean=0, and std=$\\Delta t$\n",
    "\n",
    "2. <span style=\"color:blue\">**independence of increments**</span>: for ${\\forall} \\Delta t_1 \\neq \\Delta t_2$, $\\Delta z_1$ is independent of $\\Delta z_2$ "
   ]
  },
  {
   "cell_type": "markdown",
   "id": "dee8a384",
   "metadata": {},
   "source": [
    "From the definition above, we have a conclusion that\n",
    "\n",
    "<span style=\"color:green\">**The variance of a Wiener process is proportional to the time interval**</span>\n",
    "\n",
    "$$\n",
    "\\textbf{Var}(\\Delta z) \\propto \\Delta t\n",
    "$$"
   ]
  },
  {
   "cell_type": "markdown",
   "id": "b137e535",
   "metadata": {},
   "source": [
    "### Proof:\n",
    "\n",
    "$$\n",
    "\\begin{align}\n",
    "\\textbf{Var}(\\Delta z) \n",
    "&= \\textbf{Var}(\\mu \\Delta t + \\sigma\\epsilon \\sqrt{\\Delta t}) \\\\\n",
    "&= \\textbf{Var}(\\mu \\Delta t) + \\textbf{Var}(\\sigma\\epsilon \\sqrt{\\Delta t}) \\\\\n",
    "&= 0 + \\sigma^2 \\cdot \\Delta t \\cdot \\textbf{Var}(\\epsilon) \\\\\n",
    "&= 0 + \\sigma^2 \\cdot \\Delta t \\cdot 1 \\\\\n",
    "&= \\sigma^2 \\cdot \\Delta t \\propto \\Delta t\n",
    "\\end{align}\n",
    "$$"
   ]
  },
  {
   "cell_type": "code",
   "execution_count": 15,
   "id": "f059b5c0",
   "metadata": {},
   "outputs": [],
   "source": [
    "import numpy as np\n",
    "\n",
    "def Wiener_process_generator(initial_condition:int, step:int, drift_rate:float, delta_t:float, sigma:float):    \n",
    "    random_int_list = [initial_condition]\n",
    "    for _ in range(0,step-1):\n",
    "        random_int_list.append(random_int_list[-1] + drift_rate*delta_t + sigma*np.sqrt(delta_t)*np.random.normal(0, 1))\n",
    "    return random_int_list"
   ]
  },
  {
   "cell_type": "code",
   "execution_count": 27,
   "id": "1178d3f5",
   "metadata": {},
   "outputs": [
    {
     "data": {
      "image/png": "[encoded data removed]",
      "text/plain": [
       "<Figure size 432x288 with 1 Axes>"
      ]
     },
     "metadata": {
      "needs_background": "light"
     },
     "output_type": "display_data"
    }
   ],
   "source": [
    "step = 200\n",
    "initial_condition = 0\n",
    "drift_rate = 0.01\n",
    "delta_t = 0.1\n",
    "sigma = 0.02\n",
    "np.random.seed(2022)\n",
    "\n",
    "X = [i for i in range(step)]\n",
    "Y = Wiener_process_generator(initial_condition, step, drift_rate, delta_t, sigma)\n",
    "\n",
    "plt.plot(X,Y)\n",
    "\n",
    "plt.title('Simulations of Wiener Process within drift rate: %.2f , and Gaussian distribution.' % (drift_rate))\n",
    "plt.xlabel('X scale')\n",
    "plt.ylabel('Y scale')\n",
    "plt.show()"
   ]
  },
  {
   "cell_type": "code",
   "execution_count": null,
   "id": "a870c002",
   "metadata": {},
   "outputs": [],
   "source": []
  },
  {
   "cell_type": "code",
   "execution_count": null,
   "id": "efad3247",
   "metadata": {},
   "outputs": [],
   "source": []
  }
 ],
 "metadata": {
  "kernelspec": {
   "display_name": "Python 3",
   "language": "python",
   "name": "python3"
  },
  "language_info": {
   "codemirror_mode": {
    "name": "ipython",
    "version": 3
   },
   "file_extension": ".py",
   "mimetype": "text/x-python",
   "name": "python",
   "nbconvert_exporter": "python",
   "pygments_lexer": "ipython3",
   "version": "3.8.5"
  }
 },
 "nbformat": 4,
 "nbformat_minor": 5
}
