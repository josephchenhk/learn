{
 "cells": [
  {
   "cell_type": "markdown",
   "id": "a5cd953c",
   "metadata": {},
   "source": [
    "<center> <h1>Python基础知识</h1> </center>"
   ]
  },
  {
   "cell_type": "markdown",
   "id": "6b8d093e",
   "metadata": {},
   "source": [
    "<p style=\"text-align: right\"> Aug 4th, 2021 </p>"
   ]
  },
  {
   "cell_type": "code",
   "execution_count": 43,
   "id": "21dac8eb",
   "metadata": {},
   "outputs": [],
   "source": [
    "from IPython.display import Image"
   ]
  },
  {
   "cell_type": "markdown",
   "id": "06c1d623",
   "metadata": {},
   "source": [
    "<center> <h2>Python基本数据类型</h2> </center>"
   ]
  },
  {
   "cell_type": "markdown",
   "id": "5d15be67",
   "metadata": {},
   "source": [
    "Python 里面有自己的内置数据类型 (build-in data type)，本节介绍基本的三种，分别是整型 (int)，浮点型 (float)，和布尔型 (bool)。"
   ]
  },
  {
   "cell_type": "markdown",
   "id": "8c913fa4",
   "metadata": {},
   "source": [
    "### 整型"
   ]
  },
  {
   "cell_type": "code",
   "execution_count": 4,
   "id": "20d20564",
   "metadata": {},
   "outputs": [
    {
     "name": "stdout",
     "output_type": "stream",
     "text": [
      "1024 <class 'int'>\n"
     ]
    }
   ],
   "source": [
    "a = 1024\n",
    "print(a, type(a))"
   ]
  },
  {
   "cell_type": "markdown",
   "id": "09711665",
   "metadata": {},
   "source": [
    "通过 print 的可看出 a 的值，以及类 (class) 是 int。Python 里面<font color=\"pink\"><b>万物皆对象(object)</b></font>，「整数」也不例外，只要是对象，就有相应的属性 (attributes) 和方法 (methods)。\n",
    "\n",
    "通过 dir( X ) 和help( X ) 可看出 X 对应的对象里可用的属性和方法。\n",
    "\n",
    "* X 是 int，那么就是 int 的属性和方法\n",
    "\n",
    "* X 是 float，那么就是 float 的属性和方法\n",
    "\n",
    "等等"
   ]
  },
  {
   "cell_type": "code",
   "execution_count": 7,
   "id": "8af10752",
   "metadata": {},
   "outputs": [
    {
     "data": {
      "text/plain": [
       "True"
      ]
     },
     "execution_count": 7,
     "metadata": {},
     "output_type": "execute_result"
    }
   ],
   "source": [
    "dir(a)==dir(int)"
   ]
  },
  {
   "cell_type": "code",
   "execution_count": 8,
   "id": "755979ac",
   "metadata": {},
   "outputs": [
    {
     "data": {
      "text/plain": [
       "['__abs__',\n",
       " '__add__',\n",
       " '__and__',\n",
       " '__bool__',\n",
       " '__ceil__',\n",
       " '__class__',\n",
       " '__delattr__',\n",
       " '__dir__',\n",
       " '__divmod__',\n",
       " '__doc__',\n",
       " '__eq__',\n",
       " '__float__',\n",
       " '__floor__',\n",
       " '__floordiv__',\n",
       " '__format__',\n",
       " '__ge__',\n",
       " '__getattribute__',\n",
       " '__getnewargs__',\n",
       " '__gt__',\n",
       " '__hash__',\n",
       " '__index__',\n",
       " '__init__',\n",
       " '__init_subclass__',\n",
       " '__int__',\n",
       " '__invert__',\n",
       " '__le__',\n",
       " '__lshift__',\n",
       " '__lt__',\n",
       " '__mod__',\n",
       " '__mul__',\n",
       " '__ne__',\n",
       " '__neg__',\n",
       " '__new__',\n",
       " '__or__',\n",
       " '__pos__',\n",
       " '__pow__',\n",
       " '__radd__',\n",
       " '__rand__',\n",
       " '__rdivmod__',\n",
       " '__reduce__',\n",
       " '__reduce_ex__',\n",
       " '__repr__',\n",
       " '__rfloordiv__',\n",
       " '__rlshift__',\n",
       " '__rmod__',\n",
       " '__rmul__',\n",
       " '__ror__',\n",
       " '__round__',\n",
       " '__rpow__',\n",
       " '__rrshift__',\n",
       " '__rshift__',\n",
       " '__rsub__',\n",
       " '__rtruediv__',\n",
       " '__rxor__',\n",
       " '__setattr__',\n",
       " '__sizeof__',\n",
       " '__str__',\n",
       " '__sub__',\n",
       " '__subclasshook__',\n",
       " '__truediv__',\n",
       " '__trunc__',\n",
       " '__xor__',\n",
       " 'as_integer_ratio',\n",
       " 'bit_length',\n",
       " 'conjugate',\n",
       " 'denominator',\n",
       " 'from_bytes',\n",
       " 'imag',\n",
       " 'numerator',\n",
       " 'real',\n",
       " 'to_bytes']"
      ]
     },
     "execution_count": 8,
     "metadata": {},
     "output_type": "execute_result"
    }
   ],
   "source": [
    "dir(a)"
   ]
  },
  {
   "cell_type": "markdown",
   "id": "f2a55af5",
   "metadata": {},
   "source": [
    "带下划线的是 int 对象的可用方法，不带下划线的是 int 对象的可用属性。看个bit_length的例子"
   ]
  },
  {
   "cell_type": "code",
   "execution_count": 14,
   "id": "88c4e61d",
   "metadata": {},
   "outputs": [
    {
     "data": {
      "text/plain": [
       "11"
      ]
     },
     "execution_count": 14,
     "metadata": {},
     "output_type": "execute_result"
    }
   ],
   "source": [
    "a.bit_length()"
   ]
  },
  {
   "cell_type": "markdown",
   "id": "df06f048",
   "metadata": {},
   "source": [
    "该函数是找到一个整数的二进制表示，再返回其长度。在本例中 $a = 1024 = 2^{10}$, 其二进制表示为 '10000000000' ，长度为 11。"
   ]
  },
  {
   "cell_type": "code",
   "execution_count": 17,
   "id": "f8e93b1e",
   "metadata": {},
   "outputs": [
    {
     "data": {
      "text/plain": [
       "1026"
      ]
     },
     "execution_count": 17,
     "metadata": {},
     "output_type": "execute_result"
    }
   ],
   "source": [
    "a.__add__(2)"
   ]
  },
  {
   "cell_type": "markdown",
   "id": "50a92db0",
   "metadata": {},
   "source": [
    "$__add__$函数代表的意义就是加法，和 $a+2$ 得到的结果是一样的。"
   ]
  },
  {
   "cell_type": "markdown",
   "id": "e1ca4e98",
   "metadata": {},
   "source": [
    "### 浮点型"
   ]
  },
  {
   "cell_type": "markdown",
   "id": "c4dbc861",
   "metadata": {},
   "source": [
    "简单来说，浮点型 (float) 数就是实数， 例子如下："
   ]
  },
  {
   "cell_type": "code",
   "execution_count": 20,
   "id": "5389c38e",
   "metadata": {},
   "outputs": [
    {
     "name": "stdout",
     "output_type": "stream",
     "text": [
      "1 <class 'int'>\n",
      "1.0 <class 'float'>\n"
     ]
    }
   ],
   "source": [
    "print(1, type(1))\n",
    "print(1., type(1.))"
   ]
  },
  {
   "cell_type": "markdown",
   "id": "a1525dca",
   "metadata": {},
   "source": [
    "加一个小数点 . 就可以创建 float，不能再简单。有时候我们想保留浮点型的小数点后 n 位。可以用 decimal 包里的 Decimal 对象和 getcontext() 方法来实现。"
   ]
  },
  {
   "cell_type": "code",
   "execution_count": 21,
   "id": "600e9a4a",
   "metadata": {},
   "outputs": [
    {
     "data": {
      "text/plain": [
       "Context(prec=28, rounding=ROUND_HALF_EVEN, Emin=-999999, Emax=999999, capitals=1, clamp=0, flags=[], traps=[InvalidOperation, DivisionByZero, Overflow])"
      ]
     },
     "execution_count": 21,
     "metadata": {},
     "output_type": "execute_result"
    }
   ],
   "source": [
    "import decimal\n",
    "from decimal import Decimal\n",
    "\n",
    "decimal.getcontext()"
   ]
  },
  {
   "cell_type": "markdown",
   "id": "c9803285",
   "metadata": {},
   "source": [
    "getcontext() 显示了 Decimal 对象的默认精度值是 28 位 (prec=28)。让我们看看 1/3 的保留 28 位长什么样？"
   ]
  },
  {
   "cell_type": "code",
   "execution_count": 22,
   "id": "1795f6e0",
   "metadata": {},
   "outputs": [
    {
     "data": {
      "text/plain": [
       "Decimal('0.3333333333333333333333333333')"
      ]
     },
     "execution_count": 22,
     "metadata": {},
     "output_type": "execute_result"
    }
   ],
   "source": [
    "d = Decimal(1) / Decimal(3)\n",
    "d"
   ]
  },
  {
   "cell_type": "markdown",
   "id": "e9979817",
   "metadata": {},
   "source": [
    "那保留 4 位呢？用 getcontext().prec 来调整精度。"
   ]
  },
  {
   "cell_type": "code",
   "execution_count": 23,
   "id": "19fb72b0",
   "metadata": {},
   "outputs": [
    {
     "data": {
      "text/plain": [
       "Decimal('0.3333')"
      ]
     },
     "execution_count": 23,
     "metadata": {},
     "output_type": "execute_result"
    }
   ],
   "source": [
    "decimal.getcontext().prec = 4 \n",
    "e = Decimal(1) / Decimal(3)\n",
    "e"
   ]
  },
  {
   "cell_type": "markdown",
   "id": "53b2ac72",
   "metadata": {},
   "source": [
    "高精度的 float 加上低精度的 float，保持了高精度"
   ]
  },
  {
   "cell_type": "code",
   "execution_count": 24,
   "id": "65156b46",
   "metadata": {},
   "outputs": [
    {
     "data": {
      "text/plain": [
       "Decimal('0.6666333333333333333333333333')"
      ]
     },
     "execution_count": 24,
     "metadata": {},
     "output_type": "execute_result"
    }
   ],
   "source": [
    "d + e"
   ]
  },
  {
   "cell_type": "markdown",
   "id": "d5e02826",
   "metadata": {},
   "source": [
    "### 布尔型"
   ]
  },
  {
   "cell_type": "markdown",
   "id": "8773addd",
   "metadata": {},
   "source": [
    "布尔 (boolean) 型变量只能取两个值，True 和 False。当把布尔变量用在数字运算中，用 1 和 0 代表 True 和 False。"
   ]
  },
  {
   "cell_type": "code",
   "execution_count": 25,
   "id": "af328922",
   "metadata": {},
   "outputs": [
    {
     "name": "stdout",
     "output_type": "stream",
     "text": [
      "3\n",
      "-8\n"
     ]
    }
   ],
   "source": [
    "T = True\n",
    "F = False\n",
    "print( T + 2 )\n",
    "print( F - 8 )"
   ]
  },
  {
   "cell_type": "markdown",
   "id": "40b76064",
   "metadata": {},
   "source": [
    "除了直接给变量赋值 True 和 False，还可以用 bool(X) 来创建变量，其中 X 可以是\n",
    "\n",
    "* <font color=\"pink\"><b>基本类型</b></font>：整型、浮点型、布尔型\n",
    "\n",
    "* <font color=\"pink\"><b>容器类型</b></font>：字符、元组、列表、字典和集合\n",
    "\n",
    "bool 作用在<font color=\"pink\"><b>基本类型变量</b></font>的总结：X 只要不是整型 0、浮点型 0.0，bool(X) 就是 True，其余就是 False。\n",
    "\n",
    "bool 作用在<font color=\"pink\"><b>容器类型变量</b></font>的总结：X 只要不是空的变量，bool(X) 就是 True，其余就是 False。"
   ]
  },
  {
   "cell_type": "code",
   "execution_count": 26,
   "id": "238b977b",
   "metadata": {},
   "outputs": [
    {
     "name": "stdout",
     "output_type": "stream",
     "text": [
      "<class 'int'> False True\n",
      "<class 'float'> False True\n",
      "<class 'bool'> False True\n"
     ]
    }
   ],
   "source": [
    "print( type(0), bool(0), bool(1) )\n",
    "print( type(10.31), bool(0.00), bool(10.31) )\n",
    "print( type(True), bool(False), bool(True) )"
   ]
  },
  {
   "cell_type": "code",
   "execution_count": 27,
   "id": "2ddc31b7",
   "metadata": {},
   "outputs": [
    {
     "name": "stdout",
     "output_type": "stream",
     "text": [
      "<class 'str'> False True\n",
      "<class 'tuple'> False True\n",
      "<class 'list'> False True\n",
      "<class 'dict'> False True\n",
      "<class 'set'> False True\n"
     ]
    }
   ],
   "source": [
    "print( type(''), bool( '' ), bool( 'python' ) )\n",
    "print( type(()), bool( () ), bool( (10,) ) )\n",
    "print( type([]), bool( [] ), bool( [1,2] ) )\n",
    "print( type({}), bool( {} ), bool( {'a':1, 'b':2} ) )\n",
    "print( type(set()), bool( set() ), bool( {1,2} ) )"
   ]
  },
  {
   "cell_type": "markdown",
   "id": "581c6538",
   "metadata": {},
   "source": [
    "<center> <h2>Python容器数据类型</h2> </center>"
   ]
  },
  {
   "cell_type": "markdown",
   "id": "f2042b94",
   "metadata": {},
   "source": [
    "上节介绍的整型、浮点型和布尔型都可以看成是单独数据，而这些数据都可以放在一个容器里得到一个「容器类型」的数据，比如：\n",
    "\n",
    "* 字符 (str) 是一容器的字节 char，注意 Python 里面没有 char 类型的数据，可以把单字符的 str 当做 char。\n",
    "\n",
    "* 元组 (tuple)、列表 (list)、字典 (dict) 和集合 (set) 是一容器的任何类型变量。"
   ]
  },
  {
   "cell_type": "markdown",
   "id": "feb1bd7e",
   "metadata": {},
   "source": [
    "### 字符"
   ]
  },
  {
   "cell_type": "markdown",
   "id": "41c67555",
   "metadata": {},
   "source": [
    "字符用于处理文本 (text) 数据，用「单引号 '」和「双引号 \"」来定义都可以。"
   ]
  },
  {
   "cell_type": "code",
   "execution_count": 30,
   "id": "9db3203a",
   "metadata": {},
   "outputs": [
    {
     "name": "stdout",
     "output_type": "stream",
     "text": [
      "i love Python! <class 'str'>\n",
      "I love Python! <class 'str'>\n"
     ]
    }
   ],
   "source": [
    "t1 = 'i love Python!'\n",
    "print( t1, type(t1) )\n",
    "t2 = \"I love Python!\"\n",
    "print( t2, type(t2) )"
   ]
  },
  {
   "cell_type": "markdown",
   "id": "10c7623c",
   "metadata": {},
   "source": [
    "字符中常见的内置方法 (可以用 dir(str) 来查) 有\n",
    "\n",
    "* capitalize()：大写句首的字母\n",
    "\n",
    "* split()：把句子分成单词\n",
    "\n",
    "* find(x)：找到给定词 x 在句中的索引，找不到返回 -1\n",
    "\n",
    "* replace(x, y)：把句中 x 替代成 y\n",
    "\n",
    "* strip(x)：删除句首或句末含 x 的部分"
   ]
  },
  {
   "cell_type": "code",
   "execution_count": 41,
   "id": "14d6cf88",
   "metadata": {},
   "outputs": [
    {
     "name": "stdout",
     "output_type": "stream",
     "text": [
      "I love python!\n",
      "['i', 'love', 'Python!']\n",
      "2\n",
      "-1\n",
      "i love BOC!\n",
      " love Python!\n",
      "i love Python\n",
      "i love Python!\n"
     ]
    }
   ],
   "source": [
    "print(t1.capitalize())\n",
    "print(t1.split())\n",
    "print(t1.find(\"love\"))\n",
    "print(t1.find(\"like\"))\n",
    "print(t1.replace( 'love Python', 'love BOC' ))\n",
    "print(t1.strip(\"i\"))\n",
    "print(t1.strip(\"!\"))\n",
    "print(t1.strip(\"?\"))"
   ]
  },
  {
   "cell_type": "markdown",
   "id": "12ecdc17",
   "metadata": {},
   "source": [
    "**索引和切片**可以操作如下："
   ]
  },
  {
   "cell_type": "code",
   "execution_count": 42,
   "id": "8a79fc2c",
   "metadata": {},
   "outputs": [
    {
     "name": "stdout",
     "output_type": "stream",
     "text": [
      "Python\n",
      "th\n",
      "yth\n",
      "t\n",
      "n\n"
     ]
    }
   ],
   "source": [
    "s = 'Python'\n",
    "print( s )\n",
    "print( s[2:4] )\n",
    "print( s[-5:-2] )\n",
    "print( s[2] )\n",
    "print( s[-1] )"
   ]
  },
  {
   "cell_type": "code",
   "execution_count": 44,
   "id": "96cd26da",
   "metadata": {},
   "outputs": [
    {
     "data": {
      "text/html": [
       "<img src=\"basics-contents/string-slice.png\" width=\"800\" height=\"150\"/>"
      ],
      "text/plain": [
       "<IPython.core.display.Image object>"
      ]
     },
     "execution_count": 44,
     "metadata": {},
     "output_type": "execute_result"
    }
   ],
   "source": [
    "Image(url= \"basics-contents/string-slice.png\", width=800, height=150)"
   ]
  },
  {
   "cell_type": "markdown",
   "id": "a3ccdb3c",
   "metadata": {},
   "source": [
    "**正则表达式 (regular expression)** 主要用于识别字符串中符合某种模式的部分，什么叫模式呢？用下面一个具体例子来讲解。"
   ]
  },
  {
   "cell_type": "code",
   "execution_count": 46,
   "id": "43cc6215",
   "metadata": {},
   "outputs": [
    {
     "data": {
      "text/plain": [
       "\"\\n'08/04/2021 13:00:00', 100, '1st';\\n'08/04/2021 13:30:00', 110, '2nd';\\n'08/04/2021 14:00:00', 120, '3rd'\\n\""
      ]
     },
     "execution_count": 46,
     "metadata": {},
     "output_type": "execute_result"
    }
   ],
   "source": [
    "input = \"\"\"\n",
    "'08/04/2021 13:00:00', 100, '1st';\n",
    "'08/04/2021 13:30:00', 110, '2nd';\n",
    "'08/04/2021 14:00:00', 120, '3rd'\n",
    "\"\"\"\n",
    "input"
   ]
  },
  {
   "cell_type": "markdown",
   "id": "b5d91ba4",
   "metadata": {},
   "source": [
    "假如你想把上面字符串中的「时间」的模式来抽象的表示出来，对照着具体表达式 '08/04/2021 13:00:00' 来看，我们发现该字符串有以下规则：\n",
    "\n",
    "1. 开头和结束都有个<font color=\"red\">单引号 '</font>\n",
    "\n",
    "2. 里面有多个 <font color=\"blue\">0-9 数字</font>\n",
    "\n",
    "3. 里面有多个<font color=\"green\">正斜线 /</font> 和<font color=\"orange\"> 冒号 : </font>\n",
    "\n",
    "4. 还有一个<font color=\"violet\">空格</font>\n",
    "\n",
    "因此我们用下面这样的模式"
   ]
  },
  {
   "cell_type": "code",
   "execution_count": 48,
   "id": "f44741be",
   "metadata": {},
   "outputs": [],
   "source": [
    "import re\n",
    "\n",
    "pattern = re.compile(\"'[0-9/:\\s]+'\")"
   ]
  },
  {
   "cell_type": "markdown",
   "id": "e961b9da",
   "metadata": {},
   "source": [
    "再看这个抽象模式表达式 '[0-9/:\\s]+'，里面符号的意思如下：\n",
    "\n",
    "* 最外面的两个<font color=\"red\">单引号 ' </font>代表该模式以它们开始和结束\n",
    "\n",
    "* 中括号 [] 用来概括该模式涵盖的所有类型的字节\n",
    "\n",
    "* <font color=\"blue\">0-9</font> 代表<font color=\"blue\">数字类</font>的字节\n",
    "\n",
    "* <font color=\"green\">/</font> 代表<font color=\"green\">正斜线</font>\n",
    "\n",
    "* <font color=\"orange\">:</font> 代表<font color=\"orange\">冒号</font>\n",
    "\n",
    "* <font color=\"violet\">\\s</font> 代表<font color=\"violet\">空格</font>\n",
    "\n",
    "* [] 外面的加号 + 代表 [] 里面的字节出现至少 1 次\n",
    "\n",
    "有了模式 pattern，我们来看看是否能把字符串中所有符合 pattern 的日期表达式都找出来。"
   ]
  },
  {
   "cell_type": "code",
   "execution_count": 52,
   "id": "a3dc82a7",
   "metadata": {},
   "outputs": [
    {
     "data": {
      "text/plain": [
       "[\"'08/04/2021 13:00:00'\", \"'08/04/2021 13:30:00'\", \"'08/04/2021 14:00:00'\"]"
      ]
     },
     "execution_count": 52,
     "metadata": {},
     "output_type": "execute_result"
    }
   ],
   "source": [
    "res = pattern.findall(input)\n",
    "res"
   ]
  },
  {
   "cell_type": "code",
   "execution_count": 57,
   "id": "4d240776",
   "metadata": {},
   "outputs": [
    {
     "name": "stdout",
     "output_type": "stream",
     "text": [
      "2021-08-04 13:00:00 <class 'datetime.datetime'>\n",
      "2021-08-04 13:30:00 <class 'datetime.datetime'>\n",
      "2021-08-04 14:00:00 <class 'datetime.datetime'>\n"
     ]
    }
   ],
   "source": [
    "from datetime import datetime\n",
    "\n",
    "for s in res:\n",
    "    dt = datetime.strptime(s.replace(\"'\",\"\"), \"%m/%d/%Y %H:%M:%S\")\n",
    "    print(dt, type(dt))"
   ]
  },
  {
   "cell_type": "markdown",
   "id": "d26dd087",
   "metadata": {},
   "source": [
    "### 元组"
   ]
  },
  {
   "cell_type": "markdown",
   "id": "20859ccb",
   "metadata": {},
   "source": [
    "元组」定义语法为 \n",
    "\n",
    "(元素1, 元素2, ..., 元素n)\n",
    "\n",
    "关键点是「<font color=\"blue\">小括号 ()</font>」和「<font color=\"red\">逗号 ,</font>」\n",
    "\n",
    "* <font color=\"blue\">小括号</font>把所有元素绑在一起\n",
    "\n",
    "* <font color=\"red\">逗号</font>将每个元素一一分开\n",
    "\n",
    "创建元组可以用小括号 ()，也可以什么都不用，为了可读性，建议还是用 ()。此外对于含单个元素的元组，务必记住要多加一个逗号，举例如下："
   ]
  },
  {
   "cell_type": "code",
   "execution_count": 59,
   "id": "d00c9382",
   "metadata": {},
   "outputs": [
    {
     "name": "stdout",
     "output_type": "stream",
     "text": [
      "Without comma it is:  <class 'str'>\n",
      "With comma it is:  <class 'tuple'>\n"
     ]
    }
   ],
   "source": [
    "without_comma = ('OK')\n",
    "with_comma = ('OK',) \n",
    "print( \"Without comma it is: \", type(without_comma) )  # 没有逗号 , \n",
    "print( \"With comma it is: \", type(with_comma) )        # 有逗号 ,"
   ]
  },
  {
   "cell_type": "markdown",
   "id": "e1f41931",
   "metadata": {},
   "source": [
    "没加逗号来创建含单元素的元组，Python 认为它是字符。当然也可以创建二维（多维）元组："
   ]
  },
  {
   "cell_type": "code",
   "execution_count": 62,
   "id": "e4baf096",
   "metadata": {},
   "outputs": [],
   "source": [
    "nested = (1, 10.31, 'python'), ('data', 11)"
   ]
  },
  {
   "cell_type": "code",
   "execution_count": 63,
   "id": "383ec5c6",
   "metadata": {},
   "outputs": [
    {
     "name": "stdout",
     "output_type": "stream",
     "text": [
      "1 10.31 python\n",
      "(1, 10.31)\n"
     ]
    }
   ],
   "source": [
    "print( nested[0][0], nested[0][1], nested[0][2] )\n",
    "print( nested[0][0:2] )"
   ]
  },
  {
   "cell_type": "markdown",
   "id": "9dc2c28e",
   "metadata": {},
   "source": [
    "元组有<font color=\"blue\"><b>不可更改 (immutable)</b></font> 的性质，因此不能直接给元组的元素赋值，例子如下 (注意「元组不支持元素赋值」的报错提示)。"
   ]
  },
  {
   "cell_type": "code",
   "execution_count": 64,
   "id": "ed090b0d",
   "metadata": {},
   "outputs": [
    {
     "name": "stdout",
     "output_type": "stream",
     "text": [
      "'tuple' object does not support item assignment\n"
     ]
    }
   ],
   "source": [
    "t = ('OK', [1, 2], True)\n",
    "try:\n",
    "    t[2] = False\n",
    "except Exception as e:\n",
    "    print(e)"
   ]
  },
  {
   "cell_type": "markdown",
   "id": "dc8f0cdb",
   "metadata": {},
   "source": [
    "但是只要元组中的元素可更改 (mutable)，那么我们可以直接更改其元素，注意这跟赋值其元素不同。如下例 t[1] 是列表，其内容可以更改，因此用 append 在列表后加一个值没问题。"
   ]
  },
  {
   "cell_type": "code",
   "execution_count": 65,
   "id": "43bde78a",
   "metadata": {},
   "outputs": [
    {
     "data": {
      "text/plain": [
       "('OK', [1, 2, 3], True)"
      ]
     },
     "execution_count": 65,
     "metadata": {},
     "output_type": "execute_result"
    }
   ],
   "source": [
    "t[1].append(3)\n",
    "t"
   ]
  },
  {
   "cell_type": "markdown",
   "id": "aaea48a4",
   "metadata": {},
   "source": [
    "元组大小和内容都不可更改，**内置方法**有 count 和 index 两种方法。"
   ]
  },
  {
   "cell_type": "code",
   "execution_count": 66,
   "id": "6414c97a",
   "metadata": {},
   "outputs": [
    {
     "name": "stdout",
     "output_type": "stream",
     "text": [
      "1\n",
      "1\n"
     ]
    }
   ],
   "source": [
    "t = (1, 10.31, 'python')\n",
    "print( t.count('python') )\n",
    "print( t.index(10.31) )"
   ]
  },
  {
   "cell_type": "markdown",
   "id": "15d1cdef",
   "metadata": {},
   "source": [
    "元组拼接 (concatenate) 有两种方式，用「加号 $+$」和「乘号 $*$」，前者首尾拼接，后者复制拼接。"
   ]
  },
  {
   "cell_type": "code",
   "execution_count": 68,
   "id": "17e157d2",
   "metadata": {},
   "outputs": [
    {
     "data": {
      "text/plain": [
       "(1, 10.31, 'python', 'data', 11, 'OK')"
      ]
     },
     "execution_count": 68,
     "metadata": {},
     "output_type": "execute_result"
    }
   ],
   "source": [
    "(1, 10.31, 'python') + ('data', 11) + ('OK',)"
   ]
  },
  {
   "cell_type": "code",
   "execution_count": 69,
   "id": "0cd10b10",
   "metadata": {},
   "outputs": [
    {
     "data": {
      "text/plain": [
       "(1, 10.31, 'python', 1, 10.31, 'python')"
      ]
     },
     "execution_count": 69,
     "metadata": {},
     "output_type": "execute_result"
    }
   ],
   "source": [
    "(1, 10.31, 'python') * 2"
   ]
  },
  {
   "cell_type": "markdown",
   "id": "481a220b",
   "metadata": {},
   "source": [
    "**解压 (unpack)** 一维元组 (有几个元素左边括号定义几个变量）"
   ]
  },
  {
   "cell_type": "code",
   "execution_count": 71,
   "id": "026a4cb8",
   "metadata": {},
   "outputs": [
    {
     "name": "stdout",
     "output_type": "stream",
     "text": [
      "1 10.31 python\n"
     ]
    }
   ],
   "source": [
    "t = (1, 10.31, 'python')\n",
    "(a, b, c) = t\n",
    "print( a, b, c )"
   ]
  },
  {
   "cell_type": "markdown",
   "id": "339cbb2a",
   "metadata": {},
   "source": [
    "解压二维元组 (按照元组里的元组结构来定义变量）"
   ]
  },
  {
   "cell_type": "code",
   "execution_count": 72,
   "id": "3f4e4f0d",
   "metadata": {},
   "outputs": [
    {
     "name": "stdout",
     "output_type": "stream",
     "text": [
      "1 10.31 OK python\n"
     ]
    }
   ],
   "source": [
    "t = (1, 10.31, ('OK','python'))\n",
    "(a, b, (c,d)) = t\n",
    "print( a, b, c, d )"
   ]
  },
  {
   "cell_type": "markdown",
   "id": "29c2669f",
   "metadata": {},
   "source": [
    "如果你只想要元组其中几个元素，用通配符「$\\color{red}{*}$」，英文叫 <font color=\"red\">wildcard</font>，在计算机语言中<font color=\"red\">代表一个或多个元素</font>。下例就是把多个元素丢给了 rest 变量。"
   ]
  },
  {
   "cell_type": "code",
   "execution_count": 73,
   "id": "f2479802",
   "metadata": {},
   "outputs": [
    {
     "name": "stdout",
     "output_type": "stream",
     "text": [
      "1 2 5\n",
      "[3, 4, 'abc']\n"
     ]
    }
   ],
   "source": [
    "t = 1, 2, 3, 4, \"abc\", 5\n",
    "a, b, *rest, c = t\n",
    "print( a, b, c )\n",
    "print( rest )"
   ]
  },
  {
   "cell_type": "markdown",
   "id": "d411aefd",
   "metadata": {},
   "source": [
    "元组的<font color=\"blue\"><b>优点和缺点</b></font>\n",
    "\n",
    "* **优点**：占内存小，安全，创建遍历速度比列表快，可一赋多值。\n",
    "\n",
    "* **缺点**：不能添加和更改元素。\n",
    "\n",
    "等等等，这里有点矛盾，元组的不可更改性即使优点 (安全) 有时缺点？确实是这样的，安全就没那么灵活，灵活就没那么安全。看看大佬廖雪峰怎么评价「不可更改性」吧\n",
    "\n",
    "> immutable 的好处实在是太多了：性能优化，多线程安全，不需要锁，不担心被恶意修改或者不小心修改。\n",
    "\n",
    "我们可以来测试一下列表和元组。列表虽然没介绍，但是非常简单，把元组的「小括号 ()」该成「中括号 []」就是列表了。我们从创建、遍历和占空间三方面比较。"
   ]
  },
  {
   "cell_type": "code",
   "execution_count": 74,
   "id": "18f0f603",
   "metadata": {},
   "outputs": [
    {
     "name": "stdout",
     "output_type": "stream",
     "text": [
      "53 ns ± 1.05 ns per loop (mean ± std. dev. of 7 runs, 10000000 loops each)\n",
      "6.98 ns ± 0.162 ns per loop (mean ± std. dev. of 7 runs, 100000000 loops each)\n"
     ]
    }
   ],
   "source": [
    "%timeit [1, 2, 3, 4, 5]\n",
    "%timeit (1, 2, 3, 4, 5)"
   ]
  },
  {
   "cell_type": "code",
   "execution_count": 75,
   "id": "42114dc9",
   "metadata": {},
   "outputs": [
    {
     "name": "stdout",
     "output_type": "stream",
     "text": [
      "480 µs ± 2.37 µs per loop (mean ± std. dev. of 7 runs, 1000 loops each)\n",
      "467 µs ± 21.6 µs per loop (mean ± std. dev. of 7 runs, 1000 loops each)\n"
     ]
    }
   ],
   "source": [
    "lst = [i for i in range(65535)]\n",
    "tup = tuple(i for i in range(65535))\n",
    "%timeit for each in lst: pass\n",
    "%timeit for each in tup: pass"
   ]
  },
  {
   "cell_type": "code",
   "execution_count": 76,
   "id": "0e645928",
   "metadata": {},
   "outputs": [
    {
     "name": "stdout",
     "output_type": "stream",
     "text": [
      "578928\n",
      "524320\n"
     ]
    }
   ],
   "source": [
    "from sys import getsizeof\n",
    "print( getsizeof(lst) )\n",
    "print( getsizeof(tup) )"
   ]
  },
  {
   "cell_type": "markdown",
   "id": "62a6a761",
   "metadata": {},
   "source": [
    "### 列表"
   ]
  },
  {
   "cell_type": "markdown",
   "id": "f5e42c0a",
   "metadata": {},
   "source": [
    "「列表」定义语法为 \n",
    "\n",
    "<center><h4 >[元素1, 元素2, ..., 元素n]</h4> </center>\n",
    "\n",
    "关键点是「<font color=\"blue\">中括号 []</font>」和「<font color=\"red\">逗号 ,</font>」\n",
    "\n",
    "* <font color=\"blue\">中括号</font>把所有元素绑在一起\n",
    "\n",
    "* <font color=\"red\">逗号</font>将每个元素一一分开\n",
    "\n",
    "创建列表的例子如下："
   ]
  },
  {
   "cell_type": "code",
   "execution_count": 77,
   "id": "599576f1",
   "metadata": {},
   "outputs": [
    {
     "name": "stdout",
     "output_type": "stream",
     "text": [
      "[1, 10.31, 'python'] <class 'list'>\n"
     ]
    }
   ],
   "source": [
    "l = [1, 10.31,'python']\n",
    "print(l, type(l))"
   ]
  },
  {
   "cell_type": "markdown",
   "id": "4b88cfc6",
   "metadata": {},
   "source": [
    "不像元组，列表内容可更改 (mutable)，因此附加 (append, extend)、插入 (insert)、删除 (remove, pop) 这些操作都可以用在它身上。"
   ]
  },
  {
   "cell_type": "code",
   "execution_count": 78,
   "id": "bc4b9195",
   "metadata": {},
   "outputs": [
    {
     "name": "stdout",
     "output_type": "stream",
     "text": [
      "[1, 10.31, 'python', [4, 3]]\n",
      "[1, 10.31, 'python', [4, 3], 1.5, 2.0, 'OK']\n",
      "[1, 'abc', 10.31, 'python', [4, 3], 1.5, 2.0, 'OK']\n",
      "[1, 'abc', 10.31, [4, 3], 1.5, 2.0, 'OK']\n",
      "[1, 'abc', 10.31, 1.5, 2.0, 'OK']\n"
     ]
    }
   ],
   "source": [
    "l.append([4, 3])\n",
    "print( l )\n",
    "l.extend([1.5, 2.0, 'OK'])\n",
    "print( l )\n",
    "l.insert(1, 'abc') # insert object before the index position\n",
    "print( l )\n",
    "l.remove('python') # remove first occurrence of object\n",
    "print( l )\n",
    "p = l.pop(3) # removes and returns object at index.  Only only pop 1 index position at any time.\n",
    "print( l )"
   ]
  },
  {
   "cell_type": "markdown",
   "id": "8bedf122",
   "metadata": {},
   "source": [
    "切片的通用写法是\n",
    "\n",
    "<center><h4 ><font color=\"red\">start</font> : <font color=\"blue\">stop</font> : <font color=\"green\">step</font> </h4> </center>\n",
    "\n",
    "这三个在特定情况下都可以省去，我们来看看四种情况：\n",
    "\n",
    "* 情况 1 - <font color=\"red\">start</font> : \n",
    "\n",
    "> 以 <font color=\"green\">step</font> 为 1 (默认) 从编号 <font color=\"red\">start</font> 往列表尾部切片。\n",
    "\n",
    "* 情况 2 - : <font color=\"blue\">stop</font>\n",
    "\n",
    "> 以 <font color=\"green\">step</font> 为 1 (默认) 从列表头部往编号 <font color=\"blue\">stop</font> 切片。\n",
    "\n",
    "* 情况 3 - <font color=\"red\">start</font> : <font color=\"blue\">stop</font>\n",
    "\n",
    "> 以 <font color=\"green\">step</font> 为 1 (默认) 从编号 <font color=\"red\">start</font> 往编号 <font color=\"blue\">stop</font> 切片。\n",
    "\n",
    "* 情况 4 - <font color=\"red\">start</font> : <font color=\"blue\">stop</font> : <font color=\"green\">step</font>\n",
    "\n",
    "> 以具体的 <font color=\"green\">step</font> 从编号 <font color=\"red\">start</font> 往编号 <font color=\"blue\">stop</font>  切片。**注意最后把 <font color=\"green\">step</font> 设为 -1**，相当于将列表反向排列。\n",
    "\n"
   ]
  },
  {
   "cell_type": "code",
   "execution_count": 81,
   "id": "e8a1f9ac",
   "metadata": {},
   "outputs": [
    {
     "name": "stdout",
     "output_type": "stream",
     "text": [
      "[1, 'abc', 10.31, 1.5, 2.0, 'OK']\n",
      "[1.5, 2.0, 'OK']\n",
      "[10.31, 1.5, 2.0, 'OK']\n",
      "\n",
      "[1, 'abc', 10.31, 1.5, 2.0, 'OK']\n",
      "[1, 'abc']\n",
      "\n",
      "[10.31, 1.5]\n",
      "['abc', 10.31, 1.5, 2.0]\n",
      "\n",
      "['abc', 1.5]\n",
      "[1, 10.31, 2.0]\n",
      "['abc', 1.5, 'OK']\n",
      "[1, 10.31, 2.0]\n",
      "['OK', 2.0, 1.5, 10.31, 'abc', 1]\n"
     ]
    }
   ],
   "source": [
    "print( l )\n",
    "# case 1\n",
    "print( l[3:] )\n",
    "print( l[-4:] )\n",
    "print()\n",
    "\n",
    "# case 2\n",
    "print( l[:6] )\n",
    "print( l[:-4] )\n",
    "print()\n",
    "\n",
    "# case 3\n",
    "print( l[2:4] )\n",
    "print( l[-5:-1] )\n",
    "print()\n",
    "\n",
    "# case 4\n",
    "print( l[1:5:2] )\n",
    "print( l[:5:2] )\n",
    "print( l[1::2] )\n",
    "print( l[::2] )\n",
    "print( l[::-1] )"
   ]
  },
  {
   "cell_type": "markdown",
   "id": "1bad74b8",
   "metadata": {},
   "source": [
    "和元组拼接一样， 列表拼接也有两种方式，用「加号 +」和「乘号 $*$」，前者首尾拼接，后者复制拼接。"
   ]
  },
  {
   "cell_type": "code",
   "execution_count": 83,
   "id": "e5858309",
   "metadata": {},
   "outputs": [
    {
     "data": {
      "text/plain": [
       "[1, 10.31, 'python', 'data', 11, 'OK']"
      ]
     },
     "execution_count": 83,
     "metadata": {},
     "output_type": "execute_result"
    }
   ],
   "source": [
    "[1, 10.31, 'python'] + ['data', 11] + ['OK']"
   ]
  },
  {
   "cell_type": "code",
   "execution_count": 84,
   "id": "8733b7cd",
   "metadata": {},
   "outputs": [
    {
     "data": {
      "text/plain": [
       "[1, 10.31, 'python', 1, 10.31, 'python']"
      ]
     },
     "execution_count": 84,
     "metadata": {},
     "output_type": "execute_result"
    }
   ],
   "source": [
    "[1, 10.31, 'python'] * 2"
   ]
  },
  {
   "cell_type": "markdown",
   "id": "0dd84714",
   "metadata": {},
   "source": [
    "### 字典 "
   ]
  },
  {
   "cell_type": "markdown",
   "id": "8f27f80d",
   "metadata": {},
   "source": [
    "「字典」定义语法为 \n",
    "\n",
    "<center><h4 >{键1:值1, 键2:值2, ..., 键n:值n}</h4> </center>\n",
    "\n",
    "其中每一个元素是一个「键值对」- 键:值 (key:value)\n",
    "\n",
    "关键点是「<font color=\"blue\">大括号 {}</font>」,「<font color=\"red\">逗号 ,</font>」和「<font color=\"green\">分号 :</font>」\n",
    "\n",
    "* <font color=\"blue\">大括号</font>把所有元素绑在一起\n",
    "\n",
    "* <font color=\"red\">逗号</font>将每个键值对一一分开\n",
    "\n",
    "* <font color=\"green\">分号</font>将键和值分开\n",
    "\n",
    "\n",
    "创建字典的例子如下："
   ]
  },
  {
   "cell_type": "code",
   "execution_count": 87,
   "id": "c9abae35",
   "metadata": {},
   "outputs": [
    {
     "name": "stdout",
     "output_type": "stream",
     "text": [
      "{'Name': 'Tencent', 'Country': 'China', 'Industry': 'Technology', 'Code': '00700.HK', 'Price': '500 HKD'}\n",
      "<class 'dict'>\n"
     ]
    }
   ],
   "source": [
    "d = {\n",
    "'Name' : 'Tencent',\n",
    "'Country' : 'China',\n",
    "'Industry' : 'Technology',\n",
    "'Code': '00700.HK',\n",
    "'Price' : '500 HKD'\n",
    "}\n",
    "print( d )\n",
    "print( type(d) )"
   ]
  },
  {
   "cell_type": "markdown",
   "id": "9cbd4093",
   "metadata": {},
   "source": [
    "字典里最常用的三个内置方法就是 keys(), values() 和 items()，分别是获取字典的键、值、对"
   ]
  },
  {
   "cell_type": "code",
   "execution_count": 89,
   "id": "6836002b",
   "metadata": {},
   "outputs": [
    {
     "name": "stdout",
     "output_type": "stream",
     "text": [
      "['Name', 'Country', 'Industry', 'Code', 'Price'] \n",
      "\n",
      "['Tencent', 'China', 'Technology', '00700.HK', '500 HKD'] \n",
      "\n",
      "[('Name', 'Tencent'), ('Country', 'China'), ('Industry', 'Technology'), ('Code', '00700.HK'), ('Price', '500 HKD')]\n"
     ]
    }
   ],
   "source": [
    "print( list(d.keys()),'\\n' )\n",
    "print( list(d.values()), '\\n' )\n",
    "print( list(d.items()) )"
   ]
  },
  {
   "cell_type": "code",
   "execution_count": 90,
   "id": "beef34f5",
   "metadata": {},
   "outputs": [
    {
     "data": {
      "text/plain": [
       "{'Name': 'Tencent',\n",
       " 'Country': 'China',\n",
       " 'Industry': 'Technology',\n",
       " 'Code': '00700.HK',\n",
       " 'Price': '500 HKD',\n",
       " 'Headquarter': 'Shen Zhen'}"
      ]
     },
     "execution_count": 90,
     "metadata": {},
     "output_type": "execute_result"
    }
   ],
   "source": [
    "d['Headquarter'] = 'Shen Zhen'\n",
    "d"
   ]
  },
  {
   "cell_type": "code",
   "execution_count": 91,
   "id": "8f579fc9",
   "metadata": {},
   "outputs": [
    {
     "name": "stdout",
     "output_type": "stream",
     "text": [
      "500 HKD\n",
      "500 HKD\n"
     ]
    }
   ],
   "source": [
    "print( d['Price'] )\n",
    "print( d.get('Price') )"
   ]
  },
  {
   "cell_type": "code",
   "execution_count": 92,
   "id": "025f0e89",
   "metadata": {},
   "outputs": [
    {
     "data": {
      "text/plain": [
       "{'Name': 'Tencent',\n",
       " 'Country': 'China',\n",
       " 'Industry': 'Technology',\n",
       " 'Code': '00700.HK',\n",
       " 'Price': '600 HKD',\n",
       " 'Headquarter': 'Shen Zhen'}"
      ]
     },
     "execution_count": 92,
     "metadata": {},
     "output_type": "execute_result"
    }
   ],
   "source": [
    "d['Price'] = '600 HKD'\n",
    "d"
   ]
  },
  {
   "cell_type": "code",
   "execution_count": 93,
   "id": "679a5db1",
   "metadata": {},
   "outputs": [
    {
     "data": {
      "text/plain": [
       "{'Name': 'Tencent',\n",
       " 'Country': 'China',\n",
       " 'Code': '00700.HK',\n",
       " 'Price': '600 HKD',\n",
       " 'Headquarter': 'Shen Zhen'}"
      ]
     },
     "execution_count": 93,
     "metadata": {},
     "output_type": "execute_result"
    }
   ],
   "source": [
    "del d['Industry']\n",
    "d"
   ]
  },
  {
   "cell_type": "code",
   "execution_count": 95,
   "id": "7f02f9e8",
   "metadata": {},
   "outputs": [
    {
     "name": "stdout",
     "output_type": "stream",
     "text": [
      "China\n"
     ]
    }
   ],
   "source": [
    "print( d.pop('Country') )"
   ]
  },
  {
   "cell_type": "code",
   "execution_count": 96,
   "id": "918df29f",
   "metadata": {},
   "outputs": [
    {
     "data": {
      "text/plain": [
       "{'Name': 'Tencent',\n",
       " 'Code': '00700.HK',\n",
       " 'Price': '600 HKD',\n",
       " 'Headquarter': 'Shen Zhen'}"
      ]
     },
     "execution_count": 96,
     "metadata": {},
     "output_type": "execute_result"
    }
   ],
   "source": [
    "d"
   ]
  },
  {
   "cell_type": "markdown",
   "id": "0c406ab4",
   "metadata": {},
   "source": [
    "#### 不可更改键"
   ]
  },
  {
   "cell_type": "markdown",
   "id": "6469e70a",
   "metadata": {},
   "source": [
    "字典里的键是不可更改的，因此只有那些不可更改的数据类型才能当键，比如整数 (虽然怪怪的)、浮点数 (虽然怪怪的)、布尔 (虽然怪怪的)、字符、元组 (虽然怪怪的)，而列表却不行，因为它可更改。看个例子"
   ]
  },
  {
   "cell_type": "code",
   "execution_count": 98,
   "id": "e94587fb",
   "metadata": {},
   "outputs": [
    {
     "data": {
      "text/plain": [
       "{2: 'integer key',\n",
       " 10.31: 'float key',\n",
       " True: 'boolean key',\n",
       " ('OK', 3): 'tuple key'}"
      ]
     },
     "execution_count": 98,
     "metadata": {},
     "output_type": "execute_result"
    }
   ],
   "source": [
    "d = {\n",
    "2 : 'integer key',\n",
    "10.31 : 'float key',\n",
    "True  : 'boolean key',\n",
    "('OK',3) : 'tuple key'\n",
    "}\n",
    "d"
   ]
  },
  {
   "cell_type": "markdown",
   "id": "902d400c",
   "metadata": {},
   "source": [
    "虽然怪怪的，但这些 2, 10.31, True, ('OK', 3) 确实能当键。\n",
    "\n",
    "那么如何快速判断一个数据类型 X 是不是可更改的呢？两种方法：\n",
    "\n",
    "* **麻烦方法**：用 id(X) 函数，对 X 进行某种操作，比较操作前后的 id，如果<font color=\"red\">不一样</font>，则 X <font color=\"red\">不可更改</font>，如果<font color=\"blue\">一样</font>，则 X <font color=\"blue\">可更改</font>。\n",
    "\n",
    "* **便捷方法**：用 hash(X)，只要不报错，证明 X <font color=\"red\">可被哈希</font>，即<font color=\"red\">不可更改</font>，反过来<font color=\"blue\">不可被哈希</font>，即<font color=\"blue\">可更改</font>。"
   ]
  },
  {
   "cell_type": "code",
   "execution_count": 101,
   "id": "fd954727",
   "metadata": {},
   "outputs": [
    {
     "name": "stdout",
     "output_type": "stream",
     "text": [
      "Integer can be used as key:\n",
      "140562569246192\n",
      "140562569246096\n",
      "Successfully hash:  2022\n",
      "\n",
      "List can NOT be used as key:\n",
      "140562569265472\n",
      "140562569265472\n",
      "[1, 3, 4]  can not be hashed.\n"
     ]
    }
   ],
   "source": [
    "print(\"Integer can be used as key:\")\n",
    "i = 2021\n",
    "print(id(i))\n",
    "i = i + 1\n",
    "print(id(i))\n",
    "try:\n",
    "    print(\"Successfully hash: \", hash(i))\n",
    "except:\n",
    "    print(i, \" can not be hashed.\")\n",
    "    \n",
    "print()\n",
    "\n",
    "print(\"List can NOT be used as key:\")\n",
    "l = [1, 3]\n",
    "print(id(l))\n",
    "l.append(4)\n",
    "print(id(l))\n",
    "try:\n",
    "    print(\"Successfully hash: \", hash(l))\n",
    "except:\n",
    "    print(l, \" can not be hashed.\")"
   ]
  },
  {
   "cell_type": "markdown",
   "id": "07fd9fc4",
   "metadata": {},
   "source": [
    "字典（Dict）的<font color=\"blue\"><b>优点缺点</b></font>：\n",
    "\n",
    "* **优点**：查找和插入速度快\n",
    "\n",
    "* **缺点**：占内存大"
   ]
  },
  {
   "cell_type": "markdown",
   "id": "50e00a36",
   "metadata": {},
   "source": [
    "### 集合"
   ]
  },
  {
   "cell_type": "markdown",
   "id": "3978b147",
   "metadata": {},
   "source": [
    "集合」有两种定义语法，**第一种**是\n",
    "\n",
    "<center><h4 >{元素1, 元素2, ..., 元素n}</h4></center>\n",
    "\n",
    "关键点是「<font color=\"blue\">大括号 {}</font>」和「<font color=\"red\">逗号 ,</font>」\n",
    "\n",
    "* <font color=\"blue\">大括号</font>把所有元素绑在一起\n",
    "\n",
    "* <font color=\"red\">逗号</font>将每个元素一一分开\n",
    "\n",
    "**第二种**是用 set() 函数，把列表或元组转换成集合。\n",
    "\n",
    "<center><h4 ><font color=\"green\">set</font>( 列表 或 元组 )</h4></center>\n",
    "\n",
    "创建集合的例子如下 (用第一种方法创建 A， 和用第二种方法创建 B)："
   ]
  },
  {
   "cell_type": "code",
   "execution_count": 103,
   "id": "b37bf2fe",
   "metadata": {},
   "outputs": [
    {
     "name": "stdout",
     "output_type": "stream",
     "text": [
      "{'d', 'u', 'uu', 'dd'}\n",
      "{'d', 'du', 'ud', 'u'}\n"
     ]
    }
   ],
   "source": [
    "A = {'d', 'dd', 'uu', 'u', 'u'}\n",
    "B = set(['u', 'd', 'ud', 'du', 'd', 'du'])\n",
    "print( A )\n",
    "print( B )"
   ]
  },
  {
   "cell_type": "markdown",
   "id": "6c7b2ad4",
   "metadata": {},
   "source": [
    "从 A 的结果发现集合的两个特点：无序 (unordered) 和唯一 (unique)。由于 set 存储的是无序集合，所以我们没法通过索引来访问，但是可以判断一个元素是否在集合中。\n",
    "\n",
    "用 set 的内置方法就把它当成是数学上的集，那么并集、交集、差集都可以玩通了。"
   ]
  },
  {
   "cell_type": "code",
   "execution_count": 104,
   "id": "830b00d4",
   "metadata": {},
   "outputs": [
    {
     "name": "stdout",
     "output_type": "stream",
     "text": [
      "{'uu', 'du', 'ud', 'd', 'u', 'dd'}\n",
      "{'uu', 'du', 'ud', 'd', 'u', 'dd'}\n",
      "\n",
      "{'d', 'u'}\n",
      "{'d', 'u'}\n",
      "\n",
      "{'uu', 'dd'}\n",
      "{'uu', 'dd'}\n",
      "\n",
      "{'uu', 'du', 'ud', 'dd'}\n",
      "{'uu', 'du', 'ud', 'dd'}\n"
     ]
    }
   ],
   "source": [
    "print( A.union(B) )          # All unique elements in A or B\n",
    "print( A | B )               # A OR B\n",
    "  \n",
    "print()\n",
    "\n",
    "print( A.intersection(B) )   # All elements in both A and B\n",
    "print( A & B )               # A AND B\n",
    "\n",
    "print()\n",
    "\n",
    "print( A.difference(B) )     # Elements in A but not in B\n",
    "print( A - B )               # A MINUS B\n",
    "\n",
    "print()\n",
    "\n",
    "print( A.symmetric_difference(B) )   # All elements in either A or B, but not both\n",
    "print( A ^ B )                       # A XOR B"
   ]
  },
  {
   "cell_type": "markdown",
   "id": "e1cd84a5",
   "metadata": {},
   "source": [
    "注意集合的存储对象不能是可变对象"
   ]
  },
  {
   "cell_type": "code",
   "execution_count": 106,
   "id": "43eb2d9c",
   "metadata": {},
   "outputs": [
    {
     "name": "stdout",
     "output_type": "stream",
     "text": [
      "unhashable type: 'list'\n"
     ]
    }
   ],
   "source": [
    "try:\n",
    "    s = {[1,2], [2,3]}\n",
    "    print(\"Successfully create set: \", s)\n",
    "except Exception as e:\n",
    "    print(e)"
   ]
  },
  {
   "cell_type": "markdown",
   "id": "4e075d63",
   "metadata": {},
   "source": [
    "<center> <h2>Python 条件语句 & 迭代循环</h2> </center>"
   ]
  },
  {
   "cell_type": "markdown",
   "id": "aac2b7af",
   "metadata": {},
   "source": [
    "在编写程序时，我们要\n",
    "\n",
    "* 在<font color=\"red\">不同条件</font>下完成不同动作，条件语句 (conditional statement) 赋予程序这种能力。\n",
    "\n",
    "* <font color=\"red\">重复</font>的完成某些动作，迭代循环 (iterative loop) 赋予程序这种能力。\n",
    "\n",
    "**条件语句**大体有三种格式\n",
    "\n",
    "1. if 语句\n",
    "\n",
    "2. if-else 语句\n",
    "\n",
    "3. if-elif-else 语句"
   ]
  },
  {
   "cell_type": "code",
   "execution_count": 108,
   "id": "ab4c8fc2",
   "metadata": {},
   "outputs": [
    {
     "name": "stdout",
     "output_type": "stream",
     "text": [
      "x is less than y\n"
     ]
    }
   ],
   "source": [
    "x = 0\n",
    "y = True\n",
    "\n",
    "if x < y:\n",
    "    print( 'x is less than y' )\n",
    "elif x > y:\n",
    "    print( 'x is greater than y' )\n",
    "else:\n",
    "    print( 'x and y are equal' )"
   ]
  },
  {
   "cell_type": "markdown",
   "id": "1df91b9f",
   "metadata": {},
   "source": [
    "对于**迭代循环**，Python 里面有「while 循环」和「for 循环」，没有「do-while 循环」。"
   ]
  },
  {
   "cell_type": "code",
   "execution_count": 111,
   "id": "82244ed7",
   "metadata": {},
   "outputs": [
    {
     "name": "stdout",
     "output_type": "stream",
     "text": [
      "I have 5 apples. I eat one.\n",
      "I have 4 apples. I eat one.\n",
      "I have 3 apples. I eat one.\n",
      "I have 2 apples. I eat one.\n",
      "I only have 1 apple now. :(\n"
     ]
    }
   ],
   "source": [
    "n = 5\n",
    "while n > 1:\n",
    "    print(\"I have\", n, \"apples. I eat one.\")\n",
    "    n = n-1\n",
    "print('I only have', n, 'apple now! :(')"
   ]
  },
  {
   "cell_type": "markdown",
   "id": "358143fc",
   "metadata": {},
   "source": [
    "### break 和 continue"
   ]
  },
  {
   "cell_type": "code",
   "execution_count": 114,
   "id": "220e2331",
   "metadata": {},
   "outputs": [
    {
     "name": "stdout",
     "output_type": "stream",
     "text": [
      "I don't tell you I have 5 apples.\n",
      "I don't tell you I have 4 apples.\n",
      "I have 3 apples. I eat one.\n",
      "I only have 2 apples now! :(\n"
     ]
    }
   ],
   "source": [
    "n = 5\n",
    "while n > 1:\n",
    "    if n>=4:\n",
    "        print(\"I don't tell you I have\", n, \"apples.\")\n",
    "        n = n - 1\n",
    "        continue\n",
    "    if n<=2:\n",
    "        break\n",
    "    print(\"I have\", n, \"apples. I eat one.\")\n",
    "    n = n-1\n",
    "    \n",
    "if n>1:\n",
    "    print('I only have', n, 'apples now! :(')\n",
    "else:\n",
    "    print('I only have', n, 'apple now! :(')"
   ]
  },
  {
   "cell_type": "markdown",
   "id": "034414b1",
   "metadata": {},
   "source": [
    "有时候我们希望事先直到循环的次数，比如在列表、元组、字典等容器类数据上遍历一遍，在每个元素层面上做点事情。这时候就需要「for 循环」了。"
   ]
  },
  {
   "cell_type": "code",
   "execution_count": 115,
   "id": "ab8a6c94",
   "metadata": {},
   "outputs": [
    {
     "name": "stdout",
     "output_type": "stream",
     "text": [
      "I love Python\n",
      "I love R\n",
      "I love Matlab\n",
      "I love C++\n",
      "Done!\n"
     ]
    }
   ],
   "source": [
    "languages = ['Python', 'R', 'Matlab', 'C++']\n",
    "for language in languages:\n",
    "    print( 'I love', language )\n",
    "print( 'Done!' )"
   ]
  },
  {
   "cell_type": "markdown",
   "id": "349e0c96",
   "metadata": {},
   "source": [
    "<center> <h2>Python 函数</h2> </center>"
   ]
  },
  {
   "cell_type": "markdown",
   "id": "633e936a",
   "metadata": {},
   "source": [
    "### 常规函数"
   ]
  },
  {
   "cell_type": "markdown",
   "id": "feb2c0f2",
   "metadata": {},
   "source": [
    "Python 里面的常规函数 (normal function) 就像其他语言的函数一样，之所以说常规函数是因为还有些「不常规」的，比如匿名函数，高阶函数等等。\n",
    "\n",
    "但即便是正规函数，Python 的函数具有非常**灵活多样**的参数形态，既可以实现简单的调用，又可以传入非常复杂的参数。从简到繁的参数形态如下：\n",
    "\n",
    "1. 位置参数 (positional argument)\n",
    "\n",
    "2. 默认参数 (default argument)\n",
    "\n",
    "3. 可变参数 (variable argument)\n",
    "\n",
    "4. 关键字参数 (keyword argument)\n",
    "\n",
    "5. 命名关键字参数 (name keyword argument)\n",
    "\n",
    "6. 参数组合"
   ]
  },
  {
   "cell_type": "code",
   "execution_count": 117,
   "id": "15bf6fca",
   "metadata": {},
   "outputs": [],
   "source": [
    "def func(arg):\n",
    "    \"\"\"位置参数\"\"\"\n",
    "    pass"
   ]
  },
  {
   "cell_type": "code",
   "execution_count": 118,
   "id": "5a6647d3",
   "metadata": {},
   "outputs": [],
   "source": [
    "def func(arg=2):\n",
    "    \"\"\"默认参数\"\"\"\n",
    "    pass"
   ]
  },
  {
   "cell_type": "code",
   "execution_count": 120,
   "id": "70d022a1",
   "metadata": {},
   "outputs": [],
   "source": [
    "def func(*args):\n",
    "    \"\"\"可变参数，在函数调用时自动组装为一个元组 (tuple)\"\"\"\n",
    "    if len(args)==0:\n",
    "        return \"No arguments!\"\n",
    "    elif len(args)==1:\n",
    "        return f\"arg[0]={args[0]}\"\n",
    "    elif len(args)>1:\n",
    "        return f\"arg[0]={args[0]}, args[1:]={args[1:]}\""
   ]
  },
  {
   "cell_type": "code",
   "execution_count": 122,
   "id": "ab18f616",
   "metadata": {},
   "outputs": [
    {
     "name": "stdout",
     "output_type": "stream",
     "text": [
      "No arguments!\n",
      "arg[0]=Xiaoming\n",
      "arg[0]=Xiaoming, args[1:]=(3,)\n",
      "arg[0]=Xiaoming, args[1:]=(3, 'male')\n"
     ]
    }
   ],
   "source": [
    "print( func() )\n",
    "print( func(\"Xiaoming\") )\n",
    "print( func(\"Xiaoming\", 3) )\n",
    "print( func(\"Xiaoming\", 3, \"male\") )"
   ]
  },
  {
   "cell_type": "code",
   "execution_count": 125,
   "id": "0f081a3b",
   "metadata": {},
   "outputs": [],
   "source": [
    "def func(**kwargs):\n",
    "    \"\"\"关键字参数，在函数调用时自动组装为一个字典 (dict)\"\"\"\n",
    "    if len(kwargs)==0:\n",
    "        return \"No keyword arguments!\"\n",
    "    elif len(kwargs)>=1:\n",
    "        return f\"kwargs={kwargs}\""
   ]
  },
  {
   "cell_type": "code",
   "execution_count": 126,
   "id": "c16412de",
   "metadata": {},
   "outputs": [
    {
     "name": "stdout",
     "output_type": "stream",
     "text": [
      "No keyword arguments!\n",
      "kwargs={'name': 'Xiaoming'}\n",
      "kwargs={'name': 'Xiaoming', 'age': 3}\n",
      "kwargs={'name': 'Xiaoming', 'age': 3, 'gender': 'male'}\n"
     ]
    }
   ],
   "source": [
    "print( func() )\n",
    "print( func(name=\"Xiaoming\") )\n",
    "print( func(name=\"Xiaoming\", age=3) )\n",
    "print( func(name=\"Xiaoming\", age=3, gender=\"male\") )"
   ]
  },
  {
   "cell_type": "code",
   "execution_count": 132,
   "id": "cff701ff",
   "metadata": {},
   "outputs": [],
   "source": [
    "def func(*,nkw,**kwargs):\n",
    "    \"\"\"*,nkw - 命名关键字参数，用户想要输入的关键字参数，定义方式是在nkw 前面加个分隔符 *。\"\"\"\n",
    "    if len(kwargs)==0:\n",
    "        return f\"nkw={nkw}, No keyword arguments!\"\n",
    "    elif len(kwargs)>=1:\n",
    "        return f\"nkw={nkw}, kwargs={kwargs}\""
   ]
  },
  {
   "cell_type": "code",
   "execution_count": 133,
   "id": "523cd3fe",
   "metadata": {},
   "outputs": [
    {
     "name": "stdout",
     "output_type": "stream",
     "text": [
      "Error:  func() missing 1 required keyword-only argument: 'nkw'\n",
      "nkw=12306, No keyword arguments!\n"
     ]
    }
   ],
   "source": [
    "try:\n",
    "    print( func() )\n",
    "except Exception as e:\n",
    "    print(\"Error: \", e)\n",
    "finally:\n",
    "    print( func(nkw=\"12306\") )"
   ]
  },
  {
   "cell_type": "code",
   "execution_count": 134,
   "id": "be220794",
   "metadata": {},
   "outputs": [],
   "source": [
    "def func(arg1, arg2=0.5, *, nkw, **kwargs):\n",
    "    \"\"\"位置参数、默认参数、命名关键字参数和关键字参数\"\"\"\n",
    "    pass"
   ]
  },
  {
   "cell_type": "markdown",
   "id": "d86a38fa",
   "metadata": {},
   "source": [
    "在 Python 中定义函数，可以用<font color=\"green\">位置参数</font>、<font color=\"brown\">默认参数</font>、<font color=\"purple\">可变参数</font>、<font color=\"pink\">命名关键字参数</font>和<font color=\"blue\">关键字参数</font>，这 5 种参数中的 4 个都可以一起使用，但是注意，参数定义的顺序必须是：\n",
    "\n",
    "* <font color=\"green\">位置参数</font>、<font color=\"brown\">默认参数</font>、<font color=\"purple\">可变参数</font>和<font color=\"blue\">关键字参数</font>。\n",
    "\n",
    "* <font color=\"green\">位置参数</font>、<font color=\"brown\">默认参数</font>、<font color=\"pink\">命名关键字参数</font>和<font color=\"blue\">关键字参数</font>。\n",
    "\n",
    "要注意定义可变参数和关键字参数的语法：\n",
    "\n",
    "* *args 是可变参数，args 接收的是一个 tuple\n",
    "\n",
    "* **kw 是关键字参数，kw 接收的是一个 dict\n",
    "\n",
    "命名关键字参数是为了限制调用者可以传入的参数名，同时可以提供默认值。定义命名关键字参数不要忘了写分隔符 *，否则定义的是位置参数。"
   ]
  },
  {
   "cell_type": "markdown",
   "id": "fc951864",
   "metadata": {},
   "source": [
    "### 匿名函数"
   ]
  },
  {
   "cell_type": "code",
   "execution_count": 135,
   "id": "5b729041",
   "metadata": {},
   "outputs": [
    {
     "data": {
      "text/html": [
       "<img src=\"basics-contents/lambda-func.png\" width=\"800\" height=\"150\"/>"
      ],
      "text/plain": [
       "<IPython.core.display.Image object>"
      ]
     },
     "execution_count": 135,
     "metadata": {},
     "output_type": "execute_result"
    }
   ],
   "source": [
    "Image(url= \"basics-contents/lambda-func.png\", width=800, height=150)"
   ]
  },
  {
   "cell_type": "markdown",
   "id": "a394a168",
   "metadata": {},
   "source": [
    "解释一下函数里面的各个部分：\n",
    "\n",
    "* <font color=\"green\">lambda</font> - 定义<font color=\"green\">匿名函数的关键词</font>。\n",
    "\n",
    "* <font color=\"red\">argument_list</font> - <font color=\"red\">函数参数</font>，它们可以是位置参数、默认参数、关键字参数，和正规函数里的参数类型一样。\n",
    "\n",
    "* <font color=\"blue\">：</font> - <font color=\"blue\">冒号</font>，在函数参数和表达式中间要加个冒号。\n",
    "\n",
    "* <font color=\"darkslategray\">expression</font> - <font color=\"darkslategray\">函数表达式</font>，输入函数参数，输出一些值。\n",
    "\n",
    "注意 lambda 函数没有所谓的函数名 (function_header)，这也是它为什么叫匿名函数。"
   ]
  },
  {
   "cell_type": "code",
   "execution_count": 136,
   "id": "3f302325",
   "metadata": {},
   "outputs": [
    {
     "data": {
      "text/plain": [
       "6"
      ]
     },
     "execution_count": 136,
     "metadata": {},
     "output_type": "execute_result"
    }
   ],
   "source": [
    "func = lambda x, y: x*y\n",
    "func(2, 3)"
   ]
  },
  {
   "cell_type": "code",
   "execution_count": 137,
   "id": "c46fc93d",
   "metadata": {},
   "outputs": [
    {
     "data": {
      "text/plain": [
       "15"
      ]
     },
     "execution_count": 137,
     "metadata": {},
     "output_type": "execute_result"
    }
   ],
   "source": [
    "func = lambda *args: sum(args)\n",
    "func( 1, 2, 3, 4, 5 )"
   ]
  },
  {
   "cell_type": "code",
   "execution_count": 139,
   "id": "8cc70d68",
   "metadata": {},
   "outputs": [
    {
     "data": {
      "text/plain": [
       "{'name': 'Joseph', 'age': '18'}"
      ]
     },
     "execution_count": 139,
     "metadata": {},
     "output_type": "execute_result"
    }
   ],
   "source": [
    "func = lambda **kwargs: kwargs\n",
    "func( name='Joseph', age='18' )"
   ]
  },
  {
   "cell_type": "markdown",
   "id": "86312828",
   "metadata": {},
   "source": [
    "比如下面一个例子，根据「字符长度」和「首个字母」来对列表来排序。"
   ]
  },
  {
   "cell_type": "code",
   "execution_count": 140,
   "id": "8ebf973e",
   "metadata": {},
   "outputs": [
    {
     "data": {
      "text/plain": [
       "['Cyan', 'purple', 'Salmon', 'Goldenrod']"
      ]
     },
     "execution_count": 140,
     "metadata": {},
     "output_type": "execute_result"
    }
   ],
   "source": [
    "colors = [\"Goldenrod\", \"purple\", \"Salmon\", \"Cyan\"]\n",
    "sorted(colors, key=lambda c: (len(c), c.casefold()))"
   ]
  },
  {
   "cell_type": "code",
   "execution_count": 141,
   "id": "f4ec9caf",
   "metadata": {},
   "outputs": [
    {
     "data": {
      "text/plain": [
       "['Cyan', 'purple', 'Salmon', 'Goldenrod']"
      ]
     },
     "execution_count": 141,
     "metadata": {},
     "output_type": "execute_result"
    }
   ],
   "source": [
    "def length_and_alphabetical(str):\n",
    "    \"\"\"Return sort key: length first, then caseless string.\"\"\"\n",
    "    return (len(str), str.casefold())\n",
    "\n",
    "sorted(colors, key=length_and_alphabetical)"
   ]
  },
  {
   "cell_type": "markdown",
   "id": "0d293552",
   "metadata": {},
   "source": [
    "### 高阶函数"
   ]
  },
  {
   "cell_type": "markdown",
   "id": "9244dc00",
   "metadata": {},
   "source": [
    "高阶函数 (high-order function) 在函数化编程 (functional programming) 很常见，主要有两种形式：\n",
    "\n",
    "* <font color=\"red\">参数</font>是函数 (map, filter, reduce)\n",
    "\n",
    "* <font color=\"red\">返回值</font>是函数 (closure, partial, currying)"
   ]
  },
  {
   "cell_type": "markdown",
   "id": "ab8bf379",
   "metadata": {},
   "source": [
    "Python 里面的 map, filter 和 reduce 属于第一种高阶函数，参数是函数。作为内嵌在别的函数里的参数，lambda 函数就像微信小程序一样，即用即丢，非常轻便。\n",
    "\n",
    "* **map**(<font color=\"red\">函数 f</font>, <font color=\"blue\">序列 x</font>)：对序列 x 中每个元素依次执行函数 f，将 f(x) 组成一个「map 对象」返回 (可以将其转换成 list 或 set)\n",
    "\n",
    "* **filter**(<font color=\"red\">函数 f</font>, <font color=\"blue\">序列 x</font>)：对序列 x 中每个元素依次执行函数 f，将 f(x) 为 True 的结果组成一个「filter 对象」返回 (可以将其转换成 list 或 set)\n",
    "\n",
    "* **reduce**(<font color=\"red\">函数 f</font>, <font color=\"blue\">序列 x</font>)：对序列 x 的第一个和第二个元素执行函数 f，得到的结果和序列 x 的下一个元素执行函数 f，一直遍历完的序列 x 所有元素。"
   ]
  },
  {
   "cell_type": "code",
   "execution_count": 143,
   "id": "942b115e",
   "metadata": {},
   "outputs": [
    {
     "name": "stdout",
     "output_type": "stream",
     "text": [
      "<map object at 0x7fd746168400>\n",
      "[1, 4, 9, 16, 25]\n"
     ]
    }
   ],
   "source": [
    "lst = [1, 2, 3, 4, 5]\n",
    "map_iter = map( lambda x: x**2, lst )\n",
    "print( map_iter )\n",
    "print( list(map_iter) )"
   ]
  },
  {
   "cell_type": "code",
   "execution_count": 144,
   "id": "cb6ad766",
   "metadata": {},
   "outputs": [
    {
     "name": "stdout",
     "output_type": "stream",
     "text": [
      "<filter object at 0x7fd745abb580>\n",
      "[1, 3, 5]\n"
     ]
    }
   ],
   "source": [
    "filter_iter = filter(lambda n: n % 2 == 1, lst)\n",
    "print( filter_iter )\n",
    "print( list(filter_iter) )"
   ]
  },
  {
   "cell_type": "code",
   "execution_count": 145,
   "id": "9e787c29",
   "metadata": {},
   "outputs": [
    {
     "name": "stdout",
     "output_type": "stream",
     "text": [
      "15\n",
      "115\n"
     ]
    }
   ],
   "source": [
    "from functools import reduce\n",
    "print( reduce( lambda x,y: x+y, lst ) )       # 累加\n",
    "print( reduce( lambda x,y: x+y, lst, 100 ) )  # 累加，初始值100"
   ]
  },
  {
   "cell_type": "markdown",
   "id": "1686c2ad",
   "metadata": {},
   "source": [
    "Python 里面的闭包 (closure) 属于第二种高阶函数，返回值是函数。下面是一个闭包函数。"
   ]
  },
  {
   "cell_type": "code",
   "execution_count": 146,
   "id": "7ad34162",
   "metadata": {},
   "outputs": [],
   "source": [
    "def make_counter(init):\n",
    "    counter = [init]\n",
    "    \n",
    "    def inc(): counter[0] += 1\n",
    "    def dec(): counter[0] -= 1\n",
    "    def get(): return counter[0]\n",
    "    def reset(): counter[0] = init\n",
    "        \n",
    "    return inc, dec, get, reset"
   ]
  },
  {
   "cell_type": "code",
   "execution_count": 147,
   "id": "106e7702",
   "metadata": {},
   "outputs": [
    {
     "data": {
      "text/plain": [
       "3"
      ]
     },
     "execution_count": 147,
     "metadata": {},
     "output_type": "execute_result"
    }
   ],
   "source": [
    "inc, dec, get, reset = make_counter(0)\n",
    "inc()\n",
    "inc()\n",
    "inc()\n",
    "get()"
   ]
  },
  {
   "cell_type": "code",
   "execution_count": 148,
   "id": "28b55b0d",
   "metadata": {},
   "outputs": [
    {
     "data": {
      "text/plain": [
       "2"
      ]
     },
     "execution_count": 148,
     "metadata": {},
     "output_type": "execute_result"
    }
   ],
   "source": [
    "dec()\n",
    "get()"
   ]
  },
  {
   "cell_type": "code",
   "execution_count": 150,
   "id": "abc63267",
   "metadata": {},
   "outputs": [
    {
     "data": {
      "text/plain": [
       "0"
      ]
     },
     "execution_count": 150,
     "metadata": {},
     "output_type": "execute_result"
    }
   ],
   "source": [
    "reset()\n",
    "get()"
   ]
  },
  {
   "cell_type": "markdown",
   "id": "9559168f",
   "metadata": {},
   "source": [
    "偏函数 (paritial function) 主要是把一个函数的参数 (一个或多个) 固定下来，用于专门的应用上 (specialized application)。"
   ]
  },
  {
   "cell_type": "code",
   "execution_count": 151,
   "id": "2249e72a",
   "metadata": {},
   "outputs": [
    {
     "data": {
      "text/plain": [
       "[5, 4, 3, 2, 1]"
      ]
     },
     "execution_count": 151,
     "metadata": {},
     "output_type": "execute_result"
    }
   ],
   "source": [
    "lst = [3, 1, 2, 5, 4]\n",
    "sorted( lst, reverse=True )"
   ]
  },
  {
   "cell_type": "code",
   "execution_count": 152,
   "id": "aa33ca3b",
   "metadata": {},
   "outputs": [
    {
     "data": {
      "text/plain": [
       "functools.partial(<built-in function sorted>, reverse=True)"
      ]
     },
     "execution_count": 152,
     "metadata": {},
     "output_type": "execute_result"
    }
   ],
   "source": [
    "from functools import partial\n",
    "\n",
    "sorted_dec = partial( sorted, reverse=True )\n",
    "sorted_dec"
   ]
  },
  {
   "cell_type": "code",
   "execution_count": 153,
   "id": "1e945588",
   "metadata": {},
   "outputs": [
    {
     "data": {
      "text/plain": [
       "[5, 4, 3, 2, 1]"
      ]
     },
     "execution_count": 153,
     "metadata": {},
     "output_type": "execute_result"
    }
   ],
   "source": [
    "sorted_dec( lst )"
   ]
  },
  {
   "cell_type": "markdown",
   "id": "278b22f5",
   "metadata": {},
   "source": [
    "最简单的柯里化 (currying) 指的是将原来接收 2 个参数的函数 f(x, y) 变成新的接收 1 个参数的函数 g(x) 的过程，其中新函数 g = f(y)。"
   ]
  },
  {
   "cell_type": "code",
   "execution_count": 154,
   "id": "cc7e0a33",
   "metadata": {},
   "outputs": [],
   "source": [
    "def add1(x, y):\n",
    "    return x + y"
   ]
  },
  {
   "cell_type": "code",
   "execution_count": 155,
   "id": "08e71a44",
   "metadata": {},
   "outputs": [],
   "source": [
    "def add2(x):\n",
    "    def add(y):\n",
    "        return x + y\n",
    "    return add"
   ]
  },
  {
   "cell_type": "code",
   "execution_count": 156,
   "id": "55756180",
   "metadata": {},
   "outputs": [
    {
     "name": "stdout",
     "output_type": "stream",
     "text": [
      "<function add1 at 0x7fd74616aca0>\n",
      "<function add2 at 0x7fd74616a1f0>\n",
      "<function add2.<locals>.add at 0x7fd746156d30>\n"
     ]
    }
   ],
   "source": [
    "print( add1 )\n",
    "print( add2 )\n",
    "g = add2(2)\n",
    "print( g )"
   ]
  },
  {
   "cell_type": "code",
   "execution_count": 157,
   "id": "ad0e576b",
   "metadata": {},
   "outputs": [
    {
     "name": "stdout",
     "output_type": "stream",
     "text": [
      "5\n",
      "5\n",
      "5\n"
     ]
    }
   ],
   "source": [
    "print( add1(2, 3) )\n",
    "print( add2(2)(3) )\n",
    "print( g(3) )"
   ]
  },
  {
   "cell_type": "markdown",
   "id": "aece3b10",
   "metadata": {},
   "source": [
    "**Currying** vs **Closure**\n",
    "\n",
    "> **Currying** means that the **closure** does not have to receive all of it's arguments at once, but separately. ... Or, like in this case, if you want to make a closure with one argument of a function, and then curry the second argument if that argument will be a different value each time you call it."
   ]
  },
  {
   "cell_type": "markdown",
   "id": "4aa7093e",
   "metadata": {},
   "source": [
    "### 列表解析式"
   ]
  },
  {
   "cell_type": "markdown",
   "id": "abc3808f",
   "metadata": {},
   "source": [
    "**list comprehension**\n",
    "<center><h4> [值 for 元素 in 可迭代对象 if 条件] </h4></center>\n",
    "\n",
    "**dict comprehension**\n",
    "<center><h4>{键值对 for 元素 in 可迭代对象 if 条件} </h4></center>\n",
    "\n",
    "**set comprehension**\n",
    "<center><h4>{值 for 元素 in 可迭代对象 if 条件}  </h4></center>"
   ]
  },
  {
   "cell_type": "code",
   "execution_count": 159,
   "id": "0f157e4e",
   "metadata": {},
   "outputs": [],
   "source": [
    "lst = [1, 2, 3, 4, 5]"
   ]
  },
  {
   "cell_type": "code",
   "execution_count": 161,
   "id": "43c9d733",
   "metadata": {},
   "outputs": [
    {
     "data": {
      "text/plain": [
       "[2, 6, 10]"
      ]
     },
     "execution_count": 161,
     "metadata": {},
     "output_type": "execute_result"
    }
   ],
   "source": [
    "# Take out odd numbers and multiplied by 2\n",
    "odds = [n * 2 for n in lst if n % 2 == 1]\n",
    "odds"
   ]
  },
  {
   "cell_type": "code",
   "execution_count": 165,
   "id": "fa0f7df3",
   "metadata": {},
   "outputs": [
    {
     "data": {
      "text/plain": [
       "{1: 2, 3: 6, 5: 10}"
      ]
     },
     "execution_count": 165,
     "metadata": {},
     "output_type": "execute_result"
    }
   ],
   "source": [
    "# Use odd number elements as keys and 2*elem as values\n",
    "dct = {n:2*n for n in lst if n%2==1}\n",
    "dct"
   ]
  },
  {
   "cell_type": "code",
   "execution_count": 166,
   "id": "104d4d61",
   "metadata": {},
   "outputs": [
    {
     "data": {
      "text/plain": [
       "{1, 9, 25}"
      ]
     },
     "execution_count": 166,
     "metadata": {},
     "output_type": "execute_result"
    }
   ],
   "source": [
    "# take square of all unique odd number elements\n",
    "lst = [1, 2, 2, 3, 3, 3, 4, 4, 5, 5]\n",
    "unique_odd_squares = {n**2 for n in lst if n%2==1}\n",
    "unique_odd_squares"
   ]
  },
  {
   "cell_type": "markdown",
   "id": "71ba9eba",
   "metadata": {},
   "source": [
    "<center> <h2>Python 对象</h2> </center>"
   ]
  },
  {
   "cell_type": "markdown",
   "id": "91b75f54",
   "metadata": {},
   "source": [
    "面向对象最重要的概念就是类（Class）和实例（Instance），必须牢记类是抽象的模板，比如Student类，而实例是根据类创建出来的一个个具体的“对象”，每个对象都拥有相同的方法，但各自的数据可能不同。\n",
    "\n",
    "以Student类为例，在Python中，定义类是通过class关键字："
   ]
  },
  {
   "cell_type": "code",
   "execution_count": 167,
   "id": "af9f2316",
   "metadata": {},
   "outputs": [],
   "source": [
    "class Student(object):\n",
    "    pass"
   ]
  },
  {
   "cell_type": "markdown",
   "id": "251b23cb",
   "metadata": {},
   "source": [
    "class后面紧接着是类名，即Student，类名通常是大写开头的单词，紧接着是(object)，表示该类是从哪个类继承下来的，继承的概念我们后面再讲，通常，如果没有合适的继承类，就使用object类，这是所有类最终都会继承的类。"
   ]
  },
  {
   "cell_type": "code",
   "execution_count": 169,
   "id": "5b26eceb",
   "metadata": {},
   "outputs": [
    {
     "name": "stdout",
     "output_type": "stream",
     "text": [
      "joseph <__main__.Student object at 0x7fd745a8e3a0>\n",
      "stanley <__main__.Student object at 0x7fd745a8eac0>\n"
     ]
    }
   ],
   "source": [
    "joseph = Student()\n",
    "stanley = Student()\n",
    "print(\"joseph\", joseph)\n",
    "print(\"stanley\", stanley)"
   ]
  },
  {
   "cell_type": "markdown",
   "id": "3d12d8cd",
   "metadata": {},
   "source": [
    "由于类可以起到模板的作用，因此，可以在创建实例的时候，把一些我们认为必须绑定的属性强制填写进去。通过定义一个特殊的$__init__$方法，在创建实例的时候，就把name，score等属性绑上去："
   ]
  },
  {
   "cell_type": "code",
   "execution_count": 170,
   "id": "2ad4b61a",
   "metadata": {},
   "outputs": [],
   "source": [
    "class Student(object):\n",
    "\n",
    "    def __init__(self, name, score):\n",
    "        self.name = name\n",
    "        self.score = score"
   ]
  },
  {
   "cell_type": "markdown",
   "id": "d89d437c",
   "metadata": {},
   "source": [
    "注意到$__init__$方法的第一个参数永远是self，表示创建的实例本身，因此，在$__init__$方法内部，就可以把各种属性绑定到self，因为self就指向创建的实例本身。\n",
    "\n",
    "有了$__init__$方法，在创建实例的时候，就不能传入空的参数了，必须传入与$__init__$方法匹配的参数，但self不需要传，Python解释器自己会把实例变量传进去。"
   ]
  },
  {
   "cell_type": "code",
   "execution_count": 171,
   "id": "4190339c",
   "metadata": {},
   "outputs": [
    {
     "name": "stdout",
     "output_type": "stream",
     "text": [
      "Joseph\n",
      "100\n"
     ]
    }
   ],
   "source": [
    "joseph = Student(\"Joseph\", 100)\n",
    "print(joseph.name)\n",
    "print(joseph.score)"
   ]
  },
  {
   "cell_type": "code",
   "execution_count": 172,
   "id": "4326a447",
   "metadata": {},
   "outputs": [],
   "source": [
    "class Student(object):\n",
    "\n",
    "    def __init__(self, name, score):\n",
    "        self.name = name\n",
    "        self.score = score\n",
    "        \n",
    "    def modify_score(self, new_score):\n",
    "        self.score = new_score"
   ]
  },
  {
   "cell_type": "code",
   "execution_count": 173,
   "id": "856424c5",
   "metadata": {},
   "outputs": [
    {
     "name": "stdout",
     "output_type": "stream",
     "text": [
      "100\n",
      "99\n"
     ]
    }
   ],
   "source": [
    "joseph = Student(\"Joseph\", 100)\n",
    "print(joseph.score)\n",
    "joseph.modify_score(99)\n",
    "print(joseph.score)"
   ]
  },
  {
   "cell_type": "markdown",
   "id": "a014c3e1",
   "metadata": {},
   "source": [
    "### 继承和多态"
   ]
  },
  {
   "cell_type": "code",
   "execution_count": 182,
   "id": "9c3aa9f5",
   "metadata": {},
   "outputs": [],
   "source": [
    "class Person(object):\n",
    "    def __init__(self, name):\n",
    "        self.name = name\n",
    "        \n",
    "class Student(Person):\n",
    "    def __init__(self, name, score):\n",
    "        super().__init__(name)\n",
    "        self.score = score\n",
    "        \n",
    "class Boss(Person):\n",
    "    def __init__(self, name, money):\n",
    "        super().__init__(name)\n",
    "        self.money = money"
   ]
  },
  {
   "cell_type": "code",
   "execution_count": 183,
   "id": "30b86386",
   "metadata": {},
   "outputs": [
    {
     "name": "stdout",
     "output_type": "stream",
     "text": [
      "Joseph 100\n"
     ]
    }
   ],
   "source": [
    "joseph = Student(\"Joseph\", 100)\n",
    "print(joseph.name, joseph.score)"
   ]
  },
  {
   "cell_type": "code",
   "execution_count": 184,
   "id": "e961ecbe",
   "metadata": {},
   "outputs": [
    {
     "name": "stdout",
     "output_type": "stream",
     "text": [
      "'Boss' object has no attribute 'score'\n",
      "Joseph 1\n"
     ]
    }
   ],
   "source": [
    "joseph = Boss(\"Joseph\", 1)\n",
    "try:\n",
    "    print(joseph.name, joseph.score)\n",
    "except Exception as e:\n",
    "    print(e)\n",
    "finally:\n",
    "    print(joseph.name, joseph.money)"
   ]
  },
  {
   "cell_type": "markdown",
   "id": "a05d99e3",
   "metadata": {},
   "source": [
    "### 构造函数和初始化函数"
   ]
  },
  {
   "cell_type": "markdown",
   "id": "62b55178",
   "metadata": {},
   "source": [
    "$\\text{__init__}$ 方法为初始化方法, $\\text{__new__}$方法才是真正的构造函数。"
   ]
  },
  {
   "cell_type": "code",
   "execution_count": 208,
   "id": "61c29c2e",
   "metadata": {},
   "outputs": [],
   "source": [
    "class Foo(object):\n",
    "\n",
    "    def __new__(cls, *args, **kwargs):\n",
    "        print(cls)\n",
    "        print(args)\n",
    "        print(kwargs)\n",
    "        inst = super().__new__(cls)\n",
    "        print(inst)\n",
    "        try:\n",
    "            print(inst.price)\n",
    "        except Exception as e:\n",
    "            print(e)\n",
    "        return inst\n",
    "\n",
    "    def __init__(self, price=50):\n",
    "        self.price = price"
   ]
  },
  {
   "cell_type": "code",
   "execution_count": 211,
   "id": "cccbba80",
   "metadata": {},
   "outputs": [
    {
     "name": "stdout",
     "output_type": "stream",
     "text": [
      "<class '__main__.Foo'>\n",
      "(60,)\n",
      "{}\n",
      "<__main__.Foo object at 0x7fd7461686a0>\n",
      "'Foo' object has no attribute 'price'\n",
      "\n",
      "<__main__.Foo object at 0x7fd7461686a0>\n",
      "60\n"
     ]
    }
   ],
   "source": [
    "foo = Foo(60)\n",
    "print()\n",
    "print(foo)\n",
    "print(foo.price)"
   ]
  },
  {
   "cell_type": "markdown",
   "id": "031085ae",
   "metadata": {},
   "source": [
    "一般用不上$\\text{__new__}$方法，$\\text{__new__}$方法可以用在下面二种情况。\n",
    "\n",
    "继承不可变数据类型时需要用到$\\text{__new__}$方法(like int, str, or tuple） 。"
   ]
  },
  {
   "cell_type": "code",
   "execution_count": 212,
   "id": "812c745b",
   "metadata": {},
   "outputs": [
    {
     "name": "stdout",
     "output_type": "stream",
     "text": [
      "0.30479999999999996\n"
     ]
    }
   ],
   "source": [
    "class Inch(float):\n",
    "    \"\"\"Convert from inch to meter\"\"\"\n",
    "    def __new__(cls, arg=0.0):\n",
    "        return float.__new__(cls, arg*0.0254)\n",
    "\n",
    "print(Inch(12))"
   ]
  },
  {
   "cell_type": "markdown",
   "id": "d028cd3c",
   "metadata": {},
   "source": [
    "用在**元类**(metaclass)，定制创建类对象。先定义metaclass，就可以创建类，最后创建实例。\n",
    "\n",
    "一个简单的例子，这个metaclass可以给我们自定义的MyList增加一个add方法："
   ]
  },
  {
   "cell_type": "code",
   "execution_count": 232,
   "id": "fa4b9f0a",
   "metadata": {},
   "outputs": [],
   "source": [
    "# metaclass是类的模板，所以必须从`type`类型派生：\n",
    "class ListMetaclass(type):\n",
    "    def __new__(cls, name, bases, attrs):\n",
    "        attrs['name'] = name\n",
    "        attrs['add'] = lambda self, value: self.append(value)\n",
    "        return type.__new__(cls, name, bases, attrs)\n",
    "    \n",
    "class MyList(list, metaclass=ListMetaclass):\n",
    "    pass"
   ]
  },
  {
   "cell_type": "code",
   "execution_count": 233,
   "id": "51f171ed",
   "metadata": {},
   "outputs": [
    {
     "name": "stdout",
     "output_type": "stream",
     "text": [
      "MyList\n",
      "[]\n",
      "[2]\n"
     ]
    }
   ],
   "source": [
    "lst = MyList()\n",
    "print(lst.name)\n",
    "print(lst)\n",
    "lst.add(2)\n",
    "print(lst)"
   ]
  },
  {
   "cell_type": "code",
   "execution_count": 235,
   "id": "1438589e",
   "metadata": {},
   "outputs": [
    {
     "name": "stdout",
     "output_type": "stream",
     "text": [
      "'list' object has no attribute 'name'\n",
      "[]\n",
      "'list' object has no attribute 'add'\n",
      "[2]\n"
     ]
    }
   ],
   "source": [
    "lst = list()\n",
    "try:\n",
    "    print(lst.name)\n",
    "except Exception as e:\n",
    "    print(e)\n",
    "try:\n",
    "    print(lst)\n",
    "except Exception as e:\n",
    "    print(e)\n",
    "try:\n",
    "    lst.add(2)\n",
    "except Exception as e:\n",
    "    print(e)\n",
    "lst.append(2)\n",
    "print(lst)"
   ]
  },
  {
   "cell_type": "markdown",
   "id": "766176f5",
   "metadata": {},
   "source": [
    "<center> <h2>Pythonic</h2> </center>"
   ]
  },
  {
   "cell_type": "markdown",
   "id": "6f1df909",
   "metadata": {},
   "source": [
    "[PEP 8 -- Style Guide for Python Code](https://www.python.org/dev/peps/pep-0008/)\n",
    "\n",
    "PEP 8 于 2001 年由 Python 创始人Guido van Rossum等三位大佬编写而成，是提高代码可读性同时保持项目内代码风格一致的编程指导。PEP 代表 **Python Enhancement Proposal**。"
   ]
  },
  {
   "cell_type": "code",
   "execution_count": 187,
   "id": "2767c4fa",
   "metadata": {},
   "outputs": [
    {
     "name": "stdout",
     "output_type": "stream",
     "text": [
      "The Zen of Python, by Tim Peters\n",
      "\n",
      "Beautiful is better than ugly.\n",
      "Explicit is better than implicit.\n",
      "Simple is better than complex.\n",
      "Complex is better than complicated.\n",
      "Flat is better than nested.\n",
      "Sparse is better than dense.\n",
      "Readability counts.\n",
      "Special cases aren't special enough to break the rules.\n",
      "Although practicality beats purity.\n",
      "Errors should never pass silently.\n",
      "Unless explicitly silenced.\n",
      "In the face of ambiguity, refuse the temptation to guess.\n",
      "There should be one-- and preferably only one --obvious way to do it.\n",
      "Although that way may not be obvious at first unless you're Dutch.\n",
      "Now is better than never.\n",
      "Although never is often better than *right* now.\n",
      "If the implementation is hard to explain, it's a bad idea.\n",
      "If the implementation is easy to explain, it may be a good idea.\n",
      "Namespaces are one honking great idea -- let's do more of those!\n"
     ]
    }
   ],
   "source": [
    "import this"
   ]
  },
  {
   "cell_type": "code",
   "execution_count": 188,
   "id": "c5fe9fc7",
   "metadata": {},
   "outputs": [
    {
     "data": {
      "text/html": [
       "<img src=\"basics-contents/pep.jpeg\" width=\"800\" height=\"150\"/>"
      ],
      "text/plain": [
       "<IPython.core.display.Image object>"
      ]
     },
     "execution_count": 188,
     "metadata": {},
     "output_type": "execute_result"
    }
   ],
   "source": [
    "Image(url= \"basics-contents/pep.jpeg\", width=800, height=150)"
   ]
  },
  {
   "cell_type": "markdown",
   "id": "138bfa7c",
   "metadata": {},
   "source": [
    "### 1. 编码声明 Source File Encoding\n",
    "\n",
    "Py2 ---- ASCII\n",
    "\n",
    "Py3 ---- UTF-8\n",
    "\n",
    "Note: 若所用字符集和 Python 版本与上述一致时不用声明，如需声明，格式如下\n",
    "\n"
   ]
  },
  {
   "cell_type": "markdown",
   "id": "8dab0517",
   "metadata": {},
   "source": [
    "```\n",
    "# -*- coding: <encoding name> -*-\n",
    "```"
   ]
  },
  {
   "cell_type": "markdown",
   "id": "77f6e8cf",
   "metadata": {},
   "source": [
    "### 2. 引入 Import\n",
    "\n",
    "文件开头声明部分的先后顺序如下："
   ]
  },
  {
   "cell_type": "markdown",
   "id": "cb13ac8e",
   "metadata": {},
   "source": [
    "```\n",
    "# 1. 文档字符串\n",
    "\"\"\"This is the example module.\"\"\"\n",
    "\n",
    "# 2. future imports\n",
    "from __fugure__ import barry_as_FLUFL\n",
    "\n",
    "# 3. Dunders (magic methods)\n",
    "__all__ = ['a', 'b', 'c']\n",
    "__version__ = '0.1'\n",
    "\n",
    "# 4. 标准库\n",
    "import os\n",
    "from datetime import datetime\n",
    "\n",
    "# 5. 第三方库\n",
    "import tensorflow as tf\n",
    "\n",
    "# 6. 本地代码\n",
    "from apps.common.utils import CustomListView\n",
    "```"
   ]
  },
  {
   "cell_type": "markdown",
   "id": "af4a5957",
   "metadata": {},
   "source": [
    "* import 只引入 1 个, from...Import... 引入 1 或多 个\n",
    "* 建议 使用绝对路径引入，如果路径过长也可以使用相对路径\n",
    "* 不建议import *，这样没表示清楚引入了哪些变量，而且可能导致命名冲突"
   ]
  },
  {
   "cell_type": "markdown",
   "id": "48dc578b",
   "metadata": {},
   "source": [
    "### 3. 接口声明 Public and Internal Interfaces\n",
    "\n",
    "对于模块，但凡可调用的开放接口应在 $__all__$ 中声明，若没有则留空"
   ]
  },
  {
   "cell_type": "markdown",
   "id": "a863ea93",
   "metadata": {},
   "source": [
    "### 4. 空行 Blank Lines\n",
    "\n",
    "方法Method ---- 1 行\n",
    "\n",
    "顶级函数Function, 类Class ---- 2 行\n",
    "\n",
    "文件结尾留一个空白行 (The newline character is considered a **lineterminator**, not a **linedelimiter**.)"
   ]
  },
  {
   "cell_type": "markdown",
   "id": "97fe3350",
   "metadata": {},
   "source": [
    "### 5. 引号 Quotes\n",
    "\n",
    "单双引号均可，无特别规定...(建议在同一个项目中使用一致)"
   ]
  },
  {
   "cell_type": "markdown",
   "id": "88de7992",
   "metadata": {},
   "source": [
    "### 6. 空格 Space\n",
    "\n",
    "* 运算符 operator 左右加空格， 运算优先级最低的运算符左右加空格\n",
    "\n",
    "```\n",
    "apple = 1\n",
    "banana *= 2\n",
    "height = x*x + y*y\n",
    "c     += 3  # No !!!!!!!!!!!!!!\n",
    "```\n",
    "\n",
    "* 使用 () [] {} : 时注意空格\n",
    "\n",
    "```\n",
    "# 1. 内部不要空格 `()`, `[]`, `{}`\n",
    "spam( ham[1], {eggs: 2})  \n",
    "\n",
    "# 2. 函数与参数间不要空格\n",
    "spam (1)\n",
    "\n",
    "# 3. 索引或切片不要空格\n",
    "dct ['key'] = lst [index]\n",
    "\n",
    "# 4. 逗号与 `)`,`]`,`}`间不空格\n",
    "bar = (0, )\n",
    "list = [2, ]\n",
    "dict = {'a': 1, }\n",
    "\n",
    "# 5. `,`, `:`, `;` 之前不要空格\n",
    "if x == 4 : print x , y ; x , y = y , x\n",
    "\n",
    "# 6. 切片时,`:`左右空格数量一致\n",
    "ham[lower+offset : upper+offset]\n",
    "ham[a + b : c + d]\n",
    "```\n",
    "\n",
    "* 参数的=左右不要加空格（除非是函数注释参数的默认值)\n",
    "\n",
    "```\n",
    "def complex(real, imag = 0.0):  # No!!!!!!!!!!!\n",
    "```\n",
    "\n",
    "* 函数注释的箭头 ->左右空格:\n",
    "\n",
    "```\n",
    "def munge(name: str = 'Jax') -> str:\n",
    "```\n",
    "\n",
    "* 行末不要空格"
   ]
  },
  {
   "cell_type": "markdown",
   "id": "3886affd",
   "metadata": {},
   "source": [
    "### 7. 缩进 Indentation\n",
    "\n",
    "正确示范：\n",
    "\n",
    "```\n",
    "# Correct:\n",
    "\n",
    "# Aligned with opening delimiter.\n",
    "foo = long_function_name(var_one, var_two,\n",
    "                         var_three, var_four)\n",
    "\n",
    "# Add 4 spaces (an extra level of indentation) to distinguish arguments from the rest.\n",
    "def long_function_name(\n",
    "        var_one, var_two, var_three,\n",
    "        var_four):\n",
    "    print(var_one)\n",
    "\n",
    "# Hanging indents should add a level.\n",
    "foo = long_function_name(\n",
    "    var_one, var_two,\n",
    "    var_three, var_four)\n",
    "```\n",
    "\n",
    "错误示范：\n",
    "\n",
    "```\n",
    "# Wrong:\n",
    "\n",
    "# Arguments on first line forbidden when not using vertical alignment.\n",
    "foo = long_function_name(var_one, var_two,\n",
    "    var_three, var_four)\n",
    "\n",
    "# Further indentation required as indentation is not distinguishable.\n",
    "def long_function_name(\n",
    "    var_one, var_two, var_three,\n",
    "    var_four):\n",
    "    print(var_one)\n",
    "```"
   ]
  },
  {
   "cell_type": "markdown",
   "id": "ea3e76c2",
   "metadata": {},
   "source": [
    "### 8. 多行结构数据 Multiple line structured data\n",
    "\n",
    "```\n",
    "my_list = [\n",
    "    1, 2, 3,\n",
    "    4, 5, 6,\n",
    "    ]\n",
    "# 或 \n",
    "my_list = [\n",
    "    1, 2, 3,\n",
    "    4, 5, 6,\n",
    "]\n",
    "```\n",
    "\n",
    "创建包含多行元素的元组或列表\n",
    "\n",
    "```\n",
    "# 创建元组\n",
    "FILES = ('setup.cfg',)\n",
    "\n",
    "# 不建议：\n",
    "FILES = 'setup.cfg',\n",
    "\n",
    "# 列表需要将元素单独成行\n",
    "FILES = [\n",
    "    'setup.cfg',\n",
    "    'tox.ini',\n",
    "    ]\n",
    "    \n",
    "# 不要写在同一行\n",
    "FILES = ['setup.cfg', 'tox.ini',]\n",
    "```"
   ]
  },
  {
   "cell_type": "markdown",
   "id": "33dce718",
   "metadata": {},
   "source": [
    "### 9. 每行最大字符数 Maximum Line Length\n",
    "\n",
    "普通代码 ---- **79 chars**\n",
    "\n",
    "项目代码 ---- **80 ~ 100 chars**\n",
    "\n",
    "文档字符串或注释等无格式规定的长文本 ---- **72 chars**\n",
    "\n",
    "Tips: 79个字符是为了适应13寸屏幕，超了79会显示不全...."
   ]
  },
  {
   "cell_type": "markdown",
   "id": "197904ab",
   "metadata": {},
   "source": [
    "### 10. 换行 Line Break Before a Binary Operator\n",
    "\n",
    "对于**操作符**，这样换行可读性更好\n",
    "\n",
    "```\n",
    "income = (gross_wages\n",
    "          + taxable_interest\n",
    "          + (dividends - qualified_dividends)\n",
    "          - ira_deduction\n",
    "          - student_loan_interest)\n",
    "```\n",
    "\n",
    "**如果 with 语句过长**，可以用反下划线换行\n",
    "\n",
    "```\n",
    "with open('/path/to/some/file/you/want/to/read') as file_1, \\\n",
    "     open('/path/to/some/file/being/written', 'w') as file_2:\n",
    "    file_2.write(file_1.read())\n",
    "```\n",
    "\n",
    "**如果 if 语句过长**，可以换行缩进\n",
    "\n",
    "```\n",
    "# 换行\n",
    "if (this_is_one_thing and\n",
    "    that_is_another_thing):\n",
    "    \n",
    "# 或换行缩进4个空格\n",
    "if (this_is_one_thing\n",
    "        and that_is_another_thing):\n",
    "```\n",
    "\n",
    "**不建议将多个声明写在同一行, 除非(if/for/while的)执行体比较短**:\n",
    "\n",
    "```\n",
    "if foo == 'blah': do_something()\n",
    "if foo == 'blah': one(); two(); three(); four();  # No !!!\n",
    "```"
   ]
  },
  {
   "cell_type": "markdown",
   "id": "ddaf3307",
   "metadata": {},
   "source": [
    "### 11. 注释 Comments\n",
    "\n",
    "注释需要随代码更新而更新，且应是一个完整句子\n",
    "\n",
    "* 块注释 Block Comments ---- # + 空格 + 注释\n",
    "\n",
    "与代码缩进一致，分割注释的空行也要加 #\n",
    "\n",
    "* 行内注释 Inline Comments ---- 空格至少 x 2 + # + 空格 + 注释"
   ]
  },
  {
   "cell_type": "markdown",
   "id": "e3f7f3fe",
   "metadata": {},
   "source": [
    "### 12. 文档字符串 Documentation Strings\n",
    "\n",
    "* **单行**: 起始与结束 \"\"\" 放同一行\n",
    "\n",
    "* **多行**：结束 \"\"\" 单独一行\n",
    "\n",
    "```\n",
    "def func(arg):\n",
    "    \"\"\"This is a func.\"\"\"\n",
    "    \n",
    "def func(arg):\n",
    "    \"\"\"This is a long long long\n",
    "    paragraph of explanation.\n",
    "    \"\"\"\n",
    "```"
   ]
  },
  {
   "cell_type": "markdown",
   "id": "67338024",
   "metadata": {},
   "source": [
    "### 13. 命名规范 Naming Conventions\n",
    "\n",
    "一个名称应该能够反映出它的用途并且尽可能的简短，\n",
    "\n",
    "| 类型                          | 命名规范           | 示例           |\n",
    "| :--------------------------: |:-----------------:| :------------:|\n",
    "| 变量，函数，类方法，模块，包      | 小写字母 + 数字 + _ | users, get_object_or_404 |\n",
    "| 类，异常                      | 驼峰式命名         | UserListView ， NotFoundException | \n",
    "| 常量                         | 全大写字母 + _      | CONSTANT, DATA_FORMAT                   | \n",
    "\n",
    "\n",
    "Tips: 别用\"I\" 或 \"O\"命名，因为容易混淆为1，0\n",
    "\n",
    "```\n",
    "# 无法一眼看出那个是0, 哪个是1\n",
    "O = 1 \n",
    "```"
   ]
  },
  {
   "cell_type": "markdown",
   "id": "755a81bd",
   "metadata": {},
   "source": [
    "### 14. 变量命名潜规则 Naming Styles\n",
    "* $ \\text{_name}$ ---- 开头下划线：内部使用的变量，即私有变量\n",
    "\n",
    "* $\\text{name_}$ ----- 结尾下划线：避免与python关键字冲突\n",
    "\n",
    "* $\\text{__name}$ ---- 开头双下划线：不希望被子类继承使用的类属性\n",
    "\n",
    "* $\\text{__name__}$ ---- 开头结尾双下划线：魔术变量"
   ]
  },
  {
   "cell_type": "markdown",
   "id": "f08cb7ef",
   "metadata": {},
   "source": [
    "### 15. 其他建议\n",
    "\n",
    "1. 对比一个具体的特殊值时，用 is 绝不用 ==\n",
    "\n",
    "```\n",
    "if x is True:  # Yes !\n",
    "if x == True:  # Never ....\n",
    "```\n",
    "\n",
    "2. 虽然 not ... is不出错，但是 is not 可读性更好\n",
    "\n",
    "```\n",
    "if x is not None:  # Yes!\n",
    "if not x is None:  # No ...\n",
    "```\n",
    "\n",
    "3. 用关键字 def 声明匿名函数，不要直接赋值给变量\n",
    "\n",
    "```\n",
    "def f(x): return 2*x  # Yes！\n",
    "f = lambda x: 2*x  # No ...\n",
    "```\n",
    "\n",
    "4. 创建一个自定义异常类的时候，从 **Exception** 继承而不是 **BaseException**\n",
    "\n",
    "5. 用 raise X from Y 的方式抛异常时确保最根源的错误信息完整的传递\n",
    "\n",
    "6. 捕捉异常时**尽量**用 except + 异常名称, 不要直接用 except，即使需要捕捉所有异常，也要用 except Exception\n",
    "\n",
    "7. 捕捉系统错误时，建议使用errno\n",
    "\n",
    "[errno --- 标准 errno 系统符号](https://docs.python.org/zh-cn/3/library/errno.html)\n",
    "\n",
    "8. **建议**try 语句执行的代码越精简越好，确保没有漏掉异常\n",
    "\n",
    "9. **建议**用with open的方式打开一个资源文件\n",
    "\n",
    "10. 同一个函数里 return 的返回值应确保一致性，显式声明返回了什么\n",
    "\n",
    "11. 建议用startswith()和endswith()比较字符串结尾或开头的字符，别用切片\n",
    "\n",
    "```\n",
    "# Yes\n",
    "if foo.startswith('bar')\n",
    "# No:\n",
    "if foo[:3] == 'bar'\n",
    "```\n",
    "\n",
    "12. 建议用isinstance()比较对象所属类，不要直接比较type()\n",
    "\n",
    "```\n",
    "if isinstance(obj, int):  # Yes! \n",
    "if type(obj) is type(1):  # No...\n",
    "```\n",
    "\n",
    "13. 建议用if直接判断空的字符序列，不用 len()\n",
    "\n",
    "```\n",
    "if not seq:   # Yes !\n",
    "if len(seq):  # No..\n",
    "```\n",
    "\n",
    "14. 引入时命名冲突如何解决？\n",
    "\n",
    "```\n",
    "# 1. 使用别名\n",
    "\n",
    "from apps.A.views import MyClass as A\n",
    "from apps.B.views import MyClass as B\n",
    "\n",
    "# 2. 使用相对路径\n",
    "\n",
    "import apps.A.views.MyClass\n",
    "import apps.B.views\n",
    "a = MyClass()\n",
    "b = apps.B.views.MyClass()\n",
    "```\n"
   ]
  },
  {
   "cell_type": "markdown",
   "id": "ead10cb6",
   "metadata": {},
   "source": [
    "规范的作用是为了保持代码编写时的一致性，切忌死守教条，按图索骥！如果代码编写风格遇到不一致时:\n",
    "编程风格一致性优先级别：\n",
    "\n",
    "<center><h4>模块Module、函数 Function > 项目 > PEP-8 </h4></center>\n",
    "\n",
    "> A style guide is about consistency. Consistency with this style guide is important. Consistency within a project is more important. Consistency within one module or function is the most important."
   ]
  },
  {
   "cell_type": "markdown",
   "id": "fd7c23bd",
   "metadata": {},
   "source": [
    "\n",
    "<p style=\"text-align: right\"> Aug 4th, 2021 </p>"
   ]
  }
 ],
 "metadata": {
  "kernelspec": {
   "display_name": "Python 3",
   "language": "python",
   "name": "python3"
  },
  "language_info": {
   "codemirror_mode": {
    "name": "ipython",
    "version": 3
   },
   "file_extension": ".py",
   "mimetype": "text/x-python",
   "name": "python",
   "nbconvert_exporter": "python",
   "pygments_lexer": "ipython3",
   "version": "3.8.5"
  }
 },
 "nbformat": 4,
 "nbformat_minor": 5
}
