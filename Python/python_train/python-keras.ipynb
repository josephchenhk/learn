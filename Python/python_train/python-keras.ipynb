{
 "cells": [
  {
   "cell_type": "markdown",
   "id": "316a96a1",
   "metadata": {},
   "source": [
    "<center> <h1>用Python做深度学习（Keras）</h1> </center>"
   ]
  },
  {
   "cell_type": "markdown",
   "id": "a560f32c",
   "metadata": {},
   "source": [
    "\n",
    "<p style=\"text-align:right\">Aug 6th, 2021</p>\n"
   ]
  },
  {
   "cell_type": "markdown",
   "id": "648e5553",
   "metadata": {},
   "source": [
    "Keras 是一个高级的 (high-level) 深度学习框架，作者是 François Chollet。Keras 可以以两种方法运行：\n",
    "\n",
    "1. 以 TensorFlow, CNTK, 或者 Theano 作为后端 (backend) 运行\n",
    "\n",
    "2. 在 TensorFlow 里面直接运行 tf.keras"
   ]
  },
  {
   "cell_type": "code",
   "execution_count": 11,
   "id": "a057964a",
   "metadata": {},
   "outputs": [],
   "source": [
    "from IPython.display import Image"
   ]
  },
  {
   "cell_type": "code",
   "execution_count": 14,
   "id": "5a6d04b8",
   "metadata": {},
   "outputs": [
    {
     "data": {
      "text/html": [
       "<img src=\"contents/keras-pic.png\" width=\"800\" height=\"150\"/>"
      ],
      "text/plain": [
       "<IPython.core.display.Image object>"
      ]
     },
     "execution_count": 14,
     "metadata": {},
     "output_type": "execute_result"
    }
   ],
   "source": [
    "Image(url= \"contents/keras-pic.png\", width=800, height=150)"
   ]
  },
  {
   "cell_type": "markdown",
   "id": "b156e6bf",
   "metadata": {},
   "source": [
    "我们用的是 TensorFlow 下面的 Keras，不过在本贴不会涉及任何关于 TensorFlow 的内容，只单单讲解 tf.keras 下面的内容。首先引入 tensorflow 和 keras。"
   ]
  },
  {
   "cell_type": "code",
   "execution_count": 15,
   "id": "36c76928",
   "metadata": {},
   "outputs": [],
   "source": [
    "import tensorflow as tf\n",
    "import tensorflow.keras as keras"
   ]
  },
  {
   "cell_type": "markdown",
   "id": "2cd77ee9",
   "metadata": {},
   "source": [
    "Keras 是深度学习框架，里面有各种深度学习模型，介绍它之前让我们先回忆下它的好兄弟 - 机器学习框架 Scikit-Learn。"
   ]
  },
  {
   "cell_type": "markdown",
   "id": "33ec9408",
   "metadata": {},
   "source": [
    "### Scikit-Learn"
   ]
  },
  {
   "cell_type": "markdown",
   "id": "2336768a",
   "metadata": {},
   "source": [
    "在 Scikit-Learn 里完整的一套流程如下："
   ]
  },
  {
   "cell_type": "code",
   "execution_count": 17,
   "id": "e95abc89",
   "metadata": {},
   "outputs": [
    {
     "data": {
      "text/html": [
       "<img src=\"contents/sklearn-process.png\" width=\"800\" height=\"150\"/>"
      ],
      "text/plain": [
       "<IPython.core.display.Image object>"
      ]
     },
     "execution_count": 17,
     "metadata": {},
     "output_type": "execute_result"
    }
   ],
   "source": [
    "Image(url= \"contents/sklearn-process.png\", width=800, height=150)"
   ]
  },
  {
   "cell_type": "markdown",
   "id": "f915532f",
   "metadata": {},
   "source": [
    "数据是不可缺少的，Scikit-Learn 里面也有不少自带数据集。大家应该还记得 Scikit-Learn 里面的三大核心 API 吧：估计器（<font color='pink'><b>estimator</b></font> ），预测器（<font color='pink'><b>predictor</b></font>）和转换器（<font color='pink'><b>transformer</b></font>）。从上图看估计器用来构建模型和拟合模型，而预测器用来评估模型。而转换器一般用来做数据预处理得到干净的 X_train 和 y_train。\n",
    "\n",
    "除了数据和模型，要完成一个任务还需定义<font color='pink'><b>损失函数</b></font>（loss function）和指定<font color='pink'><b>算法</b></font>（algorithm），它们都隐藏在 Scikit-Learn 的具体模型中，比如\n",
    "\n",
    "* LinearRegression 模型用的是 mean_square_error 损失函数，用梯度下降算法\n",
    "\n",
    "* LogisticRegression 模型用的是 cross_entropy 损失函数，用梯度下降算法\n",
    "\n",
    "损失函数和算法都会在 Keras 里面都会显性定义出来，带着上面 Scikit-Learn 的图，让我们来看看 Keras 的高层流程。"
   ]
  },
  {
   "cell_type": "markdown",
   "id": "c42f0597",
   "metadata": {},
   "source": [
    "### Keras"
   ]
  },
  {
   "cell_type": "markdown",
   "id": "f7ebb5e3",
   "metadata": {},
   "source": [
    "Keras 里面的模型都是神经网络，而神经网络都是一层一层（layer by layer）叠加起来的，在Keras 里完整的一套流程如下："
   ]
  },
  {
   "cell_type": "code",
   "execution_count": 18,
   "id": "3e652b53",
   "metadata": {},
   "outputs": [
    {
     "data": {
      "text/html": [
       "<img src=\"contents/keras-process.png\" width=\"800\" height=\"150\"/>"
      ],
      "text/plain": [
       "<IPython.core.display.Image object>"
      ]
     },
     "execution_count": 18,
     "metadata": {},
     "output_type": "execute_result"
    }
   ],
   "source": [
    "Image(url= \"contents/keras-process.png\", width=800, height=150)"
   ]
  },
  {
   "cell_type": "markdown",
   "id": "ffa22fa4",
   "metadata": {},
   "source": [
    "总共分五步：\n",
    "\n",
    "1. **引入数据**：和 Scikit-Learn 操作一样\n",
    "\n",
    "* 用 numpy 数据\n",
    "\n",
    "* 引用自带数据\n",
    "\n",
    "2. **构建模型**：用 Keras 构建模型就类似把每层当积木连起来称为一个网络， 连接的方法有三种：\n",
    "\n",
    "* 序列式（sequential）\n",
    "\n",
    "* 函数式（functional）\n",
    "\n",
    "* 子类化（subclassing）\n",
    "\n",
    "3. **编译模型**：这是 Scikit-Learn 里面没有的，显性定义出损失函数（loss）、优化方法（optimizer）和监控指标（metrics）。\n",
    "\n",
    "4. **拟合模型**：和 Scikit-Learn 里的估计器类似，但可以额外设定 epoch 数量、是否包含验证集、设定调用函数里面的指标，等等。\n",
    "\n",
    "5. **评估模型**：和 Scikit-Learn 里的预测器类似。"
   ]
  },
  {
   "cell_type": "markdown",
   "id": "d4a6eff9",
   "metadata": {},
   "source": [
    "<center> <h1>Keras 数据</h1> </center>"
   ]
  },
  {
   "cell_type": "markdown",
   "id": "badbc76f",
   "metadata": {},
   "source": [
    "Keras 的数据格式就是 numpy array。\n",
    "\n",
    "机器学习 (深度学习) 中用到的数据，包括结构性数据 (数据表) 和非结构性数据 (序列、图片、视屏) 都是张量，总结如下：\n",
    "\n",
    "* 数据表-2D 形状 = (<font color=\"red\">样本数</font>，特征数)\n",
    "\n",
    "* 序列类-3D 形状 = (<font color=\"red\">样本数</font>，步长，特征数)\n",
    "\n",
    "* 图像类-4D 形状 = (<font color=\"red\">样本数</font>，宽，高，通道数)\n",
    "\n",
    "* 视屏类-5D 形状 = (<font color=\"red\">样本数</font>，帧数，宽，高，通道数)\n",
    "\n",
    "机器学习，尤其深度学习，需要大量的数据，因此<font color=\"red\">样本数</font>肯定占一个维度，惯例我们把它称为维度 1。这样机器学习要处理的张量至少从 2 维开始。"
   ]
  },
  {
   "cell_type": "markdown",
   "id": "cdbccee0",
   "metadata": {},
   "source": [
    "### 2D数据表"
   ]
  },
  {
   "cell_type": "markdown",
   "id": "8e32c54e",
   "metadata": {},
   "source": [
    "2 维张量就是矩阵，也叫数据表，一般用 csv 存储。"
   ]
  },
  {
   "cell_type": "code",
   "execution_count": 20,
   "id": "24c5c47d",
   "metadata": {},
   "outputs": [
    {
     "data": {
      "text/html": [
       "<img src=\"contents/2d-data.png\" width=\"800\" height=\"150\"/>"
      ],
      "text/plain": [
       "<IPython.core.display.Image object>"
      ]
     },
     "execution_count": 20,
     "metadata": {},
     "output_type": "execute_result"
    }
   ],
   "source": [
    "Image(url= \"contents/2d-data.png\", width=800, height=150)"
   ]
  },
  {
   "cell_type": "markdown",
   "id": "fa990b88",
   "metadata": {},
   "source": [
    "这套房屋 21,000 个数据包括其价格 (y)，平方英尺，卧室数，楼层，日期，翻新年份等等 21 栏。该数据形状为 (21000, 21)。传统机器学习的线性回归可以来预测房价。"
   ]
  },
  {
   "cell_type": "code",
   "execution_count": 21,
   "id": "e19ff805",
   "metadata": {},
   "outputs": [
    {
     "data": {
      "text/html": [
       "<img src=\"contents/2d-data2.png\" width=\"800\" height=\"150\"/>"
      ],
      "text/plain": [
       "<IPython.core.display.Image object>"
      ]
     },
     "execution_count": 21,
     "metadata": {},
     "output_type": "execute_result"
    }
   ],
   "source": [
    "Image(url= \"contents/2d-data2.png\", width=800, height=150)"
   ]
  },
  {
   "cell_type": "markdown",
   "id": "a2072699",
   "metadata": {},
   "source": [
    "### 3D数据表"
   ]
  },
  {
   "cell_type": "markdown",
   "id": "b62e558b",
   "metadata": {},
   "source": [
    "推特 (twitter) 的每条推文 (tweet) 规定只能发 280 个字符。在编码推文时，将 280 个字符的序列用独热编码 (one-hot encoding) 到包含 128 个字符的 ASCII 表，如下所示。"
   ]
  },
  {
   "cell_type": "code",
   "execution_count": 23,
   "id": "d3a5be1d",
   "metadata": {},
   "outputs": [
    {
     "data": {
      "text/html": [
       "<img src=\"contents/3d-data-ascii.png\" width=\"800\" height=\"150\"/>"
      ],
      "text/plain": [
       "<IPython.core.display.Image object>"
      ]
     },
     "execution_count": 23,
     "metadata": {},
     "output_type": "execute_result"
    }
   ],
   "source": [
    "Image(url= \"contents/3d-data-ascii.png\", width=800, height=150)"
   ]
  },
  {
   "cell_type": "markdown",
   "id": "10253b80",
   "metadata": {},
   "source": [
    "这样，每条推文都可以编码为 2 维张量形状 (280, 128)，比如一条 tweet 是 \"<font color=\"pink\"><b>I love python :)</b></font>\"，这句话映射到 ASCII 表变成："
   ]
  },
  {
   "cell_type": "code",
   "execution_count": 25,
   "id": "951d2ae1",
   "metadata": {},
   "outputs": [
    {
     "data": {
      "text/html": [
       "<img src=\"contents/3d-data-ascii2.png\" width=\"800\" height=\"150\"/>"
      ],
      "text/plain": [
       "<IPython.core.display.Image object>"
      ]
     },
     "execution_count": 25,
     "metadata": {},
     "output_type": "execute_result"
    }
   ],
   "source": [
    "Image(url= \"contents/3d-data-ascii2.png\", width=800, height=150)"
   ]
  },
  {
   "cell_type": "markdown",
   "id": "e90366f1",
   "metadata": {},
   "source": [
    "如果收集到 1 百万条推文，那么整个数据集的形状为 (1000000, 280, 128)。传统机器学习的对率回归可以来做情感分析。\n",
    "\n",
    "3 维张量的数据表示图如下："
   ]
  },
  {
   "cell_type": "code",
   "execution_count": 26,
   "id": "cfef1fd2",
   "metadata": {},
   "outputs": [
    {
     "data": {
      "text/html": [
       "<img src=\"contents/3d-data-ascii3.png\" width=\"800\" height=\"150\"/>"
      ],
      "text/plain": [
       "<IPython.core.display.Image object>"
      ]
     },
     "execution_count": 26,
     "metadata": {},
     "output_type": "execute_result"
    }
   ],
   "source": [
    "Image(url= \"contents/3d-data-ascii3.png\", width=800, height=150)"
   ]
  },
  {
   "cell_type": "markdown",
   "id": "0a05157e",
   "metadata": {},
   "source": [
    "### 4D 图像数据"
   ]
  },
  {
   "cell_type": "markdown",
   "id": "3a3aa14f",
   "metadata": {},
   "source": [
    "图像通常具有 3 个维度：宽度，高度和颜色通道。虽然是黑白图像 (如 MNIST 数字) 只有一个颜色通道，按照惯例，我们还是把它当成 4 维，即颜色通道只有一维。\n",
    "\n",
    "* 一组黑白照片可存成形状为 (样本数，宽，高，<font color=\"red\">1</font>) 的 4 维张量\n",
    "\n",
    "* 一组彩色照片可存成形状为 (样本数，宽，高，<font color=\"blue\">3</font>) 的 4 维张量"
   ]
  },
  {
   "cell_type": "code",
   "execution_count": 28,
   "id": "1e8baf35",
   "metadata": {},
   "outputs": [
    {
     "data": {
      "text/html": [
       "<img src=\"contents/4d-data1.png\" width=\"800\" height=\"150\"/>"
      ],
      "text/plain": [
       "<IPython.core.display.Image object>"
      ]
     },
     "execution_count": 28,
     "metadata": {},
     "output_type": "execute_result"
    }
   ],
   "source": [
    "Image(url= \"contents/4d-data1.png\", width=800, height=150)"
   ]
  },
  {
   "cell_type": "markdown",
   "id": "c0943e05",
   "metadata": {},
   "source": [
    "通常 0 代表黑色，255 代表白色。\n",
    "\n",
    "4 维张量的数据表示图如下："
   ]
  },
  {
   "cell_type": "code",
   "execution_count": 29,
   "id": "a1598465",
   "metadata": {},
   "outputs": [
    {
     "data": {
      "text/html": [
       "<img src=\"contents/4d-data2.png\" width=\"800\" height=\"150\"/>"
      ],
      "text/plain": [
       "<IPython.core.display.Image object>"
      ]
     },
     "execution_count": 29,
     "metadata": {},
     "output_type": "execute_result"
    }
   ],
   "source": [
    "Image(url= \"contents/4d-data2.png\", width=800, height=150)"
   ]
  },
  {
   "cell_type": "markdown",
   "id": "5328c453",
   "metadata": {},
   "source": [
    "### 5D 视频数据"
   ]
  },
  {
   "cell_type": "markdown",
   "id": "e4048dcd",
   "metadata": {},
   "source": [
    "视频可以被分解成一幅幅帧 (frame)。\n",
    "\n",
    "* 每幅帧就是彩色图像，可以存储在形状是 (宽度，高度，通道) 的 3D 张量中\n",
    "\n",
    "* 视频 (一个序列的帧) 可以存储在形状是 (<font color=\"red\">帧数</font>，宽度，高度，通道) 的 4D 张量中\n",
    "\n",
    "* 一批不同的视频可以存储在形状是 (<font color=\"blue\">样本数</font>，<font color=\"red\">帧数</font>，宽度，高度，通道) 的 5D 张量中\n",
    "\n",
    "下面一个 9:42 秒的 1280 x 720 油管视屏 (哈登三分绝杀勇士)，被分解成 40 个样本数据，每个样本包括 240 帧。这样的视频剪辑将存储在形状为 (<font color=\"blue\">40</font>, <font color=\"red\">240</font>, 1280, 720, 3) 的张量中。"
   ]
  },
  {
   "cell_type": "code",
   "execution_count": 31,
   "id": "b2df7336",
   "metadata": {},
   "outputs": [
    {
     "data": {
      "text/html": [
       "<img src=\"contents/5d-data1.png\" width=\"800\" height=\"150\"/>"
      ],
      "text/plain": [
       "<IPython.core.display.Image object>"
      ]
     },
     "execution_count": 31,
     "metadata": {},
     "output_type": "execute_result"
    }
   ],
   "source": [
    "Image(url= \"contents/5d-data1.png\", width=800, height=150)"
   ]
  },
  {
   "cell_type": "markdown",
   "id": "fa3ac0c3",
   "metadata": {},
   "source": [
    "5 维张量的数据表示图如下："
   ]
  },
  {
   "cell_type": "code",
   "execution_count": 33,
   "id": "3e7c0eb7",
   "metadata": {},
   "outputs": [
    {
     "data": {
      "text/html": [
       "<img src=\"contents/5d-data2.png\" width=\"800\" height=\"150\"/>"
      ],
      "text/plain": [
       "<IPython.core.display.Image object>"
      ]
     },
     "execution_count": 33,
     "metadata": {},
     "output_type": "execute_result"
    }
   ],
   "source": [
    "Image(url= \"contents/5d-data2.png\", width=800, height=150)"
   ]
  },
  {
   "cell_type": "markdown",
   "id": "bc3f592a",
   "metadata": {},
   "source": [
    "### 自带数据集"
   ]
  },
  {
   "cell_type": "markdown",
   "id": "3494f50f",
   "metadata": {},
   "source": [
    "和 Scikit-Learn 一样，Keras 本身也自带数据集，从其官网中收集到 7 套。\n",
    "\n",
    "1. Boston housing price regression dataset\n",
    "2. CIFAR10 small image classification\n",
    "3. CIFAR100 small image classification\n",
    "4. IMDB Movie reviews sentiment classification\n",
    "5. Reuters newswire topics classification\n",
    "6. MNIST database of handwritten digits\n",
    "7. Fashion-MNIST database of fashion articles\n",
    "\n",
    "\n",
    "想了解数据的具体描述，去 **https://keras.io/datasets/** 链接。"
   ]
  },
  {
   "cell_type": "markdown",
   "id": "098fe237",
   "metadata": {},
   "source": [
    "![SegmentLocal](contents/default-data1.gif \"segment\")"
   ]
  },
  {
   "cell_type": "raw",
   "id": "f6c7109c",
   "metadata": {},
   "source": [
    "<img src=\"contents/default-data1.gif\" width=\"750\" align=\"center\">"
   ]
  },
  {
   "cell_type": "markdown",
   "id": "bdfef7cc",
   "metadata": {},
   "source": [
    "### 数据切分"
   ]
  },
  {
   "cell_type": "markdown",
   "id": "77436ac8",
   "metadata": {},
   "source": [
    "对于以上用 numpy 自定义的各种维度的数据集 (X, y)，用 Scikit-Learn 的子包 model_selection 里的 train_test_split 函数，代码如下：\n",
    "\n",
    "```\n",
    "from sklearn.model_selection import train_test_split\n",
    "X_train, X_test, y_train, y_test = train_test_split( X, y, test_size=0.2 )\n",
    "```"
   ]
  },
  {
   "cell_type": "markdown",
   "id": "4e1e0278",
   "metadata": {},
   "source": [
    "<center> <h1>Keras 里的神经网络</h1> </center>"
   ]
  },
  {
   "cell_type": "markdown",
   "id": "180960f3",
   "metadata": {},
   "source": [
    "组成神经网络的四个方面：\n",
    "\n",
    "1. <font color=\"pink\"><b>层</b></font>（layers）和<font color=\"pink\"><b>模型</b></font>（models）\n",
    "\n",
    "2. <font color=\"pink\"><b>输入</b></font>（input）和<font color=\"pink\"><b>输出</b></font>（output）\n",
    "\n",
    "3. <font color=\"pink\"><b>损失函数</b></font>（loss）\n",
    "\n",
    "4. <font color=\"pink\"><b>优化器</b></font>（optimizer）\n",
    "\n",
    "多个<font color=\"pink\"><b>层</b></font>链接在一起组成了<font color=\"pink\"><b>模型</b></font>，将<font color=\"pink\"><b>输入</b></font>数据映射为预测值。然后<font color=\"pink\"><b>损失函数</b></font>将这些预测值<font color=\"pink\"><b>输出</b></font>，并与目标进行比较，得到损失值，用于衡量网络预测值与预期结果的匹配程度。<font color=\"pink\"><b>优化器</b></font>使用这个损失值来更新网络的权重。\n",
    "\n",
    "下图给出模型、层、输入、输出、损失函数和优化器之间的关系："
   ]
  },
  {
   "cell_type": "code",
   "execution_count": 41,
   "id": "82721f77",
   "metadata": {},
   "outputs": [
    {
     "data": {
      "text/html": [
       "<img src=\"contents/network1.png\" width=\"800\" height=\"150\"/>"
      ],
      "text/plain": [
       "<IPython.core.display.Image object>"
      ]
     },
     "execution_count": 41,
     "metadata": {},
     "output_type": "execute_result"
    }
   ],
   "source": [
    "Image(url= \"contents/network1.png\", width=800, height=150)"
   ]
  },
  {
   "cell_type": "markdown",
   "id": "92c5b8a7",
   "metadata": {},
   "source": [
    "### 层"
   ]
  },
  {
   "cell_type": "markdown",
   "id": "0878097b",
   "metadata": {},
   "source": [
    "神经网络里面的基本数据结构是层，而 Keras 里 layers 也是最基本的模块。\n",
    "\n",
    "不同数据格式或不同数据处理类型需要用到不同的层，比如\n",
    "\n",
    "* 形状为 (样本数，特征数) 的 2D 数据用<font color=\"pink\"><b>全连接层</b></font>，对应 Keras 里面的 Dense\n",
    "\n",
    "* 形状为 (样本数，步长，特征数) 的 3D 序列数据用<font color=\"pink\"><b>循环层</b></font>，对应 Keras 里面的 RNN, GRU 或 LSTM\n",
    "\n",
    "* 形状为 (样本数，宽，高，通道数) 的 4D 图像数据用<font color=\"pink\"><b>二维卷积层</b></font>，对应 Keras 里面的 Conv2D \n",
    "\n",
    "等等。。。"
   ]
  },
  {
   "cell_type": "markdown",
   "id": "045f67d9",
   "metadata": {},
   "source": [
    "### 模型"
   ]
  },
  {
   "cell_type": "markdown",
   "id": "8e9bf116",
   "metadata": {},
   "source": [
    "深度学习模型是层构成的有向无环图。最常见的例子就是层的线性堆叠，将单一输入映射为单一输出（single input to single output）。\n",
    "\n",
    "此外，神经网络还有更复杂的结构，比如"
   ]
  },
  {
   "cell_type": "markdown",
   "id": "0749c981",
   "metadata": {},
   "source": [
    "<center> <h3><font color=\"pink\">多输入（multi-input）模型</font></h3> </center>"
   ]
  },
  {
   "cell_type": "markdown",
   "id": "8a2ade87",
   "metadata": {},
   "source": [
    "用数值型和类别型的数据（下图左边），和图像数据（下图右边）一起来预测房价。"
   ]
  },
  {
   "cell_type": "code",
   "execution_count": 43,
   "id": "644f10e0",
   "metadata": {},
   "outputs": [
    {
     "data": {
      "text/html": [
       "<img src=\"contents/network-model1.png\" width=\"800\" height=\"150\"/>"
      ],
      "text/plain": [
       "<IPython.core.display.Image object>"
      ]
     },
     "execution_count": 43,
     "metadata": {},
     "output_type": "execute_result"
    }
   ],
   "source": [
    "Image(url= \"contents/network-model1.png\", width=800, height=150)"
   ]
  },
  {
   "cell_type": "markdown",
   "id": "82e5bc62",
   "metadata": {},
   "source": [
    "<center> <h3><font color=\"pink\">多输出（multi-output）模型</font></h3> </center>"
   ]
  },
  {
   "cell_type": "markdown",
   "id": "b24b978f",
   "metadata": {},
   "source": [
    "根据图像数据来识别物体（下图左分支）和颜色（下图右分支）。"
   ]
  },
  {
   "cell_type": "code",
   "execution_count": 45,
   "id": "7c47ee37",
   "metadata": {},
   "outputs": [
    {
     "data": {
      "text/html": [
       "<img src=\"contents/network-model2.png\" width=\"800\" height=\"150\"/>"
      ],
      "text/plain": [
       "<IPython.core.display.Image object>"
      ]
     },
     "execution_count": 45,
     "metadata": {},
     "output_type": "execute_result"
    }
   ],
   "source": [
    "Image(url= \"contents/network-model2.png\", width=800, height=150)"
   ]
  },
  {
   "cell_type": "markdown",
   "id": "eca15165",
   "metadata": {},
   "source": [
    "### 损失函数"
   ]
  },
  {
   "cell_type": "markdown",
   "id": "29831a5e",
   "metadata": {},
   "source": [
    "在 Keras 里将<font color=\"pink\"><b>层</b></font>连成<font color=\"pink\"><b>模型</b></font>确定网络架构后，你还需要选择以下两个参数，选择<font color=\"pink\"><b>损失函数</b></font>和设定<font color=\"pink\"><b>优化器</b></font>。\n",
    "\n",
    "在训练过程中需要将最小化<font color=\"pink\"><b>损失函数</b></font>，这它是衡量当前任务是否已成功完成的标准。\n",
    "\n",
    "对于分类、回归、序列预测等常见问题，你可以遵循一些简单的指导原则来选择正确的损失函数。\n",
    "\n",
    "* 对于二分类问题，用二元交叉熵（binary crossentropy）损失函数\n",
    "\n",
    "* 对于多分类问题，用分类交叉熵（categorical crossentropy）损失函数\n",
    "\n",
    "* 对于回归问题，用均方误差（mean-squared error）损失函数\n",
    "\n",
    "* 对于序列学习问题，用联结主义时序分类（CTC，connectionist temporal classification）损失函数\n",
    "\n",
    "有时在面对真正全新的问题时，你还需要自主的设计损失函数，但这个超出本帖的范围了，以后再讲。"
   ]
  },
  {
   "cell_type": "markdown",
   "id": "e423b35f",
   "metadata": {},
   "source": [
    "### 优化器"
   ]
  },
  {
   "cell_type": "markdown",
   "id": "6c5bf044",
   "metadata": {},
   "source": [
    "优化器决定如何基于损失函数对网络进行更新。它执行的是随机梯度下降（stochastic gradient descent，SGD）方法或其变体，目前 Keras 优化器包括\n",
    "\n",
    "* Adagrad\n",
    "\n",
    "* Adadelta\n",
    "\n",
    "* RMSprop\n",
    "\n",
    "* Adam\n",
    "\n",
    "* AdaMax\n",
    "\n",
    "* Nadam\n",
    "\n",
    "* AMSGrad\n",
    "\n",
    "具体每个方法就不细讲了，对算法感兴趣的读者可参考链接 **http://ruder.io/optimizing-gradient-descent/**.\n",
    "\n",
    "借用 Ruder 大神上面文章里的两幅动图对比各种优化算法的表现，图一对比他们在鞍点（saddle point）处的收敛到最优值的速度，SGD 没有收敛，图二从损失函数等值线（contour）看收敛速度，SGD 最慢。"
   ]
  },
  {
   "cell_type": "markdown",
   "id": "246d3ea3",
   "metadata": {},
   "source": [
    "![SegmentLocal](contents/optimizer1.gif \"optimizer1\")"
   ]
  },
  {
   "cell_type": "markdown",
   "id": "8e2e3e99",
   "metadata": {},
   "source": [
    "![SegmentLocal](contents/optimizer2.gif \"optimizer2\")"
   ]
  },
  {
   "cell_type": "markdown",
   "id": "bb66c57e",
   "metadata": {},
   "source": [
    "<center> <h1>Keras 构建模型</h1> </center>"
   ]
  },
  {
   "cell_type": "markdown",
   "id": "cec3bfd9",
   "metadata": {},
   "source": [
    "本节分别用序列式、函数书和子类化，配着 Fashion-MNIST 数据集构建模型，注意为了便于说明 Keras 语法特征，我故意只构建个简单模型，可能不实际，比如分类 Fashion-MNIST，用卷积效果网络好些，干嘛只用全连接网络举例？\n",
    "\n",
    "一切只是便于解说基本核心概念。这些基本点弄清楚了，构建复杂模型和构建简单模型没任何区别。"
   ]
  },
  {
   "cell_type": "markdown",
   "id": "fa0a0da7",
   "metadata": {},
   "source": [
    "### 序列式建模"
   ]
  },
  {
   "cell_type": "markdown",
   "id": "02abab0d",
   "metadata": {},
   "source": [
    "序列式（sequential）建模有两种方式。"
   ]
  },
  {
   "cell_type": "markdown",
   "id": "b3f8c084",
   "metadata": {},
   "source": [
    "<center> <h3><font color=\"pink\">方式 1\n",
    "</font></h3> </center>"
   ]
  },
  {
   "cell_type": "markdown",
   "id": "8195748d",
   "metadata": {},
   "source": [
    "用全连接网络（fully-connected neural network, FCNN）来建模，代码如下：\n",
    "\n",
    "```\n",
    "model = keras.models.Sequential()\n",
    "\n",
    "model.add(keras.layers.Flatten(input_shape=[28,28]))\n",
    "model.add(keras.layers.Dense(100, activation=\"relu\"))\n",
    "model.add(keras.layers.Dense(10, activation=\"softmax\"))\n",
    "```"
   ]
  },
  {
   "cell_type": "markdown",
   "id": "335921e0",
   "metadata": {},
   "source": [
    "首先用 Sequential() 创建一个空模型 ，这个没办法，硬着记住吧。\n",
    "\n",
    "接下来就像搭积木一样，用 add() 函数一层层加 layers，这个操作用代码写出来很自然，但是 layers 有很多种，这里用了两种：\n",
    "\n",
    "* Flatten：顾名思义，就是通过「Flatten 层」把高维数据打平成低维数据，做的就是下图的事。"
   ]
  },
  {
   "cell_type": "code",
   "execution_count": 57,
   "id": "b9206a62",
   "metadata": {},
   "outputs": [
    {
     "data": {
      "text/html": [
       "<img src=\"contents/build-model1.png\" width=\"500\" height=\"100\"/>"
      ],
      "text/plain": [
       "<IPython.core.display.Image object>"
      ]
     },
     "execution_count": 57,
     "metadata": {},
     "output_type": "execute_result"
    }
   ],
   "source": [
    "Image(url= \"contents/build-model1.png\", width=500, height=100)"
   ]
  },
  {
   "cell_type": "markdown",
   "id": "d17a79fe",
   "metadata": {},
   "source": [
    "* Dense：顾名思义，就是通过「Dense 层」把前一层每一个神经元和后一层神经元（除了偏置）两两相连，如下图："
   ]
  },
  {
   "cell_type": "code",
   "execution_count": 59,
   "id": "1b486bf4",
   "metadata": {},
   "outputs": [
    {
     "data": {
      "text/html": [
       "<img src=\"contents/build-model2.png\" width=\"500\" height=\"100\"/>"
      ],
      "text/plain": [
       "<IPython.core.display.Image object>"
      ]
     },
     "execution_count": 59,
     "metadata": {},
     "output_type": "execute_result"
    }
   ],
   "source": [
    "Image(url= \"contents/build-model2.png\", width=500, height=100)"
   ]
  },
  {
   "cell_type": "markdown",
   "id": "a981fdb8",
   "metadata": {},
   "source": [
    "层的大方向弄清楚后，让我们看看里面的参数\n",
    "\n",
    "* Flatten( <font color=\"red\">input_shape=[28,28]</font> )\n",
    "\n",
    "* Dense( <font color=\"red\">100</font>, <font color=\"blue\">activation='relu'</font> )\n",
    "\n",
    "* Dense( <font color=\"red\">10</font>, <font color=\"blue\">activation='softmax'</font> ) \n",
    "\n",
    "每个层的第一个参数都是设定该层输出数据的维度。比如\n",
    "\n",
    "* Flatten 层输出形状 <font color=\"red\">784</font> 的一维数据\n",
    "\n",
    "* 第一个 Dense 层输出形状 <font color=\"red\">100</font> 的一维数据\n",
    "\n",
    "* 第二个 Dense 层输出形状 <font color=\"red\">10</font> 的一维数据\n",
    "\n",
    "在 Keras 里不需要设定该层输入数据的维度，为什么呢？很简单，上一层的输出数据维度 = 该层的输入数据维度！Keras 会自动帮你连起来，那么\n",
    "\n",
    "* Flatten 层接受形状 <font color=\"red\">28 × 28</font> 的二维数据，输出形状 <font color=\"red\">784</font> 的一维数据\n",
    "\n",
    "* 第一个 Dense 层接受形状 <font color=\"red\">100</font> 的一维数据，输出形状 <font color=\"red\">10</font> 的一维数据\n",
    "\n",
    "* 第二个 Dense 层接受形状 <font color=\"red\">10</font> 的一维数据，输出形状 <font color=\"red\">10</font> 的一维数据\n",
    "\n",
    "每个层（除了 Flatten 层）的第二个参数设定了<font color=\"blue\"><b>激活函数</b></font>的方式，比如\n",
    "\n",
    "* 第一个 Dense 层用 <font color=\"blue\">relu</font>，防止梯度消失\n",
    "\n",
    "* 第二个 Dense 层用 <font color=\"blue\">softmax</font>，因为 Fashion-MNIST 是个多分类问题"
   ]
  },
  {
   "cell_type": "code",
   "execution_count": 60,
   "id": "639aa073",
   "metadata": {},
   "outputs": [],
   "source": [
    "model = keras.models.Sequential()\n",
    "\n",
    "model.add(keras.layers.Flatten(input_shape=[28,28]))\n",
    "model.add(keras.layers.Dense(100, activation=\"relu\"))\n",
    "model.add(keras.layers.Dense(10, activation=\"softmax\"))"
   ]
  },
  {
   "cell_type": "code",
   "execution_count": 61,
   "id": "b1f58019",
   "metadata": {},
   "outputs": [
    {
     "name": "stdout",
     "output_type": "stream",
     "text": [
      "Model: \"sequential\"\n",
      "_________________________________________________________________\n",
      "Layer (type)                 Output Shape              Param #   \n",
      "=================================================================\n",
      "flatten (Flatten)            (None, 784)               0         \n",
      "_________________________________________________________________\n",
      "dense (Dense)                (None, 100)               78500     \n",
      "_________________________________________________________________\n",
      "dense_1 (Dense)              (None, 10)                1010      \n",
      "=================================================================\n",
      "Total params: 79,510\n",
      "Trainable params: 79,510\n",
      "Non-trainable params: 0\n",
      "_________________________________________________________________\n"
     ]
    }
   ],
   "source": [
    "model.summary()"
   ]
  },
  {
   "cell_type": "markdown",
   "id": "4dee1f58",
   "metadata": {},
   "source": [
    "该模型自动被命名 sequential，接着一张表分别描述每层的名称类型（layer (type)）、输出形状（Output Shape）和参数个数（Param #）。我们一层层来看\n",
    "\n",
    "1. Flatten 层被命名为 flatten\n",
    "\n",
    "> a. 输出形状是 (<font color=\"pink\"><b>None</b></font>, 784)，784 好理解，就是 28×28 打平之后的维度，这个 <font color=\"pink\"><b>None</b></font> 其实是样本数，更严谨的讲是一批 (batch) 里面的样本数。为了代码简洁，这个「0 维」的样本数在建模时通常不需要显性写出来。\n",
    "\n",
    "> b. 参数个数为 0，因为打平只是重塑数组，不需要任何参数来完成重塑动作。\n",
    "\n",
    "2. 第一个 Dense 层被命名为 dense\n",
    "\n",
    "> a. 输出形状是 (<font color=\"pink\"><b>None</b></font>, 100)，好理解。\n",
    "\n",
    "> b. 参数个数为 78500，为什么不是 784×100 = 78400 呢？别忘了<font color=\"pink\"><b>偏置项</b></font>（bias）哦，(784+<font color=\"pink\"><b>1</b></font>)×100 = 78500。\n",
    "\n",
    "3. 第二个 Dense 层被命名为 dense_1\n",
    "\n",
    "> a. 输出形状是 (<font color=\"pink\"><b>None</b></font>, 10)，好理解。\n",
    "\n",
    "> b. 参数个数为 1010，考虑<font color=\"pink\"><b>偏置项</b></font>，(100+<font color=\"pink\"><b>1</b></font>)×10 = 1010。\n",
    "\n"
   ]
  },
  {
   "cell_type": "markdown",
   "id": "d14f79dc",
   "metadata": {},
   "source": [
    "最下面还列出总参数量 79510，可训练参数量 79510，不可训练参数量 0。为什么还有参数不需要训练呢？你想想迁移学习，把借过来的网络锁住开始的 n 层，只训练最后 1- 2 层，那前面 n 层的参数可不就不参与训练吗？"
   ]
  },
  {
   "cell_type": "markdown",
   "id": "7f0e8e7c",
   "metadata": {},
   "source": [
    "<center> <h3><font color=\"pink\">方式 2\n",
    "</font></h3> </center>"
   ]
  },
  {
   "cell_type": "markdown",
   "id": "20558f7a",
   "metadata": {},
   "source": [
    "另一种方式是不通过`model.add()`来构建模型，而是直接在`Sequential`函数里进行模型构建："
   ]
  },
  {
   "cell_type": "code",
   "execution_count": 65,
   "id": "ca7eab81",
   "metadata": {},
   "outputs": [],
   "source": [
    "model = keras.models.Sequential([\n",
    "    keras.layers.Flatten(input_shape=[28, 28]),\n",
    "    keras.layers.Dense(100, activation='relu'),\n",
    "    keras.layers.Dense(10, activation='softmax')\n",
    "]\n",
    ")"
   ]
  },
  {
   "cell_type": "code",
   "execution_count": 66,
   "id": "25f596a0",
   "metadata": {},
   "outputs": [
    {
     "name": "stdout",
     "output_type": "stream",
     "text": [
      "Model: \"sequential_1\"\n",
      "_________________________________________________________________\n",
      "Layer (type)                 Output Shape              Param #   \n",
      "=================================================================\n",
      "flatten_1 (Flatten)          (None, 784)               0         \n",
      "_________________________________________________________________\n",
      "dense_2 (Dense)              (None, 100)               78500     \n",
      "_________________________________________________________________\n",
      "dense_3 (Dense)              (None, 10)                1010      \n",
      "=================================================================\n",
      "Total params: 79,510\n",
      "Trainable params: 79,510\n",
      "Non-trainable params: 0\n",
      "_________________________________________________________________\n"
     ]
    }
   ],
   "source": [
    "model.summary()"
   ]
  },
  {
   "cell_type": "markdown",
   "id": "d8fb5867",
   "metadata": {},
   "source": [
    "我们可以用 model.layers[n].name 来获取第 n 层的名称"
   ]
  },
  {
   "cell_type": "code",
   "execution_count": 67,
   "id": "a8b47cbf",
   "metadata": {},
   "outputs": [
    {
     "data": {
      "text/plain": [
       "'dense_2'"
      ]
     },
     "execution_count": 67,
     "metadata": {},
     "output_type": "execute_result"
    }
   ],
   "source": [
    "model.layers[1].name"
   ]
  },
  {
   "cell_type": "markdown",
   "id": "8b095f63",
   "metadata": {},
   "source": [
    "也可以用 get_weights() 来获取每层的权重矩阵 **W** 和偏置向量 **b**"
   ]
  },
  {
   "cell_type": "code",
   "execution_count": 69,
   "id": "17480beb",
   "metadata": {},
   "outputs": [],
   "source": [
    "weights, biases = model.layers[1].get_weights()"
   ]
  },
  {
   "cell_type": "code",
   "execution_count": 70,
   "id": "94df37e0",
   "metadata": {},
   "outputs": [
    {
     "data": {
      "text/plain": [
       "array([[ 0.04554033,  0.07152978, -0.0480089 , ..., -0.07388081,\n",
       "        -0.03977851,  0.03440117],\n",
       "       [-0.04185015,  0.02057876, -0.05223041, ..., -0.06943776,\n",
       "        -0.04217645,  0.08040081],\n",
       "       [-0.00782525, -0.07347335,  0.06807426, ...,  0.04545474,\n",
       "        -0.06477401,  0.08138549],\n",
       "       ...,\n",
       "       [-0.002892  ,  0.03073981,  0.0618494 , ...,  0.02555361,\n",
       "         0.06019288,  0.06800362],\n",
       "       [-0.04635457,  0.01471481, -0.03867951, ..., -0.06568848,\n",
       "        -0.01836874,  0.0179569 ],\n",
       "       [ 0.04376885, -0.01147179, -0.0804202 , ..., -0.07922582,\n",
       "        -0.04473979,  0.0520924 ]], dtype=float32)"
      ]
     },
     "execution_count": 70,
     "metadata": {},
     "output_type": "execute_result"
    }
   ],
   "source": [
    "weights"
   ]
  },
  {
   "cell_type": "code",
   "execution_count": 71,
   "id": "24f3a1e0",
   "metadata": {},
   "outputs": [
    {
     "data": {
      "text/plain": [
       "array([0., 0., 0., 0., 0., 0., 0., 0., 0., 0., 0., 0., 0., 0., 0., 0., 0.,\n",
       "       0., 0., 0., 0., 0., 0., 0., 0., 0., 0., 0., 0., 0., 0., 0., 0., 0.,\n",
       "       0., 0., 0., 0., 0., 0., 0., 0., 0., 0., 0., 0., 0., 0., 0., 0., 0.,\n",
       "       0., 0., 0., 0., 0., 0., 0., 0., 0., 0., 0., 0., 0., 0., 0., 0., 0.,\n",
       "       0., 0., 0., 0., 0., 0., 0., 0., 0., 0., 0., 0., 0., 0., 0., 0., 0.,\n",
       "       0., 0., 0., 0., 0., 0., 0., 0., 0., 0., 0., 0., 0., 0., 0.],\n",
       "      dtype=float32)"
      ]
     },
     "execution_count": 71,
     "metadata": {},
     "output_type": "execute_result"
    }
   ],
   "source": [
    "biases"
   ]
  },
  {
   "cell_type": "markdown",
   "id": "17e4e3eb",
   "metadata": {},
   "source": [
    "当模型还没训练时，W 是随机初始化，而 b 是零初始化。最后检查一下它们的形状。"
   ]
  },
  {
   "cell_type": "code",
   "execution_count": 72,
   "id": "3412b081",
   "metadata": {},
   "outputs": [
    {
     "name": "stdout",
     "output_type": "stream",
     "text": [
      "(784, 100)\n",
      "(100,)\n"
     ]
    }
   ],
   "source": [
    "print( weights.shape )\n",
    "print( biases.shape )"
   ]
  },
  {
   "cell_type": "markdown",
   "id": "0eee0f8f",
   "metadata": {},
   "source": [
    "### 函数式建模"
   ]
  },
  {
   "cell_type": "markdown",
   "id": "2897c9a5",
   "metadata": {},
   "source": [
    "上面的序列式只适用于<font color=\"pink\"><b>线性堆叠层</b></font>的神经网络，但这种假设过于死板，有些网络\n",
    "\n",
    "* 需要多个输入\n",
    "\n",
    "* 需要多个输出\n",
    "\n",
    "* 在层与层之间具有内部分支\n",
    "\n",
    "这使得网络看起来像是层构成的图（graph），而不是层的线性堆叠，这是需要更加通用和灵活建模方式，<font color=\"pink\"><b>函数式</b></font>（functional）建模。\n",
    "\n",
    "本小节还是用上面序列式的简单例子来说明函数式建模，目的只是阐明函数式建模的核心要点，更加实际的案例放在之后的讨论。"
   ]
  },
  {
   "cell_type": "markdown",
   "id": "6db04f9c",
   "metadata": {},
   "source": [
    "首先引入必要的模块，和序列式建模比，注意 **Input** 和 **Model** 是个新东西。"
   ]
  },
  {
   "cell_type": "code",
   "execution_count": 75,
   "id": "9b9930ee",
   "metadata": {},
   "outputs": [],
   "source": [
    "from tensorflow.keras.layers import Input, Flatten, Dense\n",
    "from tensorflow.keras.models import Model\n",
    "\n",
    "input_ = Input(shape=[28, 28])\n",
    "x = Flatten()(input_)\n",
    "x = Dense(100, activation='relu')(x)\n",
    "output = Dense(10, activation='softmax')(x)\n",
    "\n",
    "model = Model(inputs=[input_], outputs=[output])"
   ]
  },
  {
   "cell_type": "markdown",
   "id": "f005136c",
   "metadata": {},
   "source": [
    "函数式建模只用记住一句话：把层当做函数用。有了这句在心，代码秒看懂。\n",
    "\n",
    "* 第二行，把 <font color=\"red\">Flatten()</font> 当成函数 <font color=\"red\">f</font>，化简不就是 x = <font color=\"red\">f</font>(input)\n",
    "\n",
    "* 第三行，把 <font color=\"blue\">Dense(100, activation='relu')</font> 当成函数 <font color=\"blue\">g</font>，化简不就是 x = <font color=\"blue\">g</font>(x)\n",
    "\n",
    "* 第三行，把 <font color=\"green\">Dense(10, activation='softmax')</font> 当成函数 <font color=\"green\">h</font>，化简不就是 output = <font color=\"green\">h</font>(x)\n",
    "\n",
    "这样一层层（函数接着函数）把 input 传递到 output，最后再用 Model() 将他俩建立关系。"
   ]
  },
  {
   "cell_type": "code",
   "execution_count": 76,
   "id": "3e92c5a2",
   "metadata": {},
   "outputs": [
    {
     "name": "stdout",
     "output_type": "stream",
     "text": [
      "Model: \"model\"\n",
      "_________________________________________________________________\n",
      "Layer (type)                 Output Shape              Param #   \n",
      "=================================================================\n",
      "input_1 (InputLayer)         [(None, 28, 28)]          0         \n",
      "_________________________________________________________________\n",
      "flatten_2 (Flatten)          (None, 784)               0         \n",
      "_________________________________________________________________\n",
      "dense_4 (Dense)              (None, 100)               78500     \n",
      "_________________________________________________________________\n",
      "dense_5 (Dense)              (None, 10)                1010      \n",
      "=================================================================\n",
      "Total params: 79,510\n",
      "Trainable params: 79,510\n",
      "Non-trainable params: 0\n",
      "_________________________________________________________________\n"
     ]
    }
   ],
   "source": [
    "model.summary()"
   ]
  },
  {
   "cell_type": "markdown",
   "id": "182f85ef",
   "metadata": {},
   "source": [
    "概要包含的内容和序列式建模产生的一眼，除了多了一个 <font color=\"blue\"><b>InputLayer</b></font>，其他都一样。\n",
    "\n",
    "序列式构建的模型都可以用函数式来完成，反之不行，如果在两者选一，建议只用函数式来构建模型"
   ]
  },
  {
   "cell_type": "code",
   "execution_count": 78,
   "id": "e52e12d6",
   "metadata": {},
   "outputs": [
    {
     "data": {
      "text/html": [
       "<img src=\"contents/build-model3.png\" width=\"800\" height=\"150\"/>"
      ],
      "text/plain": [
       "<IPython.core.display.Image object>"
      ]
     },
     "execution_count": 78,
     "metadata": {},
     "output_type": "execute_result"
    }
   ],
   "source": [
    "Image(url= \"contents/build-model3.png\", width=800, height=150)"
   ]
  },
  {
   "cell_type": "markdown",
   "id": "f5d8b0cd",
   "metadata": {},
   "source": [
    "### 子类化建模"
   ]
  },
  {
   "cell_type": "markdown",
   "id": "3778cfb5",
   "metadata": {},
   "source": [
    "序列式和函数式都是<font color=\"pink\"><b>声明式编程</b></font>（declarative programming）,它描述目标的性质，让计算机明白目标，而非流程。\n",
    "\n",
    "具体来说，它们都是声明哪些层应该按什么顺序来添加，层与层以什么样的方式连接，所有声明完成之后再给模型喂数据开始训练。这种方法有好有快。\n",
    "\n",
    "* 好处：模型很容易保存、复制和分享，模型结构也容易展示和分析，因此调试起来比较容易。\n",
    "\n",
    "* 坏处：是个静态模型，很多情况模型有循环（loops）和条件分支（conditional branching）。这是我们更需要<font color=\"pink\"><b>命令式编程</b></font>（imperative programming）了。\n",
    "\n",
    "<font color=\"pink\"><b>子类化</b></font>（subclassing）建模登场了。"
   ]
  },
  {
   "cell_type": "code",
   "execution_count": 93,
   "id": "fb3ba80f",
   "metadata": {},
   "outputs": [],
   "source": [
    "from tensorflow.keras.layers import Flatten, Dense\n",
    "from tensorflow.keras.models import Model\n",
    "\n",
    "class SomeModel(Model):\n",
    "    \n",
    "    def __init__(self, units=100, num_class=10, **kwargs):\n",
    "        super().__init__(**kwargs)\n",
    "        self.hidden = Dense(units, activation='relu')\n",
    "        self.output_ = Dense(num_class, activation='softmax')\n",
    "        \n",
    "    def call(self, input_):\n",
    "        x = Flatten()(input_)\n",
    "        hidden = self.hidden(x)\n",
    "        output_ = self.output_(hidden)\n",
    "        return output_"
   ]
  },
  {
   "cell_type": "markdown",
   "id": "951a915a",
   "metadata": {},
   "source": [
    "咋一看<font color=\"pink\"><b>子类化</b></font>和<font color=\"pink\"><b>函数式</b></font>非常像，但有个细微差别，构造函数里面只有各种层，没有 input，而做计算的地方全部在 call() 里进行。这样就把创建层和计算两者完全分开。\n",
    "\n",
    "在 call() 你可以尽情发挥想象：用各种 for, if, 甚至低层的 Tensorflow 里面的操作。研究员比较喜欢用子类化构建模型，他们可以尝试不同的点子。"
   ]
  },
  {
   "cell_type": "markdown",
   "id": "c0b4ea31",
   "metadata": {},
   "source": [
    "<center> <h1>Keras 编译模型</h1> </center>"
   ]
  },
  {
   "cell_type": "markdown",
   "id": "062fe25c",
   "metadata": {},
   "source": [
    "当构建模型完毕，接着需要编译（compile）模型，需要设定三点：\n",
    "\n",
    "1. 根据要解决的任务来选择<font color=\"pink\"><b>损失函数</b></font>\n",
    "\n",
    "2. 选取理想的<font color=\"pink\"><b>优化器</b></font>\n",
    "\n",
    "3. 选取想<font color=\"pink\"><b>监控的指标</b></font>\n",
    "\n",
    "代码如下："
   ]
  },
  {
   "cell_type": "code",
   "execution_count": 83,
   "id": "d292e106",
   "metadata": {},
   "outputs": [],
   "source": [
    "model.compile(\n",
    "    loss='sparse_categorical_crossentropy',\n",
    "    optimizer='adam',\n",
    "    metrics=['accuracy']\n",
    ")"
   ]
  },
  {
   "cell_type": "markdown",
   "id": "a525c824",
   "metadata": {},
   "source": [
    "### 损失函数 loss"
   ]
  },
  {
   "cell_type": "markdown",
   "id": "6431ab3c",
   "metadata": {},
   "source": [
    "常见问题类型的最后一层激活和损失函数，可供选择：\n",
    "\n",
    "* **二分类问题**：最后一层激活函数是 sigmoid，损失函数是 binary_crossentropy\n",
    "\n",
    "* **多分类问题**：最后一层激活函数是 softmax，损失函数是 categorical_crossentropy\n",
    "\n",
    "* **多标签问题**：最后一层激活函数是 sigmoid，损失函数是 binary_crossentropy\n",
    "\n",
    "* **回归问题**：最后一层无激活函数是，损失函数是 mse\n",
    "\n",
    "Fashion_MNIST 是一个十分类问题，因此损失函数是 categorical_crossentropy。"
   ]
  },
  {
   "cell_type": "markdown",
   "id": "837326a7",
   "metadata": {},
   "source": [
    "### 优化器 optimizer"
   ]
  },
  {
   "cell_type": "markdown",
   "id": "809b094b",
   "metadata": {},
   "source": [
    "大多数情况下，使用 adam 和 rmsprop 及其默认的学习率是稳妥的。本例中选择的是 adam。\n",
    "\n",
    "除了通过<font color=\"pink\"><b>名称</b></font>来调用优化器 model.compile('名称')，我们还可以通过<font color=\"pink\"><b>实例化对象</b></font>来调用优化器 model.compile('优化器')。选取几个对比如下：\n",
    "\n",
    "```\n",
    "名称：SGD \n",
    "对象：SGD(lr=0.01, momentum=0.0, decay=0.0, nesterov=False)\n",
    "```\n",
    "\n",
    "```\n",
    "名称：RMSprop\n",
    "对象：RMSprop(lr=0.001, rho=0.9, epsilon=None, decay=0.0)\n",
    "```\n",
    "\n",
    "```\n",
    "名称：Adagrad\n",
    "对象：Adagrad(lr=0.01, epsilon=None, decay=0.0)\n",
    "```\n",
    "\n",
    "```\n",
    "名称：Adam\n",
    "对象：Adam(lr=0.001, beta_1=0.9, beta_2=0.999, epsilon=None, decay=0.0, amsgrad=False)\n",
    "```\n",
    "\n",
    "这些优化器对象都在 keras.optimizer 命名空间下。使用优化器对象来编译模型的好处是可以调节里面的超参数比如学习率 lr，使用名称则来编译模型只能采用优化器的默认参数，比如用 Adam 里面的学习率 0.001。"
   ]
  },
  {
   "cell_type": "markdown",
   "id": "ec9528fe",
   "metadata": {},
   "source": [
    "### 指标 metrics"
   ]
  },
  {
   "cell_type": "markdown",
   "id": "1f9c49ea",
   "metadata": {},
   "source": [
    "指标和损失函数一样，都可以通过用<font color=\"pink\"><b>名称</b></font>或<font color=\"pink\"><b>实例化对象</b></font>来调用，在本例中的指标是精度，那么可写成\n",
    "\n",
    "-  **名称**：metrics = ['acc']\n",
    "\n",
    "-  **对象**：metrics = [metrics.categorical_accuracy])\n",
    "\n",
    "指标不会用于训练过程，只是让我们监控模型训练时的表现，常见的指标如下："
   ]
  },
  {
   "cell_type": "markdown",
   "id": "38d7164e",
   "metadata": {},
   "source": [
    "![SegmentLocal](contents/compile-model1.gif \"optimizer1\")"
   ]
  },
  {
   "cell_type": "markdown",
   "id": "f45e6f83",
   "metadata": {},
   "source": [
    "除了 Keras 自带指标，我们还可以自定指标，下列的 mean_pred 就是自定义指标（该指标计算预测的平均值）。"
   ]
  },
  {
   "cell_type": "code",
   "execution_count": 84,
   "id": "32ecfa8b",
   "metadata": {},
   "outputs": [],
   "source": [
    "def mean_pred(y_true, y_pred):\n",
    "    return K.mean(y_pred)\n",
    "\n",
    "model.compile(\n",
    "    optimizer='sgd',\n",
    "    loss='binary_crossentropy',\n",
    "    metrics=['acc', mean_pred]\n",
    ")"
   ]
  },
  {
   "cell_type": "markdown",
   "id": "2fd4b7dc",
   "metadata": {},
   "source": [
    "<center> <h1>Keras 拟合模型</h1> </center>"
   ]
  },
  {
   "cell_type": "code",
   "execution_count": 87,
   "id": "77d9a5d6",
   "metadata": {},
   "outputs": [],
   "source": [
    "import tensorflow.keras as keras\n",
    "import tensorflow.keras.datasets.fashion_mnist as fashion_mnist"
   ]
  },
  {
   "cell_type": "code",
   "execution_count": 88,
   "id": "ee9c53c9",
   "metadata": {},
   "outputs": [
    {
     "name": "stdout",
     "output_type": "stream",
     "text": [
      "Downloading data from https://storage.googleapis.com/tensorflow/tf-keras-datasets/train-labels-idx1-ubyte.gz\n",
      "32768/29515 [=================================] - 0s 1us/step\n",
      "Downloading data from https://storage.googleapis.com/tensorflow/tf-keras-datasets/train-images-idx3-ubyte.gz\n",
      "26427392/26421880 [==============================] - 10s 0us/step\n",
      "Downloading data from https://storage.googleapis.com/tensorflow/tf-keras-datasets/t10k-labels-idx1-ubyte.gz\n",
      "8192/5148 [===============================================] - 0s 0us/step\n",
      "Downloading data from https://storage.googleapis.com/tensorflow/tf-keras-datasets/t10k-images-idx3-ubyte.gz\n",
      "4423680/4422102 [==============================] - 2s 0us/step\n"
     ]
    }
   ],
   "source": [
    "(x_train, y_train), (x_test, y_test) = fashion_mnist.load_data()\n",
    "assert x_train.shape == (60000, 28, 28)\n",
    "assert x_test.shape == (10000, 28, 28)\n",
    "assert y_train.shape == (60000,)\n",
    "assert y_test.shape == (10000,)"
   ]
  },
  {
   "cell_type": "code",
   "execution_count": 113,
   "id": "7f4067e3",
   "metadata": {},
   "outputs": [],
   "source": [
    "from tensorflow.keras.layers import Flatten, Dense\n",
    "from tensorflow.keras.models import Model\n",
    "\n",
    "class SomeModel(Model):\n",
    "    \n",
    "    def __init__(self, units=100, num_class=10, **kwargs):\n",
    "        super().__init__(**kwargs)\n",
    "        self.hidden = Dense(units, activation='relu')\n",
    "        self.output_ = Dense(num_class, activation='softmax')\n",
    "        \n",
    "    def call(self, input_):\n",
    "        x = Flatten()(input_)\n",
    "        hidden = self.hidden(x)\n",
    "        output_ = self.output_(hidden)\n",
    "        return output_"
   ]
  },
  {
   "cell_type": "code",
   "execution_count": 114,
   "id": "759e73f4",
   "metadata": {},
   "outputs": [],
   "source": [
    "model = SomeModel()\n",
    "input_ = Input(shape=[28, 28])\n",
    "output_ = model.call(input_)\n",
    "built_model = Model(inputs=[input_], outputs=[output_])\n",
    "built_model.compile(\n",
    "    loss='sparse_categorical_crossentropy',\n",
    "    optimizer='adam',\n",
    "    metrics=['accuracy']\n",
    ")"
   ]
  },
  {
   "cell_type": "markdown",
   "id": "40e71a90",
   "metadata": {},
   "source": [
    "### 基本操作"
   ]
  },
  {
   "cell_type": "markdown",
   "id": "9ce2f7de",
   "metadata": {},
   "source": [
    "和 Scikit-Learn 一样，Keras 里也用 model.fit() 函数；和 Scikit-Learn 不一样，Keras 会设置要遍历训练数据多少遍，即 epochs，先用 20 遍。"
   ]
  },
  {
   "cell_type": "code",
   "execution_count": 115,
   "id": "158d80ef",
   "metadata": {},
   "outputs": [],
   "source": [
    "import numpy as np\n",
    "my_seed = 1024\n",
    "np.random.seed(my_seed)"
   ]
  },
  {
   "cell_type": "code",
   "execution_count": 116,
   "id": "2cc584de",
   "metadata": {},
   "outputs": [
    {
     "name": "stdout",
     "output_type": "stream",
     "text": [
      "Epoch 1/20\n",
      "1875/1875 [==============================] - 1s 745us/step - loss: 3.2067 - accuracy: 0.6557\n",
      "Epoch 2/20\n",
      "1875/1875 [==============================] - 2s 852us/step - loss: 0.7645 - accuracy: 0.7067\n",
      "Epoch 3/20\n",
      "1875/1875 [==============================] - 1s 739us/step - loss: 0.6437 - accuracy: 0.7562\n",
      "Epoch 4/20\n",
      "1875/1875 [==============================] - 1s 760us/step - loss: 0.5841 - accuracy: 0.7844\n",
      "Epoch 5/20\n",
      "1875/1875 [==============================] - 1s 722us/step - loss: 0.5382 - accuracy: 0.8061\n",
      "Epoch 6/20\n",
      "1875/1875 [==============================] - 1s 723us/step - loss: 0.5216 - accuracy: 0.8140\n",
      "Epoch 7/20\n",
      "1875/1875 [==============================] - 1s 745us/step - loss: 0.5035 - accuracy: 0.8217\n",
      "Epoch 8/20\n",
      "1875/1875 [==============================] - 1s 739us/step - loss: 0.4973 - accuracy: 0.8258\n",
      "Epoch 9/20\n",
      "1875/1875 [==============================] - 1s 743us/step - loss: 0.4906 - accuracy: 0.8256\n",
      "Epoch 10/20\n",
      "1875/1875 [==============================] - 1s 744us/step - loss: 0.4876 - accuracy: 0.8283\n",
      "Epoch 11/20\n",
      "1875/1875 [==============================] - 1s 793us/step - loss: 0.4828 - accuracy: 0.8286\n",
      "Epoch 12/20\n",
      "1875/1875 [==============================] - 1s 763us/step - loss: 0.4785 - accuracy: 0.8296\n",
      "Epoch 13/20\n",
      "1875/1875 [==============================] - 1s 763us/step - loss: 0.4781 - accuracy: 0.8316\n",
      "Epoch 14/20\n",
      "1875/1875 [==============================] - 1s 767us/step - loss: 0.4744 - accuracy: 0.8323\n",
      "Epoch 15/20\n",
      "1875/1875 [==============================] - 1s 786us/step - loss: 0.4757 - accuracy: 0.8298\n",
      "Epoch 16/20\n",
      "1875/1875 [==============================] - 1s 771us/step - loss: 0.4678 - accuracy: 0.8348\n",
      "Epoch 17/20\n",
      "1875/1875 [==============================] - 1s 773us/step - loss: 0.4641 - accuracy: 0.83600s - loss: 0.4615 - \n",
      "Epoch 18/20\n",
      "1875/1875 [==============================] - 2s 820us/step - loss: 0.4685 - accuracy: 0.8332\n",
      "Epoch 19/20\n",
      "1875/1875 [==============================] - 1s 772us/step - loss: 0.4652 - accuracy: 0.8363\n",
      "Epoch 20/20\n",
      "1875/1875 [==============================] - 1s 782us/step - loss: 0.4575 - accuracy: 0.8363\n"
     ]
    },
    {
     "data": {
      "text/plain": [
       "<tensorflow.python.keras.callbacks.History at 0x7f93421da9a0>"
      ]
     },
     "execution_count": 116,
     "metadata": {},
     "output_type": "execute_result"
    }
   ],
   "source": [
    "built_model.fit(x_train, y_train, epochs=20)"
   ]
  },
  {
   "cell_type": "markdown",
   "id": "3db00854",
   "metadata": {},
   "source": [
    "发现 loss 逐渐减少，acc 逐渐提高，这个简单的全连接神经网络在 Fashion_MNIST 上精度在20个epochs里面逐渐提高了，符合我们的预期。"
   ]
  },
  {
   "cell_type": "markdown",
   "id": "40fbdc3c",
   "metadata": {},
   "source": [
    "### 调用函数"
   ]
  },
  {
   "cell_type": "markdown",
   "id": "107456a8",
   "metadata": {},
   "source": [
    "如果项目只要求精度达到 80% 即可，那么我们不用浪费资源把程序跑到底。这是用调用函数（callback）来控制，代码如下："
   ]
  },
  {
   "cell_type": "code",
   "execution_count": 119,
   "id": "43405803",
   "metadata": {},
   "outputs": [],
   "source": [
    "import tensorflow.keras as keras\n",
    "\n",
    "class MyCallback(keras.callbacks.Callback):\n",
    "    def on_epoch_end(self, epoch, logs={}):\n",
    "        if logs.get('accuracy')>0.8:\n",
    "            print(\"\\nReached 80% accuracy so cancelling training!\")\n",
    "            self.model.stop_training = True\n",
    "            \n",
    "my_callback = MyCallback()"
   ]
  },
  {
   "cell_type": "markdown",
   "id": "4c47a62d",
   "metadata": {},
   "source": [
    "回调函数是一个函数的合集，会在训练的阶段中所使用。你可以使用回调函数来查看训练模型的内在状态和统计。你可以传递一个列表的回调函数（作为 callbacks 关键字参数）到 Sequential 或 Model 类型的 .fit() 方法。在训练时，相应的回调函数的方法就会被在各自的阶段被调用。 \n",
    "\n",
    "在本例中，我们定义的是 on_epoch_end()，在每期结束式，一旦精度超过 80%，模型就停止训练。\n",
    "\n",
    "最常见的回调函数是\n",
    "\n",
    "* ModelCheckpoint\n",
    "* EarlyStopping\n",
    "\n",
    "此外而且具体情况，我们可以自定义\n",
    "\n",
    "* on_train_begin()\n",
    "\n",
    "* on_train_end()\n",
    "\n",
    "* on_epoch_begin()\n",
    "\n",
    "* on_epoch_end()\n",
    "\n",
    "* on_batch_begin()\n",
    "\n",
    "* on_batch_end()\n",
    "\n",
    "定义完 callbacks，我们只用把它当做参数传到 model.fit() 里。"
   ]
  },
  {
   "cell_type": "code",
   "execution_count": 120,
   "id": "b53e00b9",
   "metadata": {},
   "outputs": [
    {
     "name": "stdout",
     "output_type": "stream",
     "text": [
      "Epoch 1/40\n",
      "1875/1875 [==============================] - 1s 737us/step - loss: 3.6487 - accuracy: 0.6961\n",
      "Epoch 2/40\n",
      "1875/1875 [==============================] - 2s 871us/step - loss: 0.7574 - accuracy: 0.7369\n",
      "Epoch 3/40\n",
      "1875/1875 [==============================] - 2s 821us/step - loss: 0.7052 - accuracy: 0.7491\n",
      "Epoch 4/40\n",
      "1875/1875 [==============================] - 1s 740us/step - loss: 0.6112 - accuracy: 0.7830\n",
      "Epoch 5/40\n",
      "1875/1875 [==============================] - 1s 719us/step - loss: 0.5797 - accuracy: 0.7916\n",
      "Epoch 6/40\n",
      "1875/1875 [==============================] - 2s 906us/step - loss: 0.5611 - accuracy: 0.7980\n",
      "Epoch 7/40\n",
      "1832/1875 [============================>.] - ETA: 0s - loss: 0.5329 - accuracy: 0.8171\n",
      "Reached 80% accuracy so cancelling training!\n",
      "1875/1875 [==============================] - 1s 744us/step - loss: 0.5338 - accuracy: 0.8171\n"
     ]
    },
    {
     "data": {
      "text/plain": [
       "<tensorflow.python.keras.callbacks.History at 0x7f934b00e580>"
      ]
     },
     "execution_count": 120,
     "metadata": {},
     "output_type": "execute_result"
    }
   ],
   "source": [
    "model = SomeModel()\n",
    "input_ = Input(shape=[28, 28])\n",
    "output_ = model.call(input_)\n",
    "built_model = Model(inputs=[input_], outputs=[output_])\n",
    "built_model.compile(\n",
    "    loss='sparse_categorical_crossentropy',\n",
    "    optimizer='adam',\n",
    "    metrics=['accuracy']\n",
    ")\n",
    "\n",
    "my_seed = 1024\n",
    "np.random.seed(my_seed)\n",
    "\n",
    "built_model.fit(x_train, y_train, epochs=40, callbacks=[my_callback])"
   ]
  },
  {
   "cell_type": "markdown",
   "id": "9eaef1d4",
   "metadata": {},
   "source": [
    "在 Epoch = 7 时，训练精度达到 81.71%，停止训练。"
   ]
  },
  {
   "cell_type": "markdown",
   "id": "2633f8b8",
   "metadata": {},
   "source": [
    "<center> <h1>Keras 预测模型</h1> </center>"
   ]
  },
  {
   "cell_type": "markdown",
   "id": "e092db76",
   "metadata": {},
   "source": [
    "Keras 预测模型和 Scikit-Learn 里一样，都用是 model.predict()。"
   ]
  },
  {
   "cell_type": "code",
   "execution_count": 122,
   "id": "1da66b41",
   "metadata": {},
   "outputs": [
    {
     "name": "stdout",
     "output_type": "stream",
     "text": [
      "[[2.0798412e-24 3.4881233e-21 0.0000000e+00 2.1134179e-15 0.0000000e+00\n",
      "  1.3777153e-01 0.0000000e+00 8.5421968e-03 3.6571389e-14 8.5368627e-01]]\n"
     ]
    }
   ],
   "source": [
    "prob = model.predict( x_test[0:1] )\n",
    "print(prob)"
   ]
  },
  {
   "cell_type": "markdown",
   "id": "758f1e08",
   "metadata": {},
   "source": [
    "在测试集上第一张图上做预测，输出是一个数组，里面 10 个数值代表每个类别预测的概率。看上去是第 10 类（索引为 9）概率最大。\n",
    "\n",
    "Fashion_MNIST 第 10 类是踝靴（Ankle boot):"
   ]
  },
  {
   "cell_type": "code",
   "execution_count": 123,
   "id": "55a7ae45",
   "metadata": {},
   "outputs": [
    {
     "data": {
      "text/html": [
       "<img src=\"contents/predict1.png\" width=\"800\" height=\"150\"/>"
      ],
      "text/plain": [
       "<IPython.core.display.Image object>"
      ]
     },
     "execution_count": 123,
     "metadata": {},
     "output_type": "execute_result"
    }
   ],
   "source": [
    "Image(url= \"contents/predict1.png\", width=800, height=150)"
   ]
  },
  {
   "cell_type": "markdown",
   "id": "70c1f008",
   "metadata": {},
   "source": [
    "我们把图画出来看看，预测是否准确："
   ]
  },
  {
   "cell_type": "code",
   "execution_count": 125,
   "id": "13e08fd3",
   "metadata": {},
   "outputs": [
    {
     "data": {
      "text/plain": [
       "<matplotlib.image.AxesImage at 0x7f934b00eb80>"
      ]
     },
     "execution_count": 125,
     "metadata": {},
     "output_type": "execute_result"
    },
    {
     "data": {
      "image/png": "[encoded data removed]",
      "text/plain": [
       "<Figure size 432x288 with 1 Axes>"
      ]
     },
     "metadata": {
      "needs_background": "light"
     },
     "output_type": "display_data"
    }
   ],
   "source": [
    "import matplotlib.pyplot as plt\n",
    "\n",
    "plt.imshow(x_test[0])"
   ]
  },
  {
   "cell_type": "markdown",
   "id": "4ae856f2",
   "metadata": {},
   "source": [
    "最后用 model.evaluate() 来看看模型在所有测试集上的表现。"
   ]
  },
  {
   "cell_type": "code",
   "execution_count": 126,
   "id": "6de6e44a",
   "metadata": {},
   "outputs": [
    {
     "name": "stdout",
     "output_type": "stream",
     "text": [
      "313/313 [==============================] - 0s 619us/step - loss: 0.5657 - accuracy: 0.8099\n"
     ]
    },
    {
     "data": {
      "text/plain": [
       "[0.5656715035438538, 0.8098999857902527]"
      ]
     },
     "execution_count": 126,
     "metadata": {},
     "output_type": "execute_result"
    }
   ],
   "source": [
    "built_model.evaluate( x_test, y_test )"
   ]
  },
  {
   "cell_type": "markdown",
   "id": "771f085e",
   "metadata": {},
   "source": [
    "训练精度 81.71% 但是测试精度 80.99%. 如果测试精度明显低于训练精度，就有过拟合的征兆。这是需要用验证集了。"
   ]
  },
  {
   "cell_type": "markdown",
   "id": "a7c98312",
   "metadata": {},
   "source": [
    "### 验证集"
   ]
  },
  {
   "cell_type": "markdown",
   "id": "9c2098d6",
   "metadata": {},
   "source": [
    "数据分三个集：<font color=\"pink\"><b>训练集</b></font>（train），<font color=\"pink\"><b>验证集</b></font>（validation），和<font color=\"pink\"><b>测试集</b></font>（test）\n",
    "\n",
    "我们将原来训练集前 5000 个当验证集，剩下的当训练集。"
   ]
  },
  {
   "cell_type": "code",
   "execution_count": 128,
   "id": "bdc972e1",
   "metadata": {},
   "outputs": [],
   "source": [
    "import tensorflow.keras as keras\n",
    "\n",
    "data = keras.datasets.fashion_mnist\n",
    "\n",
    "(x_train_full, y_train_full), (x_test, y_test) = data.load_data()\n",
    "\n",
    "x_valid, x_train = x_train_full[:5000]/255.0, x_train_full[5000:]/255.0\n",
    "y_valid, y_train = y_train_full[:5000], y_train_full[5000:]"
   ]
  },
  {
   "cell_type": "markdown",
   "id": "d640f451",
   "metadata": {},
   "source": [
    "这时来用回调函数关注验证精度 val_acc，一旦超过 90% 就停止训练。"
   ]
  },
  {
   "cell_type": "code",
   "execution_count": 144,
   "id": "dae801a0",
   "metadata": {},
   "outputs": [],
   "source": [
    "import tensorflow.keras as keras\n",
    "\n",
    "class MyCallback(keras.callbacks.Callback):\n",
    "    def on_epoch_end(self, epoch, logs={}):\n",
    "        print(logs)\n",
    "        if logs.get('val_accuracy')>0.90:\n",
    "            print(\"\\nReached 85% validation accuracy so cancelling training!\")\n",
    "            self.model.stop_training = True\n",
    "\n",
    "my_callback = MyCallback()"
   ]
  },
  {
   "cell_type": "markdown",
   "id": "b386c87e",
   "metadata": {},
   "source": [
    "代码基本和上面一样，唯一区别是把 (x_valid, y_valid) 传到 model.fit() 中。"
   ]
  },
  {
   "cell_type": "code",
   "execution_count": 145,
   "id": "5608687b",
   "metadata": {},
   "outputs": [
    {
     "name": "stdout",
     "output_type": "stream",
     "text": [
      "Epoch 1/20\n",
      "1719/1719 [==============================] - ETA: 0s - loss: 0.5132 - accuracy: 0.8205{'loss': 0.5132442712783813, 'accuracy': 0.8205272555351257, 'val_loss': 0.4093701243400574, 'val_accuracy': 0.8568000197410583}\n",
      "1719/1719 [==============================] - 1s 858us/step - loss: 0.5132 - accuracy: 0.8205 - val_loss: 0.4094 - val_accuracy: 0.8568\n",
      "Epoch 2/20\n",
      "1673/1719 [============================>.] - ETA: 0s - loss: 0.3888 - accuracy: 0.8602{'loss': 0.38880088925361633, 'accuracy': 0.8604363799095154, 'val_loss': 0.3547825813293457, 'val_accuracy': 0.8737999796867371}\n",
      "1719/1719 [==============================] - 1s 848us/step - loss: 0.3888 - accuracy: 0.8604 - val_loss: 0.3548 - val_accuracy: 0.8738\n",
      "Epoch 3/20\n",
      "1693/1719 [============================>.] - ETA: 0s - loss: 0.3486 - accuracy: 0.8731{'loss': 0.34850040078163147, 'accuracy': 0.8731454610824585, 'val_loss': 0.35081619024276733, 'val_accuracy': 0.8723999857902527}\n",
      "1719/1719 [==============================] - 1s 839us/step - loss: 0.3485 - accuracy: 0.8731 - val_loss: 0.3508 - val_accuracy: 0.8724\n",
      "Epoch 4/20\n",
      "1664/1719 [============================>.] - ETA: 0s - loss: 0.3226 - accuracy: 0.8810{'loss': 0.3222001791000366, 'accuracy': 0.8811272978782654, 'val_loss': 0.3305954039096832, 'val_accuracy': 0.8835999965667725}\n",
      "1719/1719 [==============================] - 1s 819us/step - loss: 0.3222 - accuracy: 0.8811 - val_loss: 0.3306 - val_accuracy: 0.8836\n",
      "Epoch 5/20\n",
      "1704/1719 [============================>.] - ETA: 0s - loss: 0.3050 - accuracy: 0.8877{'loss': 0.30529218912124634, 'accuracy': 0.8875091075897217, 'val_loss': 0.3211265504360199, 'val_accuracy': 0.8849999904632568}\n",
      "1719/1719 [==============================] - 1s 858us/step - loss: 0.3053 - accuracy: 0.8875 - val_loss: 0.3211 - val_accuracy: 0.8850\n",
      "Epoch 6/20\n",
      "1679/1719 [============================>.] - ETA: 0s - loss: 0.2897 - accuracy: 0.8936{'loss': 0.2892216742038727, 'accuracy': 0.8935999870300293, 'val_loss': 0.3250541388988495, 'val_accuracy': 0.8849999904632568}\n",
      "1719/1719 [==============================] - 1s 844us/step - loss: 0.2892 - accuracy: 0.8936 - val_loss: 0.3251 - val_accuracy: 0.8850\n",
      "Epoch 7/20\n",
      "1654/1719 [===========================>..] - ETA: 0s - loss: 0.2759 - accuracy: 0.8982{'loss': 0.2769773006439209, 'accuracy': 0.8977272510528564, 'val_loss': 0.3221609890460968, 'val_accuracy': 0.8831999897956848}\n",
      "1719/1719 [==============================] - 1s 854us/step - loss: 0.2770 - accuracy: 0.8977 - val_loss: 0.3222 - val_accuracy: 0.8832\n",
      "Epoch 8/20\n",
      "1706/1719 [============================>.] - ETA: 0s - loss: 0.2676 - accuracy: 0.8999{'loss': 0.2671540677547455, 'accuracy': 0.9001454710960388, 'val_loss': 0.3294735550880432, 'val_accuracy': 0.8835999965667725}\n",
      "1719/1719 [==============================] - 2s 910us/step - loss: 0.2672 - accuracy: 0.9001 - val_loss: 0.3295 - val_accuracy: 0.8836\n",
      "Epoch 9/20\n",
      "1705/1719 [============================>.] - ETA: 0s - loss: 0.2567 - accuracy: 0.9048{'loss': 0.2562839984893799, 'accuracy': 0.904981791973114, 'val_loss': 0.3130593001842499, 'val_accuracy': 0.8934000134468079}\n",
      "1719/1719 [==============================] - 1s 834us/step - loss: 0.2563 - accuracy: 0.9050 - val_loss: 0.3131 - val_accuracy: 0.8934\n",
      "Epoch 10/20\n",
      "1698/1719 [============================>.] - ETA: 0s - loss: 0.2457 - accuracy: 0.9082{'loss': 0.2461559772491455, 'accuracy': 0.9080908894538879, 'val_loss': 0.321305513381958, 'val_accuracy': 0.8870000243186951}\n",
      "1719/1719 [==============================] - 1s 838us/step - loss: 0.2462 - accuracy: 0.9081 - val_loss: 0.3213 - val_accuracy: 0.8870\n",
      "Epoch 11/20\n",
      "1659/1719 [===========================>..] - ETA: 0s - loss: 0.2371 - accuracy: 0.9121{'loss': 0.23836871981620789, 'accuracy': 0.9115999937057495, 'val_loss': 0.31502142548561096, 'val_accuracy': 0.8925999999046326}\n",
      "1719/1719 [==============================] - 2s 1ms/step - loss: 0.2384 - accuracy: 0.9116 - val_loss: 0.3150 - val_accuracy: 0.8926\n",
      "Epoch 12/20\n",
      "1710/1719 [============================>.] - ETA: 0s - loss: 0.2294 - accuracy: 0.9142{'loss': 0.22972798347473145, 'accuracy': 0.9141091108322144, 'val_loss': 0.30229273438453674, 'val_accuracy': 0.8948000073432922}\n",
      "1719/1719 [==============================] - 2s 873us/step - loss: 0.2297 - accuracy: 0.9141 - val_loss: 0.3023 - val_accuracy: 0.8948\n",
      "Epoch 13/20\n",
      "1710/1719 [============================>.] - ETA: 0s - loss: 0.2245 - accuracy: 0.9164{'loss': 0.2245515137910843, 'accuracy': 0.916418194770813, 'val_loss': 0.32578903436660767, 'val_accuracy': 0.8885999917984009}\n",
      "1719/1719 [==============================] - 1s 862us/step - loss: 0.2246 - accuracy: 0.9164 - val_loss: 0.3258 - val_accuracy: 0.8886\n",
      "Epoch 14/20\n",
      "1716/1719 [============================>.] - ETA: 0s - loss: 0.2163 - accuracy: 0.9185{'loss': 0.21639645099639893, 'accuracy': 0.9184727072715759, 'val_loss': 0.3166322708129883, 'val_accuracy': 0.8944000005722046}\n",
      "1719/1719 [==============================] - 2s 994us/step - loss: 0.2164 - accuracy: 0.9185 - val_loss: 0.3166 - val_accuracy: 0.8944\n",
      "Epoch 15/20\n",
      "1682/1719 [============================>.] - ETA: 0s - loss: 0.2106 - accuracy: 0.9207{'loss': 0.21118414402008057, 'accuracy': 0.9204909205436707, 'val_loss': 0.33093735575675964, 'val_accuracy': 0.8902000188827515}\n",
      "1719/1719 [==============================] - 2s 874us/step - loss: 0.2112 - accuracy: 0.9205 - val_loss: 0.3309 - val_accuracy: 0.8902\n",
      "Epoch 16/20\n",
      "1693/1719 [============================>.] - ETA: 0s - loss: 0.2054 - accuracy: 0.9233{'loss': 0.20511694252490997, 'accuracy': 0.9233272671699524, 'val_loss': 0.3142205476760864, 'val_accuracy': 0.8912000060081482}\n",
      "1719/1719 [==============================] - 2s 886us/step - loss: 0.2051 - accuracy: 0.9233 - val_loss: 0.3142 - val_accuracy: 0.8912\n",
      "Epoch 17/20\n",
      "1700/1719 [============================>.] - ETA: 0s - loss: 0.1998 - accuracy: 0.9250{'loss': 0.1996241807937622, 'accuracy': 0.925000011920929, 'val_loss': 0.33867594599723816, 'val_accuracy': 0.8873999714851379}\n",
      "1719/1719 [==============================] - 2s 1ms/step - loss: 0.1996 - accuracy: 0.9250 - val_loss: 0.3387 - val_accuracy: 0.8874\n",
      "Epoch 18/20\n",
      "1671/1719 [============================>.] - ETA: 0s - loss: 0.1937 - accuracy: 0.9261{'loss': 0.1947108954191208, 'accuracy': 0.9261090755462646, 'val_loss': 0.3276251554489136, 'val_accuracy': 0.8934000134468079}\n",
      "1719/1719 [==============================] - 2s 1ms/step - loss: 0.1947 - accuracy: 0.9261 - val_loss: 0.3276 - val_accuracy: 0.8934\n",
      "Epoch 19/20\n",
      "1693/1719 [============================>.] - ETA: 0s - loss: 0.1923 - accuracy: 0.9270{'loss': 0.19245092570781708, 'accuracy': 0.9270363450050354, 'val_loss': 0.31921514868736267, 'val_accuracy': 0.8916000127792358}\n",
      "1719/1719 [==============================] - 2s 1ms/step - loss: 0.1925 - accuracy: 0.9270 - val_loss: 0.3192 - val_accuracy: 0.8916\n",
      "Epoch 20/20\n",
      "1663/1719 [============================>.] - ETA: 0s - loss: 0.1856 - accuracy: 0.9304{'loss': 0.18609550595283508, 'accuracy': 0.9302545189857483, 'val_loss': 0.32949572801589966, 'val_accuracy': 0.8948000073432922}\n",
      "1719/1719 [==============================] - 2s 949us/step - loss: 0.1861 - accuracy: 0.9303 - val_loss: 0.3295 - val_accuracy: 0.8948\n"
     ]
    }
   ],
   "source": [
    "import tensorflow.keras as keras\n",
    "from tensorflow.keras.layers import Flatten, Dense\n",
    "\n",
    "model = keras.models.Sequential()\n",
    "\n",
    "model.add(Flatten(input_shape=[28, 28]))\n",
    "model.add(Dense(100, activation='relu'))\n",
    "model.add(Dense(10, activation='softmax'))\n",
    "\n",
    "model.compile(\n",
    "    loss = 'sparse_categorical_crossentropy',\n",
    "    optimizer = 'adam',\n",
    "    metrics = ['accuracy']\n",
    ")\n",
    "\n",
    "np.random.seed(1024)\n",
    "\n",
    "history = model.fit(\n",
    "    x_train,\n",
    "    y_train,\n",
    "    epochs=20,\n",
    "    validation_data=(x_valid, y_valid),\n",
    "    callbacks=[my_callback]\n",
    ")"
   ]
  },
  {
   "cell_type": "markdown",
   "id": "b77ce27c",
   "metadata": {},
   "source": [
    "但是验证精度适中没有超过 90%，模型从头训练到完。\n",
    "\n",
    "难道是我们的单层全连接模型太简单？现在数据集可不是 MNIST 而是 Fashion_MNIST 啊，服装的特征还是比数字的特征要丰富多了吧，再怎么样也要弄到卷积神经网络吧。\n",
    "\n",
    "首先引进二维卷积层 Conv2D 和二维最大池化层 MaxPooling2D。在全连接层前我们放了两组 Conv2D + MaxPooling2D。"
   ]
  },
  {
   "cell_type": "code",
   "execution_count": 148,
   "id": "fb750f0b",
   "metadata": {},
   "outputs": [],
   "source": [
    "import tensorflow.keras as keras\n",
    "\n",
    "data = keras.datasets.fashion_mnist\n",
    "\n",
    "(x_train_full, y_train_full), (x_test, y_test) = data.load_data()\n",
    "\n",
    "x_train_full = x_train_full.reshape(60000, 28, 28, 1)\n",
    "x_test = x_test.reshape(10000, 28, 28, 1)\n",
    "\n",
    "x_valid, x_train = x_train_full[:5000]/255.0, x_train_full[5000:]/255.0\n",
    "y_valid, y_train = y_train_full[:5000], y_train_full[5000:]"
   ]
  },
  {
   "cell_type": "code",
   "execution_count": 150,
   "id": "e99e85a7",
   "metadata": {},
   "outputs": [
    {
     "name": "stdout",
     "output_type": "stream",
     "text": [
      "Epoch 1/20\n",
      "1719/1719 [==============================] - 34s 20ms/step - loss: 0.4455 - accuracy: 0.8363 - val_loss: 0.3227 - val_accuracy: 0.8808\n",
      "Epoch 2/20\n",
      "1719/1719 [==============================] - 35s 20ms/step - loss: 0.2984 - accuracy: 0.8889 - val_loss: 0.2754 - val_accuracy: 0.8950\n",
      "Epoch 3/20\n",
      "1719/1719 [==============================] - 36s 21ms/step - loss: 0.2519 - accuracy: 0.9070 - val_loss: 0.2611 - val_accuracy: 0.9004\n",
      "Epoch 4/20\n",
      "1719/1719 [==============================] - 36s 21ms/step - loss: 0.2157 - accuracy: 0.9205 - val_loss: 0.2318 - val_accuracy: 0.9142\n",
      "Epoch 5/20\n",
      "1719/1719 [==============================] - 35s 21ms/step - loss: 0.1920 - accuracy: 0.9280 - val_loss: 0.2431 - val_accuracy: 0.9110\n",
      "Epoch 6/20\n",
      "1719/1719 [==============================] - 35s 21ms/step - loss: 0.1678 - accuracy: 0.9375 - val_loss: 0.2295 - val_accuracy: 0.9178\n",
      "Epoch 7/20\n",
      "1719/1719 [==============================] - 35s 20ms/step - loss: 0.1471 - accuracy: 0.9440 - val_loss: 0.2484 - val_accuracy: 0.9140\n",
      "Epoch 8/20\n",
      "1719/1719 [==============================] - 36s 21ms/step - loss: 0.1278 - accuracy: 0.9523 - val_loss: 0.2546 - val_accuracy: 0.9160\n",
      "Epoch 9/20\n",
      "1719/1719 [==============================] - 35s 20ms/step - loss: 0.1131 - accuracy: 0.9569 - val_loss: 0.2512 - val_accuracy: 0.9204\n",
      "Epoch 10/20\n",
      "1719/1719 [==============================] - 35s 21ms/step - loss: 0.0981 - accuracy: 0.9623 - val_loss: 0.2712 - val_accuracy: 0.9138\n",
      "Epoch 11/20\n",
      "1719/1719 [==============================] - 36s 21ms/step - loss: 0.0853 - accuracy: 0.9679 - val_loss: 0.3109 - val_accuracy: 0.9226\n",
      "Epoch 12/20\n",
      "1719/1719 [==============================] - 36s 21ms/step - loss: 0.0759 - accuracy: 0.9716 - val_loss: 0.3585 - val_accuracy: 0.9082\n",
      "Epoch 13/20\n",
      "1719/1719 [==============================] - 36s 21ms/step - loss: 0.0665 - accuracy: 0.9752 - val_loss: 0.3613 - val_accuracy: 0.9090\n",
      "Epoch 14/20\n",
      "1719/1719 [==============================] - 35s 20ms/step - loss: 0.0584 - accuracy: 0.9777 - val_loss: 0.4012 - val_accuracy: 0.9118\n",
      "Epoch 15/20\n",
      "1719/1719 [==============================] - 34s 20ms/step - loss: 0.0540 - accuracy: 0.9799 - val_loss: 0.4320 - val_accuracy: 0.9108\n",
      "Epoch 16/20\n",
      "1719/1719 [==============================] - 34s 20ms/step - loss: 0.0476 - accuracy: 0.9824 - val_loss: 0.4574 - val_accuracy: 0.9076\n",
      "Epoch 17/20\n",
      "1719/1719 [==============================] - 34s 20ms/step - loss: 0.0450 - accuracy: 0.9830 - val_loss: 0.4500 - val_accuracy: 0.9144\n",
      "Epoch 18/20\n",
      "1719/1719 [==============================] - 35s 20ms/step - loss: 0.0429 - accuracy: 0.9842 - val_loss: 0.4132 - val_accuracy: 0.9198\n",
      "Epoch 19/20\n",
      "1719/1719 [==============================] - 35s 20ms/step - loss: 0.0367 - accuracy: 0.9860 - val_loss: 0.4708 - val_accuracy: 0.9152\n",
      "Epoch 20/20\n",
      "1719/1719 [==============================] - 36s 21ms/step - loss: 0.0366 - accuracy: 0.9866 - val_loss: 0.5071 - val_accuracy: 0.9162\n"
     ]
    }
   ],
   "source": [
    "import tensorflow.keras as keras\n",
    "from tensorflow.keras.layers import Flatten, Dense, Conv2D, MaxPooling2D\n",
    "\n",
    "model = keras.models.Sequential([\n",
    "    Conv2D(64, (3,3), activation='relu', input_shape=(28,28,1)),\n",
    "    MaxPooling2D(2,2),\n",
    "    Conv2D(64, (3,3), activation='relu'),\n",
    "    MaxPooling2D(2,2),\n",
    "    Flatten(),\n",
    "    Dense(128, activation='relu'),\n",
    "    Dense(10, activation='softmax')\n",
    "]\n",
    ")\n",
    "\n",
    "model.compile(\n",
    "    loss = 'sparse_categorical_crossentropy',\n",
    "    optimizer = 'adam',\n",
    "    metrics = ['accuracy']\n",
    ")\n",
    "\n",
    "np.random.seed(1024)\n",
    "\n",
    "history = model.fit(\n",
    "    x_train,\n",
    "    y_train,\n",
    "    epochs=20,\n",
    "    validation_data=(x_valid, y_valid),\n",
    "    # callbacks=[my_callback]\n",
    ")"
   ]
  },
  {
   "cell_type": "markdown",
   "id": "32d2c81a",
   "metadata": {},
   "source": [
    "效果一下子出来了，训练精度 98.66% 但是验证精度只有 91.62%，明显的过拟合。画个图看的更明显。"
   ]
  },
  {
   "cell_type": "code",
   "execution_count": 151,
   "id": "566603c3",
   "metadata": {},
   "outputs": [
    {
     "data": {
      "text/plain": [
       "dict_keys(['loss', 'accuracy', 'val_loss', 'val_accuracy'])"
      ]
     },
     "execution_count": 151,
     "metadata": {},
     "output_type": "execute_result"
    }
   ],
   "source": [
    "history.history.keys()"
   ]
  },
  {
   "cell_type": "code",
   "execution_count": 153,
   "id": "5172678e",
   "metadata": {},
   "outputs": [
    {
     "data": {
      "image/png": "[encoded data removed]",
      "text/plain": [
       "<Figure size 800x400 with 2 Axes>"
      ]
     },
     "metadata": {
      "needs_background": "light"
     },
     "output_type": "display_data"
    }
   ],
   "source": [
    "import matplotlib.pyplot as plt\n",
    "\n",
    "acc = history.history['accuracy']\n",
    "val_acc = history.history['val_accuracy']\n",
    "loss = history.history['loss']\n",
    "val_loss = history.history['val_loss']\n",
    "\n",
    "epochs = range(1, len(acc)+1)\n",
    "\n",
    "plt.figure(figsize=(8,4), dpi=100)\n",
    "\n",
    "plt.subplot(1,2,1)\n",
    "plt.plot(epochs, acc, 'bo', label='Training acc')\n",
    "plt.plot(epochs, val_acc, 'b', label='Validation acc')\n",
    "plt.title('Training and validation accuracy')\n",
    "plt.legend()\n",
    "\n",
    "plt.subplot(1,2,2)\n",
    "plt.plot(epochs, loss, 'bo', label='Training loss')\n",
    "plt.plot(epochs, val_loss, 'b', label='Validation loss')\n",
    "plt.title('Training and validation loss')\n",
    "plt.legend()\n",
    "\n",
    "plt.show()"
   ]
  },
  {
   "cell_type": "markdown",
   "id": "67516c34",
   "metadata": {},
   "source": [
    "解决过拟合，可以用**Dropout**试试。代码和上面一摸一样，在第一个全连接层前加一个 Dropout 层（高亮强调出）。"
   ]
  },
  {
   "cell_type": "code",
   "execution_count": 154,
   "id": "291e5cfe",
   "metadata": {},
   "outputs": [
    {
     "name": "stdout",
     "output_type": "stream",
     "text": [
      "Epoch 1/20\n",
      "1719/1719 [==============================] - 37s 21ms/step - loss: 0.5070 - accuracy: 0.8145 - val_loss: 0.3459 - val_accuracy: 0.8770\n",
      "Epoch 2/20\n",
      "1719/1719 [==============================] - 37s 21ms/step - loss: 0.3549 - accuracy: 0.8702 - val_loss: 0.2930 - val_accuracy: 0.8936\n",
      "Epoch 3/20\n",
      "1719/1719 [==============================] - 37s 22ms/step - loss: 0.3094 - accuracy: 0.8848 - val_loss: 0.2775 - val_accuracy: 0.8964\n",
      "Epoch 4/20\n",
      "1719/1719 [==============================] - 37s 21ms/step - loss: 0.2825 - accuracy: 0.8956 - val_loss: 0.2526 - val_accuracy: 0.9044\n",
      "Epoch 5/20\n",
      "1719/1719 [==============================] - 35s 20ms/step - loss: 0.2635 - accuracy: 0.9013 - val_loss: 0.2403 - val_accuracy: 0.9090\n",
      "Epoch 6/20\n",
      "1719/1719 [==============================] - 35s 21ms/step - loss: 0.2472 - accuracy: 0.9071 - val_loss: 0.2273 - val_accuracy: 0.9142\n",
      "Epoch 7/20\n",
      "1719/1719 [==============================] - 34s 20ms/step - loss: 0.2386 - accuracy: 0.9103 - val_loss: 0.2164 - val_accuracy: 0.9178\n",
      "Epoch 8/20\n",
      "1719/1719 [==============================] - 35s 20ms/step - loss: 0.2267 - accuracy: 0.9153 - val_loss: 0.2323 - val_accuracy: 0.9118\n",
      "Epoch 9/20\n",
      "1719/1719 [==============================] - 35s 20ms/step - loss: 0.2160 - accuracy: 0.9174 - val_loss: 0.2163 - val_accuracy: 0.9186\n",
      "Epoch 10/20\n",
      "1719/1719 [==============================] - 35s 20ms/step - loss: 0.2059 - accuracy: 0.9217 - val_loss: 0.2201 - val_accuracy: 0.9214\n",
      "Epoch 11/20\n",
      "1719/1719 [==============================] - 36s 21ms/step - loss: 0.2006 - accuracy: 0.9238 - val_loss: 0.2182 - val_accuracy: 0.9166\n",
      "Epoch 12/20\n",
      "1719/1719 [==============================] - 41s 24ms/step - loss: 0.1926 - accuracy: 0.9266 - val_loss: 0.2084 - val_accuracy: 0.9200\n",
      "Epoch 13/20\n",
      "1719/1719 [==============================] - 38s 22ms/step - loss: 0.1864 - accuracy: 0.9293 - val_loss: 0.2082 - val_accuracy: 0.9226\n",
      "Epoch 14/20\n",
      "1719/1719 [==============================] - 38s 22ms/step - loss: 0.1800 - accuracy: 0.9306 - val_loss: 0.2099 - val_accuracy: 0.9256\n",
      "Epoch 15/20\n",
      "1719/1719 [==============================] - 37s 22ms/step - loss: 0.1748 - accuracy: 0.9333 - val_loss: 0.2135 - val_accuracy: 0.9252\n",
      "Epoch 16/20\n",
      "1719/1719 [==============================] - 39s 22ms/step - loss: 0.1730 - accuracy: 0.9331 - val_loss: 0.2181 - val_accuracy: 0.9186\n",
      "Epoch 17/20\n",
      "1719/1719 [==============================] - 37s 21ms/step - loss: 0.1663 - accuracy: 0.9359 - val_loss: 0.2127 - val_accuracy: 0.9228\n",
      "Epoch 18/20\n",
      "1719/1719 [==============================] - 37s 21ms/step - loss: 0.1633 - accuracy: 0.9369 - val_loss: 0.2133 - val_accuracy: 0.9222\n",
      "Epoch 19/20\n",
      "1719/1719 [==============================] - 38s 22ms/step - loss: 0.1595 - accuracy: 0.9384 - val_loss: 0.2114 - val_accuracy: 0.9230\n",
      "Epoch 20/20\n",
      "1719/1719 [==============================] - 38s 22ms/step - loss: 0.1551 - accuracy: 0.9397 - val_loss: 0.2302 - val_accuracy: 0.9194\n"
     ]
    }
   ],
   "source": [
    "import tensorflow.keras as keras\n",
    "from tensorflow.keras.layers import Flatten, Dense, Conv2D, MaxPooling2D, Dropout\n",
    "\n",
    "model = keras.models.Sequential([\n",
    "    Conv2D(64, (3,3), activation='relu', input_shape=(28,28,1)),\n",
    "    MaxPooling2D(2,2),\n",
    "    Conv2D(64, (3,3), activation='relu'),\n",
    "    MaxPooling2D(2,2),\n",
    "    Flatten(),\n",
    "    Dropout(0.5),  # 在第一个全连接层前加一个 Dropout 层\n",
    "    Dense(128, activation='relu'),\n",
    "    Dense(10, activation='softmax')\n",
    "]\n",
    ")\n",
    "\n",
    "model.compile(\n",
    "    loss = 'sparse_categorical_crossentropy',\n",
    "    optimizer = 'adam',\n",
    "    metrics = ['accuracy']\n",
    ")\n",
    "\n",
    "np.random.seed(1024)\n",
    "\n",
    "history = model.fit(\n",
    "    x_train,\n",
    "    y_train,\n",
    "    epochs=20,\n",
    "    validation_data=(x_valid, y_valid),\n",
    "    # callbacks=[my_callback]\n",
    ")"
   ]
  },
  {
   "cell_type": "markdown",
   "id": "88361645",
   "metadata": {},
   "source": [
    "虽然训练精度降到 93.97% 但是验证精度提高到 91.94%，Dropout 有效地抑制了过拟合。继续上图。"
   ]
  },
  {
   "cell_type": "code",
   "execution_count": 156,
   "id": "6d0f553d",
   "metadata": {},
   "outputs": [
    {
     "data": {
      "image/png": "[encoded data removed]",
      "text/plain": [
       "<Figure size 800x400 with 2 Axes>"
      ]
     },
     "metadata": {
      "needs_background": "light"
     },
     "output_type": "display_data"
    }
   ],
   "source": [
    "import matplotlib.pyplot as plt\n",
    "\n",
    "acc = history.history['accuracy']\n",
    "val_acc = history.history['val_accuracy']\n",
    "loss = history.history['loss']\n",
    "val_loss = history.history['val_loss']\n",
    "\n",
    "epochs = range(1, len(acc)+1)\n",
    "\n",
    "plt.figure(figsize=(8,4), dpi=100)\n",
    "\n",
    "plt.subplot(1,2,1)\n",
    "plt.plot(epochs, acc, 'bo', label='Training acc')\n",
    "plt.plot(epochs, val_acc, 'b', label='Validation acc')\n",
    "plt.title('Training and validation accuracy')\n",
    "plt.legend()\n",
    "\n",
    "plt.subplot(1,2,2)\n",
    "plt.plot(epochs, loss, 'bo', label='Training loss')\n",
    "plt.plot(epochs, val_loss, 'b', label='Validation loss')\n",
    "plt.title('Training and validation loss')\n",
    "plt.legend()\n",
    "\n",
    "plt.show()"
   ]
  },
  {
   "cell_type": "markdown",
   "id": "b9ae9e4f",
   "metadata": {},
   "source": [
    "<center> <h1>Keras 保存模型</h1> </center>"
   ]
  },
  {
   "cell_type": "markdown",
   "id": "dee63777",
   "metadata": {},
   "source": [
    "花费很长时间辛苦训练的模型不保存下次再从头开始训练太傻了。\n",
    "\n",
    "对于用序列式和函数式构建的模型可以用 model.save() 来保存："
   ]
  },
  {
   "cell_type": "code",
   "execution_count": 158,
   "id": "35927d7a",
   "metadata": {},
   "outputs": [],
   "source": [
    "model.save(\"my_keras_model.h5\")"
   ]
  },
  {
   "cell_type": "markdown",
   "id": "7ed33233",
   "metadata": {},
   "source": [
    "加载可用 models 命名空间里面的 load_model() 函数："
   ]
  },
  {
   "cell_type": "code",
   "execution_count": 160,
   "id": "035ea25d",
   "metadata": {},
   "outputs": [],
   "source": [
    "model = keras.models.load_model(\"my_keras_model.h5\")"
   ]
  },
  {
   "cell_type": "markdown",
   "id": "190b131d",
   "metadata": {},
   "source": [
    "用子类化构建的模型不能用上面的 save 和 load 来保存和加载，它对应的方式是\n",
    "\n",
    "* save_weights()\n",
    "\n",
    "* load_weights()\n",
    "\n",
    "虽然没能保存模型所有的东西，但是保存了最重要的参数，这就够了。"
   ]
  },
  {
   "cell_type": "markdown",
   "id": "59cd1602",
   "metadata": {},
   "source": [
    "\n",
    "<p style=\"text-align:right\">Aug 6th, 2021</p>"
   ]
  }
 ],
 "metadata": {
  "kernelspec": {
   "display_name": "Python 3",
   "language": "python",
   "name": "python3"
  },
  "language_info": {
   "codemirror_mode": {
    "name": "ipython",
    "version": 3
   },
   "file_extension": ".py",
   "mimetype": "text/x-python",
   "name": "python",
   "nbconvert_exporter": "python",
   "pygments_lexer": "ipython3",
   "version": "3.8.5"
  }
 },
 "nbformat": 4,
 "nbformat_minor": 5
}
